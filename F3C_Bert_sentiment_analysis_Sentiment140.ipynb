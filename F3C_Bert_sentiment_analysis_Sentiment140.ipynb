{
 "cells": [
  {
   "cell_type": "markdown",
   "metadata": {},
   "source": [
    "# Step 3C: BERT Model 3 - BERT sentiment analysis using sentiment140 dataset"
   ]
  },
  {
   "cell_type": "markdown",
   "metadata": {},
   "source": [
    "# using sentiment140 twitter dataset"
   ]
  },
  {
   "cell_type": "markdown",
   "metadata": {},
   "source": [
    "## 1. Required imports"
   ]
  },
  {
   "cell_type": "markdown",
   "metadata": {},
   "source": [
    "### 1.1 Import required libraries"
   ]
  },
  {
   "cell_type": "code",
   "execution_count": 1,
   "metadata": {},
   "outputs": [],
   "source": [
    "#---Neural Network libraries\n",
    "from transformers import BertTokenizer, BertForSequenceClassification, AdamW, get_linear_schedule_with_warmup            #huggingface transformers library\n",
    "import tensorflow as tf                                                                                                  #tensorflow library         \n",
    "import torch                                                                                                             #pytorch library\n",
    "import torch.nn.functional as Func\n",
    "import gc\n",
    "from torch.utils.data import Dataset, DataLoader, TensorDataset, RandomSampler, SequentialSampler                        #for loading data into our model\n",
    "\n",
    "#---Data processing\n",
    "from sklearn.model_selection import train_test_split                                                                     #for splitting data into training, testing and validation\n",
    "from sklearn.metrics import f1_score\n",
    "import pandas as pd                                                                                                      #for using data in the form of dataframes\n",
    "import numpy as np\n",
    "import re                                                                                                                #for data manipulation when cleaning datasets\n",
    "\n",
    "#---Visualization libraries\n",
    "import seaborn as sns\n",
    "import matplotlib.pyplot as plt\n",
    "from tqdm.notebook import tqdm\n",
    "\n",
    "# from transformers import InputExample, InputFeatures"
   ]
  },
  {
   "cell_type": "code",
   "execution_count": 2,
   "metadata": {},
   "outputs": [
    {
     "data": {
      "application/vnd.jupyter.widget-view+json": {
       "model_id": "4995548c7f06445cb95be424ceaa1d16",
       "version_major": 2,
       "version_minor": 0
      },
      "text/plain": [
       "IntSlider(value=0)"
      ]
     },
     "metadata": {},
     "output_type": "display_data"
    }
   ],
   "source": [
    "import ipywidgets as widgets\n",
    "widgets.IntSlider()"
   ]
  },
  {
   "cell_type": "markdown",
   "metadata": {},
   "source": [
    "### 1.2 Import training data to train the BERT model\n",
    "- *This dataset is from Sentiment140 - http://help.sentiment140.com/for-students*\n",
    "- *We only pick the required columns from the dataset*"
   ]
  },
  {
   "cell_type": "code",
   "execution_count": 31,
   "metadata": {},
   "outputs": [
    {
     "data": {
      "text/html": [
       "<div>\n",
       "<style scoped>\n",
       "    .dataframe tbody tr th:only-of-type {\n",
       "        vertical-align: middle;\n",
       "    }\n",
       "\n",
       "    .dataframe tbody tr th {\n",
       "        vertical-align: top;\n",
       "    }\n",
       "\n",
       "    .dataframe thead th {\n",
       "        text-align: right;\n",
       "    }\n",
       "</style>\n",
       "<table border=\"1\" class=\"dataframe\">\n",
       "  <thead>\n",
       "    <tr style=\"text-align: right;\">\n",
       "      <th></th>\n",
       "      <th>text</th>\n",
       "      <th>label</th>\n",
       "    </tr>\n",
       "  </thead>\n",
       "  <tbody>\n",
       "    <tr>\n",
       "      <th>0</th>\n",
       "      <td>really sad</td>\n",
       "      <td>0</td>\n",
       "    </tr>\n",
       "    <tr>\n",
       "      <th>1</th>\n",
       "      <td>soo...my studio fix is nearly done.  this make...</td>\n",
       "      <td>0</td>\n",
       "    </tr>\n",
       "    <tr>\n",
       "      <th>2</th>\n",
       "      <td>@cindyjonas i know! this sucks!</td>\n",
       "      <td>0</td>\n",
       "    </tr>\n",
       "    <tr>\n",
       "      <th>3</th>\n",
       "      <td>@KodeRED1911 Lazy get ur azz in here! Grab a c...</td>\n",
       "      <td>0</td>\n",
       "    </tr>\n",
       "    <tr>\n",
       "      <th>4</th>\n",
       "      <td>@fatpuppy Yeah, that's where I got my hat.  I ...</td>\n",
       "      <td>0</td>\n",
       "    </tr>\n",
       "  </tbody>\n",
       "</table>\n",
       "</div>"
      ],
      "text/plain": [
       "                                                text  label\n",
       "0                                        really sad       0\n",
       "1  soo...my studio fix is nearly done.  this make...      0\n",
       "2                   @cindyjonas i know! this sucks!       0\n",
       "3  @KodeRED1911 Lazy get ur azz in here! Grab a c...      0\n",
       "4  @fatpuppy Yeah, that's where I got my hat.  I ...      0"
      ]
     },
     "execution_count": 31,
     "metadata": {},
     "output_type": "execute_result"
    }
   ],
   "source": [
    "training_data = pd.read_csv(r\"C:\\Users\\Karthik\\Desktop\\Dissertation\\BERT\\Training dataset\\Sentiment140.csv\", engine='python', names=['label','tweet_id','date', 'query_type', 'user', 'text'], index_col=False)\n",
    "training_data = pd.concat([training_data.query('label==0').sample(n=25000),training_data.query('label==4').sample(n=25000)])\n",
    "training_data = training_data[['text', 'label']]\n",
    "training_data.label = training_data.label.apply(lambda x: 1 if x==4 else 0)\n",
    "training_data.reset_index(drop=True, inplace=True)\n",
    "training_data.head()"
   ]
  },
  {
   "cell_type": "markdown",
   "metadata": {},
   "source": [
    "### 1.3 Import reddit and twitter data for which we have to populate the sentiments\n",
    "- *we will use them on the model after the model is trained with the training dataset from kaggle*\n",
    "- *we save data in two dictionaries; one for reddit and one for twitter to make it more organized*### 1.3 Import reddit and twitter data for which we have to populate the sentiments\n",
    "- *we will use them on the model after the model is trained with the training dataset from kaggle*"
   ]
  },
  {
   "cell_type": "code",
   "execution_count": 3,
   "metadata": {},
   "outputs": [],
   "source": [
    "tick_list =  ['AAPL', 'AMC', 'DKNG', 'TSLA', 'AMD', 'BABA']"
   ]
  },
  {
   "cell_type": "code",
   "execution_count": 4,
   "metadata": {},
   "outputs": [],
   "source": [
    "reddit_df_dict = {tick: pd.read_pickle(f\"C:\\\\Users\\\\Karthik\\\\Desktop\\\\Dissertation\\\\Reddit\\\\consolidated_pickle_files\\\\reddit_{tick}_df_for_BERT.pkl\") for tick in tick_list}\n",
    "# reddit_df_dict  "
   ]
  },
  {
   "cell_type": "code",
   "execution_count": 5,
   "metadata": {},
   "outputs": [
    {
     "data": {
      "text/html": [
       "<div>\n",
       "<style scoped>\n",
       "    .dataframe tbody tr th:only-of-type {\n",
       "        vertical-align: middle;\n",
       "    }\n",
       "\n",
       "    .dataframe tbody tr th {\n",
       "        vertical-align: top;\n",
       "    }\n",
       "\n",
       "    .dataframe thead th {\n",
       "        text-align: right;\n",
       "    }\n",
       "</style>\n",
       "<table border=\"1\" class=\"dataframe\">\n",
       "  <thead>\n",
       "    <tr style=\"text-align: right;\">\n",
       "      <th></th>\n",
       "      <th>body</th>\n",
       "      <th>created_utc</th>\n",
       "      <th>id</th>\n",
       "      <th>top</th>\n",
       "      <th>year</th>\n",
       "      <th>month</th>\n",
       "      <th>day</th>\n",
       "      <th>ticker</th>\n",
       "      <th>YearMonDay</th>\n",
       "    </tr>\n",
       "  </thead>\n",
       "  <tbody>\n",
       "    <tr>\n",
       "      <th>0</th>\n",
       "      <td>Non-troll post. I started 2 weeks ago and have...</td>\n",
       "      <td>1609500199</td>\n",
       "      <td>ghp72zs</td>\n",
       "      <td>top</td>\n",
       "      <td>21</td>\n",
       "      <td>Jan</td>\n",
       "      <td>01</td>\n",
       "      <td>TSLA</td>\n",
       "      <td>21Jan01</td>\n",
       "    </tr>\n",
       "    <tr>\n",
       "      <th>1</th>\n",
       "      <td>we eat cornbread on new years day to ensure a ...</td>\n",
       "      <td>1609524808</td>\n",
       "      <td>ghqo6qb</td>\n",
       "      <td>top</td>\n",
       "      <td>21</td>\n",
       "      <td>Jan</td>\n",
       "      <td>01</td>\n",
       "      <td>TSLA</td>\n",
       "      <td>21Jan01</td>\n",
       "    </tr>\n",
       "    <tr>\n",
       "      <th>2</th>\n",
       "      <td>TSLA 850 EOD</td>\n",
       "      <td>1612203941</td>\n",
       "      <td>glmp0gv</td>\n",
       "      <td>top</td>\n",
       "      <td>21</td>\n",
       "      <td>Feb</td>\n",
       "      <td>01</td>\n",
       "      <td>TSLA</td>\n",
       "      <td>21Feb01</td>\n",
       "    </tr>\n",
       "    <tr>\n",
       "      <th>3</th>\n",
       "      <td>joe weisenthal is the ultimate chad( who else ...</td>\n",
       "      <td>1612207510</td>\n",
       "      <td>glmyg66</td>\n",
       "      <td>top</td>\n",
       "      <td>21</td>\n",
       "      <td>Feb</td>\n",
       "      <td>01</td>\n",
       "      <td>TSLA</td>\n",
       "      <td>21Feb01</td>\n",
       "    </tr>\n",
       "    <tr>\n",
       "      <th>4</th>\n",
       "      <td>TSLA 🚀🚀🚀🚀🚀</td>\n",
       "      <td>1612211972</td>\n",
       "      <td>gln9v98</td>\n",
       "      <td>top</td>\n",
       "      <td>21</td>\n",
       "      <td>Feb</td>\n",
       "      <td>01</td>\n",
       "      <td>TSLA</td>\n",
       "      <td>21Feb01</td>\n",
       "    </tr>\n",
       "    <tr>\n",
       "      <th>...</th>\n",
       "      <td>...</td>\n",
       "      <td>...</td>\n",
       "      <td>...</td>\n",
       "      <td>...</td>\n",
       "      <td>...</td>\n",
       "      <td>...</td>\n",
       "      <td>...</td>\n",
       "      <td>...</td>\n",
       "      <td>...</td>\n",
       "    </tr>\n",
       "    <tr>\n",
       "      <th>15125</th>\n",
       "      <td>TSLA Drill Team 6 reporting for duty</td>\n",
       "      <td>1609359381</td>\n",
       "      <td>ghj65jr</td>\n",
       "      <td>top</td>\n",
       "      <td>20</td>\n",
       "      <td>Dec</td>\n",
       "      <td>30</td>\n",
       "      <td>TSLA</td>\n",
       "      <td>20Dec30</td>\n",
       "    </tr>\n",
       "    <tr>\n",
       "      <th>15126</th>\n",
       "      <td>TSLA’s still having them TSLA days I see. Join...</td>\n",
       "      <td>1609359393</td>\n",
       "      <td>ghj66f1</td>\n",
       "      <td>top</td>\n",
       "      <td>20</td>\n",
       "      <td>Dec</td>\n",
       "      <td>30</td>\n",
       "      <td>TSLA</td>\n",
       "      <td>20Dec30</td>\n",
       "    </tr>\n",
       "    <tr>\n",
       "      <th>15127</th>\n",
       "      <td>TSLA 🎰 EOY coming</td>\n",
       "      <td>1609360555</td>\n",
       "      <td>ghj8jam</td>\n",
       "      <td>top</td>\n",
       "      <td>20</td>\n",
       "      <td>Dec</td>\n",
       "      <td>30</td>\n",
       "      <td>TSLA</td>\n",
       "      <td>20Dec30</td>\n",
       "    </tr>\n",
       "    <tr>\n",
       "      <th>15128</th>\n",
       "      <td>Thank fuck I didn't dump my TSLA calls yesterday</td>\n",
       "      <td>1609361591</td>\n",
       "      <td>ghjamup</td>\n",
       "      <td>top</td>\n",
       "      <td>20</td>\n",
       "      <td>Dec</td>\n",
       "      <td>30</td>\n",
       "      <td>TSLA</td>\n",
       "      <td>20Dec30</td>\n",
       "    </tr>\n",
       "    <tr>\n",
       "      <th>15129</th>\n",
       "      <td>What date is TSLA announcing delivery numbers?</td>\n",
       "      <td>1609361685</td>\n",
       "      <td>ghjatox</td>\n",
       "      <td>top</td>\n",
       "      <td>20</td>\n",
       "      <td>Dec</td>\n",
       "      <td>30</td>\n",
       "      <td>TSLA</td>\n",
       "      <td>20Dec30</td>\n",
       "    </tr>\n",
       "  </tbody>\n",
       "</table>\n",
       "<p>15130 rows × 9 columns</p>\n",
       "</div>"
      ],
      "text/plain": [
       "                                                    body  created_utc  \\\n",
       "0      Non-troll post. I started 2 weeks ago and have...   1609500199   \n",
       "1      we eat cornbread on new years day to ensure a ...   1609524808   \n",
       "2                                           TSLA 850 EOD   1612203941   \n",
       "3      joe weisenthal is the ultimate chad( who else ...   1612207510   \n",
       "4                                             TSLA 🚀🚀🚀🚀🚀   1612211972   \n",
       "...                                                  ...          ...   \n",
       "15125               TSLA Drill Team 6 reporting for duty   1609359381   \n",
       "15126  TSLA’s still having them TSLA days I see. Join...   1609359393   \n",
       "15127                                  TSLA 🎰 EOY coming   1609360555   \n",
       "15128   Thank fuck I didn't dump my TSLA calls yesterday   1609361591   \n",
       "15129     What date is TSLA announcing delivery numbers?   1609361685   \n",
       "\n",
       "            id  top year month day ticker YearMonDay  \n",
       "0      ghp72zs  top   21   Jan  01   TSLA    21Jan01  \n",
       "1      ghqo6qb  top   21   Jan  01   TSLA    21Jan01  \n",
       "2      glmp0gv  top   21   Feb  01   TSLA    21Feb01  \n",
       "3      glmyg66  top   21   Feb  01   TSLA    21Feb01  \n",
       "4      gln9v98  top   21   Feb  01   TSLA    21Feb01  \n",
       "...        ...  ...  ...   ...  ..    ...        ...  \n",
       "15125  ghj65jr  top   20   Dec  30   TSLA    20Dec30  \n",
       "15126  ghj66f1  top   20   Dec  30   TSLA    20Dec30  \n",
       "15127  ghj8jam  top   20   Dec  30   TSLA    20Dec30  \n",
       "15128  ghjamup  top   20   Dec  30   TSLA    20Dec30  \n",
       "15129  ghjatox  top   20   Dec  30   TSLA    20Dec30  \n",
       "\n",
       "[15130 rows x 9 columns]"
      ]
     },
     "execution_count": 5,
     "metadata": {},
     "output_type": "execute_result"
    }
   ],
   "source": [
    "reddit_df_dict['TSLA']"
   ]
  },
  {
   "cell_type": "code",
   "execution_count": 6,
   "metadata": {},
   "outputs": [],
   "source": [
    "twitter_df_dict = {tick: pd.read_pickle(f\"C:\\\\Users\\\\Karthik\\\\Desktop\\\\Dissertation\\\\Twitter\\\\consolidated_pickle_files\\\\twitter_{tick}_df_for_BERT.pkl\") for tick in tick_list}"
   ]
  },
  {
   "cell_type": "code",
   "execution_count": 7,
   "metadata": {},
   "outputs": [
    {
     "data": {
      "text/html": [
       "<div>\n",
       "<style scoped>\n",
       "    .dataframe tbody tr th:only-of-type {\n",
       "        vertical-align: middle;\n",
       "    }\n",
       "\n",
       "    .dataframe tbody tr th {\n",
       "        vertical-align: top;\n",
       "    }\n",
       "\n",
       "    .dataframe thead th {\n",
       "        text-align: right;\n",
       "    }\n",
       "</style>\n",
       "<table border=\"1\" class=\"dataframe\">\n",
       "  <thead>\n",
       "    <tr style=\"text-align: right;\">\n",
       "      <th></th>\n",
       "      <th>date</th>\n",
       "      <th>content</th>\n",
       "      <th>likeCount</th>\n",
       "      <th>lang</th>\n",
       "      <th>cleaned_content</th>\n",
       "      <th>year</th>\n",
       "      <th>month</th>\n",
       "      <th>day</th>\n",
       "      <th>ticker</th>\n",
       "      <th>YearMonDay</th>\n",
       "    </tr>\n",
       "  </thead>\n",
       "  <tbody>\n",
       "    <tr>\n",
       "      <th>0</th>\n",
       "      <td>2021-09-18 19:56:59+00:00</td>\n",
       "      <td>@The_RockTrading Bullish on $TSLA this week &amp;a...</td>\n",
       "      <td>1</td>\n",
       "      <td>en</td>\n",
       "      <td>Bullish on $TSLA this week &amp; $Aapl</td>\n",
       "      <td>21</td>\n",
       "      <td>Sep</td>\n",
       "      <td>18</td>\n",
       "      <td>TSLA</td>\n",
       "      <td>21Sep18</td>\n",
       "    </tr>\n",
       "    <tr>\n",
       "      <th>1</th>\n",
       "      <td>2021-09-18 04:16:52+00:00</td>\n",
       "      <td>$TSLA now is the same as $aapl in the 80s ! @e...</td>\n",
       "      <td>1</td>\n",
       "      <td>en</td>\n",
       "      <td>$TSLA now is the same as $aapl in the 80s !</td>\n",
       "      <td>21</td>\n",
       "      <td>Sep</td>\n",
       "      <td>18</td>\n",
       "      <td>TSLA</td>\n",
       "      <td>21Sep18</td>\n",
       "    </tr>\n",
       "    <tr>\n",
       "      <th>2</th>\n",
       "      <td>2021-09-16 19:01:28+00:00</td>\n",
       "      <td>Added more $TSLA and $aapl to long, because I ...</td>\n",
       "      <td>0</td>\n",
       "      <td>en</td>\n",
       "      <td>Added more $TSLA and $aapl to long, because I ...</td>\n",
       "      <td>21</td>\n",
       "      <td>Sep</td>\n",
       "      <td>16</td>\n",
       "      <td>TSLA</td>\n",
       "      <td>21Sep16</td>\n",
       "    </tr>\n",
       "    <tr>\n",
       "      <th>3</th>\n",
       "      <td>2021-09-16 15:23:53+00:00</td>\n",
       "      <td>@NeilRog49855230 @Gays4Tesla @TheMaverickWS Th...</td>\n",
       "      <td>3</td>\n",
       "      <td>en</td>\n",
       "      <td>There is plenty of information available on-li...</td>\n",
       "      <td>21</td>\n",
       "      <td>Sep</td>\n",
       "      <td>16</td>\n",
       "      <td>TSLA</td>\n",
       "      <td>21Sep16</td>\n",
       "    </tr>\n",
       "    <tr>\n",
       "      <th>4</th>\n",
       "      <td>2021-09-16 15:23:11+00:00</td>\n",
       "      <td>There is plenty of information available on-li...</td>\n",
       "      <td>0</td>\n",
       "      <td>en</td>\n",
       "      <td>There is plenty of information available on-li...</td>\n",
       "      <td>21</td>\n",
       "      <td>Sep</td>\n",
       "      <td>16</td>\n",
       "      <td>TSLA</td>\n",
       "      <td>21Sep16</td>\n",
       "    </tr>\n",
       "    <tr>\n",
       "      <th>...</th>\n",
       "      <td>...</td>\n",
       "      <td>...</td>\n",
       "      <td>...</td>\n",
       "      <td>...</td>\n",
       "      <td>...</td>\n",
       "      <td>...</td>\n",
       "      <td>...</td>\n",
       "      <td>...</td>\n",
       "      <td>...</td>\n",
       "      <td>...</td>\n",
       "    </tr>\n",
       "    <tr>\n",
       "      <th>179489</th>\n",
       "      <td>2020-06-01 18:42:22+00:00</td>\n",
       "      <td>Normally volatile Tesla $TSLA is the IBD Stock...</td>\n",
       "      <td>1</td>\n",
       "      <td>en</td>\n",
       "      <td>Normally volatile Tesla $TSLA is the IBD Stock...</td>\n",
       "      <td>20</td>\n",
       "      <td>Jun</td>\n",
       "      <td>01</td>\n",
       "      <td>TSLA</td>\n",
       "      <td>20Jun01</td>\n",
       "    </tr>\n",
       "    <tr>\n",
       "      <th>179490</th>\n",
       "      <td>2020-06-01 18:42:10+00:00</td>\n",
       "      <td>Normally volatile Tesla $TSLA is the IBD Stock...</td>\n",
       "      <td>1</td>\n",
       "      <td>en</td>\n",
       "      <td>Normally volatile Tesla $TSLA is the IBD Stock...</td>\n",
       "      <td>20</td>\n",
       "      <td>Jun</td>\n",
       "      <td>01</td>\n",
       "      <td>TSLA</td>\n",
       "      <td>20Jun01</td>\n",
       "    </tr>\n",
       "    <tr>\n",
       "      <th>179491</th>\n",
       "      <td>2020-06-01 18:41:35+00:00</td>\n",
       "      <td>$TSLA up $51.00 from next suggested buy entry ...</td>\n",
       "      <td>1</td>\n",
       "      <td>en</td>\n",
       "      <td>$TSLA up $51.00 from next suggested buy entry ...</td>\n",
       "      <td>20</td>\n",
       "      <td>Jun</td>\n",
       "      <td>01</td>\n",
       "      <td>TSLA</td>\n",
       "      <td>20Jun01</td>\n",
       "    </tr>\n",
       "    <tr>\n",
       "      <th>179492</th>\n",
       "      <td>2020-06-01 18:41:32+00:00</td>\n",
       "      <td>@Desert_Trader81 $TSLA on the move crossing HO...</td>\n",
       "      <td>0</td>\n",
       "      <td>en</td>\n",
       "      <td>$TSLA on the move crossing HOD $885 !!!! 900 w...</td>\n",
       "      <td>20</td>\n",
       "      <td>Jun</td>\n",
       "      <td>01</td>\n",
       "      <td>TSLA</td>\n",
       "      <td>20Jun01</td>\n",
       "    </tr>\n",
       "    <tr>\n",
       "      <th>179493</th>\n",
       "      <td>2020-06-01 18:38:37+00:00</td>\n",
       "      <td>They are going to squeeze $TSLA into the close...</td>\n",
       "      <td>0</td>\n",
       "      <td>en</td>\n",
       "      <td>They are going to squeeze $TSLA into the close...</td>\n",
       "      <td>20</td>\n",
       "      <td>Jun</td>\n",
       "      <td>01</td>\n",
       "      <td>TSLA</td>\n",
       "      <td>20Jun01</td>\n",
       "    </tr>\n",
       "  </tbody>\n",
       "</table>\n",
       "<p>179494 rows × 10 columns</p>\n",
       "</div>"
      ],
      "text/plain": [
       "                             date  \\\n",
       "0       2021-09-18 19:56:59+00:00   \n",
       "1       2021-09-18 04:16:52+00:00   \n",
       "2       2021-09-16 19:01:28+00:00   \n",
       "3       2021-09-16 15:23:53+00:00   \n",
       "4       2021-09-16 15:23:11+00:00   \n",
       "...                           ...   \n",
       "179489  2020-06-01 18:42:22+00:00   \n",
       "179490  2020-06-01 18:42:10+00:00   \n",
       "179491  2020-06-01 18:41:35+00:00   \n",
       "179492  2020-06-01 18:41:32+00:00   \n",
       "179493  2020-06-01 18:38:37+00:00   \n",
       "\n",
       "                                                  content  likeCount lang  \\\n",
       "0       @The_RockTrading Bullish on $TSLA this week &a...          1   en   \n",
       "1       $TSLA now is the same as $aapl in the 80s ! @e...          1   en   \n",
       "2       Added more $TSLA and $aapl to long, because I ...          0   en   \n",
       "3       @NeilRog49855230 @Gays4Tesla @TheMaverickWS Th...          3   en   \n",
       "4       There is plenty of information available on-li...          0   en   \n",
       "...                                                   ...        ...  ...   \n",
       "179489  Normally volatile Tesla $TSLA is the IBD Stock...          1   en   \n",
       "179490  Normally volatile Tesla $TSLA is the IBD Stock...          1   en   \n",
       "179491  $TSLA up $51.00 from next suggested buy entry ...          1   en   \n",
       "179492  @Desert_Trader81 $TSLA on the move crossing HO...          0   en   \n",
       "179493  They are going to squeeze $TSLA into the close...          0   en   \n",
       "\n",
       "                                          cleaned_content year month day  \\\n",
       "0                      Bullish on $TSLA this week & $Aapl   21   Sep  18   \n",
       "1             $TSLA now is the same as $aapl in the 80s !   21   Sep  18   \n",
       "2       Added more $TSLA and $aapl to long, because I ...   21   Sep  16   \n",
       "3       There is plenty of information available on-li...   21   Sep  16   \n",
       "4       There is plenty of information available on-li...   21   Sep  16   \n",
       "...                                                   ...  ...   ...  ..   \n",
       "179489  Normally volatile Tesla $TSLA is the IBD Stock...   20   Jun  01   \n",
       "179490  Normally volatile Tesla $TSLA is the IBD Stock...   20   Jun  01   \n",
       "179491  $TSLA up $51.00 from next suggested buy entry ...   20   Jun  01   \n",
       "179492  $TSLA on the move crossing HOD $885 !!!! 900 w...   20   Jun  01   \n",
       "179493  They are going to squeeze $TSLA into the close...   20   Jun  01   \n",
       "\n",
       "       ticker YearMonDay  \n",
       "0        TSLA    21Sep18  \n",
       "1        TSLA    21Sep18  \n",
       "2        TSLA    21Sep16  \n",
       "3        TSLA    21Sep16  \n",
       "4        TSLA    21Sep16  \n",
       "...       ...        ...  \n",
       "179489   TSLA    20Jun01  \n",
       "179490   TSLA    20Jun01  \n",
       "179491   TSLA    20Jun01  \n",
       "179492   TSLA    20Jun01  \n",
       "179493   TSLA    20Jun01  \n",
       "\n",
       "[179494 rows x 10 columns]"
      ]
     },
     "execution_count": 7,
     "metadata": {},
     "output_type": "execute_result"
    }
   ],
   "source": [
    "twitter_df_dict['TSLA']"
   ]
  },
  {
   "cell_type": "markdown",
   "metadata": {},
   "source": [
    "## 2. Prepare training dataset"
   ]
  },
  {
   "cell_type": "markdown",
   "metadata": {},
   "source": [
    "### 2.1 One-Hot encode the labels"
   ]
  },
  {
   "cell_type": "code",
   "execution_count": 32,
   "metadata": {},
   "outputs": [
    {
     "data": {
      "text/plain": [
       "1    25000\n",
       "0    25000\n",
       "Name: label, dtype: int64"
      ]
     },
     "execution_count": 32,
     "metadata": {},
     "output_type": "execute_result"
    }
   ],
   "source": [
    "training_data.label.value_counts()"
   ]
  },
  {
   "cell_type": "code",
   "execution_count": 33,
   "metadata": {},
   "outputs": [
    {
     "data": {
      "text/html": [
       "<div>\n",
       "<style scoped>\n",
       "    .dataframe tbody tr th:only-of-type {\n",
       "        vertical-align: middle;\n",
       "    }\n",
       "\n",
       "    .dataframe tbody tr th {\n",
       "        vertical-align: top;\n",
       "    }\n",
       "\n",
       "    .dataframe thead th {\n",
       "        text-align: right;\n",
       "    }\n",
       "</style>\n",
       "<table border=\"1\" class=\"dataframe\">\n",
       "  <thead>\n",
       "    <tr style=\"text-align: right;\">\n",
       "      <th></th>\n",
       "      <th>text</th>\n",
       "      <th>label</th>\n",
       "      <th>sentiment</th>\n",
       "    </tr>\n",
       "  </thead>\n",
       "  <tbody>\n",
       "    <tr>\n",
       "      <th>0</th>\n",
       "      <td>really sad</td>\n",
       "      <td>0</td>\n",
       "      <td>negative</td>\n",
       "    </tr>\n",
       "    <tr>\n",
       "      <th>1</th>\n",
       "      <td>soo...my studio fix is nearly done.  this make...</td>\n",
       "      <td>0</td>\n",
       "      <td>negative</td>\n",
       "    </tr>\n",
       "    <tr>\n",
       "      <th>2</th>\n",
       "      <td>@cindyjonas i know! this sucks!</td>\n",
       "      <td>0</td>\n",
       "      <td>negative</td>\n",
       "    </tr>\n",
       "    <tr>\n",
       "      <th>3</th>\n",
       "      <td>@KodeRED1911 Lazy get ur azz in here! Grab a c...</td>\n",
       "      <td>0</td>\n",
       "      <td>negative</td>\n",
       "    </tr>\n",
       "    <tr>\n",
       "      <th>4</th>\n",
       "      <td>@fatpuppy Yeah, that's where I got my hat.  I ...</td>\n",
       "      <td>0</td>\n",
       "      <td>negative</td>\n",
       "    </tr>\n",
       "    <tr>\n",
       "      <th>...</th>\n",
       "      <td>...</td>\n",
       "      <td>...</td>\n",
       "      <td>...</td>\n",
       "    </tr>\n",
       "    <tr>\n",
       "      <th>49995</th>\n",
       "      <td>@Spoonsie sending advil your way</td>\n",
       "      <td>1</td>\n",
       "      <td>positive</td>\n",
       "    </tr>\n",
       "    <tr>\n",
       "      <th>49996</th>\n",
       "      <td>Meh, bye bye Rove. Ima go back to the computer...</td>\n",
       "      <td>1</td>\n",
       "      <td>positive</td>\n",
       "    </tr>\n",
       "    <tr>\n",
       "      <th>49997</th>\n",
       "      <td>Special thanks to Jose for helping me fix the ...</td>\n",
       "      <td>1</td>\n",
       "      <td>positive</td>\n",
       "    </tr>\n",
       "    <tr>\n",
       "      <th>49998</th>\n",
       "      <td>@aureliom Thanks for the #followfriday shout o...</td>\n",
       "      <td>1</td>\n",
       "      <td>positive</td>\n",
       "    </tr>\n",
       "    <tr>\n",
       "      <th>49999</th>\n",
       "      <td>getting ready to have a big graduation party f...</td>\n",
       "      <td>1</td>\n",
       "      <td>positive</td>\n",
       "    </tr>\n",
       "  </tbody>\n",
       "</table>\n",
       "<p>50000 rows × 3 columns</p>\n",
       "</div>"
      ],
      "text/plain": [
       "                                                    text  label sentiment\n",
       "0                                            really sad       0  negative\n",
       "1      soo...my studio fix is nearly done.  this make...      0  negative\n",
       "2                       @cindyjonas i know! this sucks!       0  negative\n",
       "3      @KodeRED1911 Lazy get ur azz in here! Grab a c...      0  negative\n",
       "4      @fatpuppy Yeah, that's where I got my hat.  I ...      0  negative\n",
       "...                                                  ...    ...       ...\n",
       "49995                  @Spoonsie sending advil your way       1  positive\n",
       "49996  Meh, bye bye Rove. Ima go back to the computer...      1  positive\n",
       "49997  Special thanks to Jose for helping me fix the ...      1  positive\n",
       "49998  @aureliom Thanks for the #followfriday shout o...      1  positive\n",
       "49999  getting ready to have a big graduation party f...      1  positive\n",
       "\n",
       "[50000 rows x 3 columns]"
      ]
     },
     "execution_count": 33,
     "metadata": {},
     "output_type": "execute_result"
    }
   ],
   "source": [
    "training_data['sentiment'] = training_data['label'].apply(lambda x: 'positive' if x==1 else 'negative')\n",
    "training_data"
   ]
  },
  {
   "cell_type": "markdown",
   "metadata": {},
   "source": [
    "### 2.2 Data preprocessing"
   ]
  },
  {
   "cell_type": "markdown",
   "metadata": {},
   "source": [
    "#### 2.2.1 Define data preprocessing function"
   ]
  },
  {
   "cell_type": "code",
   "execution_count": 8,
   "metadata": {},
   "outputs": [],
   "source": [
    "def text_preprocessing(text):\n",
    "    text = re.sub(r'(@.*?)[\\s]', ' ', text) #remove hashtags\n",
    "    text = re.sub(r'http\\S+', '', text)    #remove urls\n",
    "    text = re.sub(r'&amp;amp', '&', text)  #remove double amps\n",
    "    text = re.sub(r'\\&amp;', '&', text)    #remove single amps\n",
    "    text = re.sub(r'\\s+', ' ', text)       #reduce multiple spaces into a single space\n",
    "    text = re.sub(r'\\s+-\\s+', ' ', text)\n",
    "    text = text.strip()\n",
    "    return text"
   ]
  },
  {
   "cell_type": "markdown",
   "metadata": {},
   "source": [
    "#### 2.2.2 Preprocess the data"
   ]
  },
  {
   "cell_type": "code",
   "execution_count": 34,
   "metadata": {},
   "outputs": [
    {
     "data": {
      "text/html": [
       "<div>\n",
       "<style scoped>\n",
       "    .dataframe tbody tr th:only-of-type {\n",
       "        vertical-align: middle;\n",
       "    }\n",
       "\n",
       "    .dataframe tbody tr th {\n",
       "        vertical-align: top;\n",
       "    }\n",
       "\n",
       "    .dataframe thead th {\n",
       "        text-align: right;\n",
       "    }\n",
       "</style>\n",
       "<table border=\"1\" class=\"dataframe\">\n",
       "  <thead>\n",
       "    <tr style=\"text-align: right;\">\n",
       "      <th></th>\n",
       "      <th>text</th>\n",
       "      <th>label</th>\n",
       "      <th>sentiment</th>\n",
       "      <th>original_text</th>\n",
       "    </tr>\n",
       "  </thead>\n",
       "  <tbody>\n",
       "    <tr>\n",
       "      <th>0</th>\n",
       "      <td>really sad</td>\n",
       "      <td>0</td>\n",
       "      <td>negative</td>\n",
       "      <td>really sad</td>\n",
       "    </tr>\n",
       "    <tr>\n",
       "      <th>1</th>\n",
       "      <td>soo...my studio fix is nearly done. this makes...</td>\n",
       "      <td>0</td>\n",
       "      <td>negative</td>\n",
       "      <td>soo...my studio fix is nearly done.  this make...</td>\n",
       "    </tr>\n",
       "    <tr>\n",
       "      <th>2</th>\n",
       "      <td>i know! this sucks!</td>\n",
       "      <td>0</td>\n",
       "      <td>negative</td>\n",
       "      <td>@cindyjonas i know! this sucks!</td>\n",
       "    </tr>\n",
       "    <tr>\n",
       "      <th>3</th>\n",
       "      <td>Lazy get ur azz in here! Grab a computer and g...</td>\n",
       "      <td>0</td>\n",
       "      <td>negative</td>\n",
       "      <td>@KodeRED1911 Lazy get ur azz in here! Grab a c...</td>\n",
       "    </tr>\n",
       "    <tr>\n",
       "      <th>4</th>\n",
       "      <td>Yeah, that's where I got my hat. I had so many...</td>\n",
       "      <td>0</td>\n",
       "      <td>negative</td>\n",
       "      <td>@fatpuppy Yeah, that's where I got my hat.  I ...</td>\n",
       "    </tr>\n",
       "  </tbody>\n",
       "</table>\n",
       "</div>"
      ],
      "text/plain": [
       "                                                text  label sentiment  \\\n",
       "0                                         really sad      0  negative   \n",
       "1  soo...my studio fix is nearly done. this makes...      0  negative   \n",
       "2                                i know! this sucks!      0  negative   \n",
       "3  Lazy get ur azz in here! Grab a computer and g...      0  negative   \n",
       "4  Yeah, that's where I got my hat. I had so many...      0  negative   \n",
       "\n",
       "                                       original_text  \n",
       "0                                        really sad   \n",
       "1  soo...my studio fix is nearly done.  this make...  \n",
       "2                   @cindyjonas i know! this sucks!   \n",
       "3  @KodeRED1911 Lazy get ur azz in here! Grab a c...  \n",
       "4  @fatpuppy Yeah, that's where I got my hat.  I ...  "
      ]
     },
     "execution_count": 34,
     "metadata": {},
     "output_type": "execute_result"
    }
   ],
   "source": [
    "#---Make a copy of the original raw text for future reference if required\n",
    "training_data['original_text'] = training_data['text']\n",
    "#---Use the above function to clean the tweet data\n",
    "training_data['text'] = training_data.text.apply(lambda x: text_preprocessing(x))\n",
    "training_data.head()"
   ]
  },
  {
   "cell_type": "markdown",
   "metadata": {},
   "source": [
    "### 2.3 Split the cleaned training data into train and validation datasets\n",
    "- *we do not need a test dataset. This is because we are using the training dataset only to train the BERT model*\n",
    "- *since we are going to use the BERT model to classify a different corpus (reddit and twitter data), splitting the data into training and validation datasets serves our purpose*\n",
    "- *this will also help in having a bigger training dataset*"
   ]
  },
  {
   "cell_type": "code",
   "execution_count": 35,
   "metadata": {},
   "outputs": [
    {
     "data": {
      "text/html": [
       "<div>\n",
       "<style scoped>\n",
       "    .dataframe tbody tr th:only-of-type {\n",
       "        vertical-align: middle;\n",
       "    }\n",
       "\n",
       "    .dataframe tbody tr th {\n",
       "        vertical-align: top;\n",
       "    }\n",
       "\n",
       "    .dataframe thead th {\n",
       "        text-align: right;\n",
       "    }\n",
       "</style>\n",
       "<table border=\"1\" class=\"dataframe\">\n",
       "  <thead>\n",
       "    <tr style=\"text-align: right;\">\n",
       "      <th></th>\n",
       "      <th></th>\n",
       "      <th></th>\n",
       "      <th>text</th>\n",
       "      <th>original_text</th>\n",
       "    </tr>\n",
       "    <tr>\n",
       "      <th>sentiment</th>\n",
       "      <th>label</th>\n",
       "      <th>dataset</th>\n",
       "      <th></th>\n",
       "      <th></th>\n",
       "    </tr>\n",
       "  </thead>\n",
       "  <tbody>\n",
       "    <tr>\n",
       "      <th rowspan=\"2\" valign=\"top\">negative</th>\n",
       "      <th rowspan=\"2\" valign=\"top\">0</th>\n",
       "      <th>train</th>\n",
       "      <td>18750</td>\n",
       "      <td>18750</td>\n",
       "    </tr>\n",
       "    <tr>\n",
       "      <th>val</th>\n",
       "      <td>6250</td>\n",
       "      <td>6250</td>\n",
       "    </tr>\n",
       "    <tr>\n",
       "      <th rowspan=\"2\" valign=\"top\">positive</th>\n",
       "      <th rowspan=\"2\" valign=\"top\">1</th>\n",
       "      <th>train</th>\n",
       "      <td>18750</td>\n",
       "      <td>18750</td>\n",
       "    </tr>\n",
       "    <tr>\n",
       "      <th>val</th>\n",
       "      <td>6250</td>\n",
       "      <td>6250</td>\n",
       "    </tr>\n",
       "  </tbody>\n",
       "</table>\n",
       "</div>"
      ],
      "text/plain": [
       "                          text  original_text\n",
       "sentiment label dataset                      \n",
       "negative  0     train    18750          18750\n",
       "                val       6250           6250\n",
       "positive  1     train    18750          18750\n",
       "                val       6250           6250"
      ]
     },
     "execution_count": 35,
     "metadata": {},
     "output_type": "execute_result"
    }
   ],
   "source": [
    "#---we will use scikit-learn's train_test_split to classify records into train, test or validation dataset\n",
    "x_train, x_val, y_train, y_val =  train_test_split(training_data.index.values,          #x values/ input values \n",
    "                                                   training_data.label.values,          #y values/ output values/ lables\n",
    "                                                   test_size=0.25,                      #percentage of data to be used for test dataset\n",
    "                                                   random_state=17,                     #shuffles the data prior to splitting\n",
    "                                                   stratify=training_data.label.values  #stratification helps when the distribution of data is uneven like in our case where,\n",
    "                                                                                        #we have a lot of negative compared to neutral and positive labels                                                   \n",
    ")\n",
    "\n",
    "#---add a new column to training data to classify records into train and val datasets\n",
    "training_data['dataset'] = 'NA'\n",
    "training_data.loc[x_train, 'dataset'] = 'train'\n",
    "training_data.loc[x_val, 'dataset'] = 'val'\n",
    "\n",
    "training_data.groupby(['sentiment', 'label', 'dataset']).count()"
   ]
  },
  {
   "cell_type": "markdown",
   "metadata": {},
   "source": [
    "### 2.4 Tokenize and encode data"
   ]
  },
  {
   "cell_type": "markdown",
   "metadata": {},
   "source": [
    "#### 2.4.1 Find the max tweet length in the training data\n",
    "- *This is required to be input into the tokenizer*\n",
    "- *BERT expects all its inputs to be of the same length so shorter sentences will be padded to maintain the length*"
   ]
  },
  {
   "cell_type": "code",
   "execution_count": 13,
   "metadata": {},
   "outputs": [
    {
     "data": {
      "text/plain": [
       "220"
      ]
     },
     "execution_count": 13,
     "metadata": {},
     "output_type": "execute_result"
    }
   ],
   "source": [
    "MAX_LEN = training_data['text'].str.len().max()\n",
    "MAX_LEN"
   ]
  },
  {
   "cell_type": "markdown",
   "metadata": {},
   "source": [
    "#### 2.4.2 Initialize huggingface tokenizer and tokenize and encode train and val datasets\n",
    "\n",
    "- *In this step we will be tokenizing and encoding the input side of our datasets (i.e) the tweet comments*\n",
    "- *We will be using batch_encode_plus() method in the tokenizer as our input to the tokenizer will be an array of the tweet column in training_data [training_data[training_data.dataset=='train'].text.values]*\n",
    "- Ref:*https://huggingface.co/transformers/internal/tokenization_utils.html#pretrainedtokenizerbase*"
   ]
  },
  {
   "cell_type": "code",
   "execution_count": 14,
   "metadata": {},
   "outputs": [],
   "source": [
    "#---Initialize bert-base-uncased tokenizer and select the option to convert all text to lowercase\n",
    "tokenizer = BertTokenizer.from_pretrained('bert-base-uncased', do_lower_case=True)"
   ]
  },
  {
   "cell_type": "code",
   "execution_count": 15,
   "metadata": {},
   "outputs": [
    {
     "name": "stderr",
     "output_type": "stream",
     "text": [
      "Truncation was not explicitly activated but `max_length` is provided a specific value, please use `truncation=True` to explicitly truncate examples to max length. Defaulting to 'longest_first' truncation strategy. If you encode pairs of sequences (GLUE-style) with the tokenizer you can select this strategy more precisely by providing a specific strategy to `truncation`.\n",
      "C:\\ProgramData\\Anaconda3\\lib\\site-packages\\transformers\\tokenization_utils_base.py:2184: FutureWarning: The `pad_to_max_length` argument is deprecated and will be removed in a future version, use `padding=True` or `padding='longest'` to pad to the longest sequence in the batch, or use `padding='max_length'` to pad to a max length. In this case, you can give a specific length with `max_length` (e.g. `max_length=45`) or leave max_length to None to pad to the maximal input size of the model (e.g. 512 for Bert).\n",
      "  warnings.warn(\n"
     ]
    }
   ],
   "source": [
    "#---Tokenize and encode train dataset\n",
    "train_enc = tokenizer.batch_encode_plus(training_data[training_data.dataset=='train'].text.values, \n",
    "                                           add_special_tokens=True, \n",
    "                                           return_attention_mask=True, \n",
    "                                           pad_to_max_length=True, \n",
    "                                           max_length=MAX_LEN, \n",
    "                                           return_tensors='pt'\n",
    "                                           )\n",
    "\n",
    "#---Tokenize and encode val dataset\n",
    "val_enc = tokenizer.batch_encode_plus(training_data[training_data.dataset=='val'].text.values, \n",
    "                                         add_special_tokens=True, \n",
    "                                         return_attention_mask=True, \n",
    "                                         pad_to_max_length=True, \n",
    "                                         max_length=MAX_LEN, \n",
    "                                         return_tensors='pt'\n",
    "                                         )"
   ]
  },
  {
   "cell_type": "markdown",
   "metadata": {},
   "source": [
    "### 2.5 Create tensor datasets from the encoded datasets from previous step\n",
    "- *We must split the input_ids(encoded tokens) and attention masks(says which values a model should work on since we padded tweets shorter than 172) from the previous step*\n",
    "- *we must create a tensor dataset with both input(encoded tweets from last step) and also outputs (the one-hot encoded lables)*\n",
    "- *we create a tensor with the outputs so that the TensorDataset method can combine both inputs and outputs*"
   ]
  },
  {
   "cell_type": "code",
   "execution_count": 16,
   "metadata": {},
   "outputs": [
    {
     "data": {
      "text/plain": [
       "(37500, 12500)"
      ]
     },
     "execution_count": 16,
     "metadata": {},
     "output_type": "execute_result"
    }
   ],
   "source": [
    "#---Get the input ids and attention masks from the tokenizer outputs\n",
    "train_input_ids = train_enc['input_ids']\n",
    "train_attn_masks = train_enc['attention_mask']\n",
    "val_input_ids = val_enc['input_ids']\n",
    "val_attn_masks = val_enc['attention_mask']\n",
    "\n",
    "#---Create tensors with the output data\n",
    "train_labels = torch.tensor(training_data[training_data.dataset=='train'].label.values)\n",
    "val_labels = torch.tensor(training_data[training_data.dataset=='val'].label.values)\n",
    "\n",
    "#---Create the required tensor datasets which will be used in the dataloader\n",
    "train_tensor = TensorDataset(train_input_ids, train_attn_masks, train_labels)\n",
    "val_tensor = TensorDataset(val_input_ids, val_attn_masks, val_labels)\n",
    "\n",
    "len(train_tensor), len(val_tensor)"
   ]
  },
  {
   "cell_type": "markdown",
   "metadata": {},
   "source": [
    "### 2.6 Create dataloaders\n",
    "- *We create two dataloaders - one for training data and one for validation data*\n",
    "- *We use random sampling*\n",
    "- *We use a  batch size of 32 in consideration of the low computing power at hand. It is also known that smaller batch sizes converge quicker - this seems like a good choice considering our limited training data*\n"
   ]
  },
  {
   "cell_type": "code",
   "execution_count": 17,
   "metadata": {},
   "outputs": [],
   "source": [
    "batch_size = 16\n",
    "\n",
    "# We Need two different dataloder\n",
    "train_dloader = DataLoader(train_tensor, sampler=RandomSampler(train_tensor), batch_size=batch_size)\n",
    "val_dloader = DataLoader(val_tensor, sampler=RandomSampler(val_tensor), batch_size=batch_size)"
   ]
  },
  {
   "cell_type": "code",
   "execution_count": 18,
   "metadata": {},
   "outputs": [],
   "source": [
    "# for batch in val_dloader:\n",
    "#     display(batch)\n",
    "#     display(\"----=-=-=-=--=-=\")\n",
    "#     for b in batch:\n",
    "#         display(b)"
   ]
  },
  {
   "cell_type": "markdown",
   "metadata": {},
   "source": [
    "## 3. BERT model and performance definitions\n",
    "- *Define BERT model, optimizer, scheduler and performance metrics*\n",
    "- *Ignore the warning because we are going to train the model before using it to classify reddit and twitter data"
   ]
  },
  {
   "cell_type": "markdown",
   "metadata": {},
   "source": [
    "### 3.1 Define the BERT model"
   ]
  },
  {
   "cell_type": "code",
   "execution_count": 19,
   "metadata": {},
   "outputs": [
    {
     "data": {
      "text/plain": [
       "2"
      ]
     },
     "execution_count": 19,
     "metadata": {},
     "output_type": "execute_result"
    }
   ],
   "source": [
    "len(training_data.label.unique())"
   ]
  },
  {
   "cell_type": "code",
   "execution_count": 20,
   "metadata": {},
   "outputs": [
    {
     "name": "stderr",
     "output_type": "stream",
     "text": [
      "Some weights of the model checkpoint at bert-base-uncased were not used when initializing BertForSequenceClassification: ['cls.predictions.bias', 'cls.predictions.transform.dense.bias', 'cls.predictions.transform.dense.weight', 'cls.seq_relationship.weight', 'cls.seq_relationship.bias', 'cls.predictions.transform.LayerNorm.weight', 'cls.predictions.transform.LayerNorm.bias', 'cls.predictions.decoder.weight']\n",
      "- This IS expected if you are initializing BertForSequenceClassification from the checkpoint of a model trained on another task or with another architecture (e.g. initializing a BertForSequenceClassification model from a BertForPreTraining model).\n",
      "- This IS NOT expected if you are initializing BertForSequenceClassification from the checkpoint of a model that you expect to be exactly identical (initializing a BertForSequenceClassification model from a BertForSequenceClassification model).\n",
      "Some weights of BertForSequenceClassification were not initialized from the model checkpoint at bert-base-uncased and are newly initialized: ['classifier.weight', 'classifier.bias']\n",
      "You should probably TRAIN this model on a down-stream task to be able to use it for predictions and inference.\n"
     ]
    }
   ],
   "source": [
    "model = BertForSequenceClassification.from_pretrained(\"bert-base-uncased\",\n",
    "                                                      num_labels=len(training_data.label.unique()),    #Used for better code reproducability instead of initializing a constant value\n",
    "                                                      output_attentions=False,\n",
    "                                                      output_hidden_states=False)"
   ]
  },
  {
   "cell_type": "markdown",
   "metadata": {},
   "source": [
    "### 3.2 Move the model to GPU for better performance"
   ]
  },
  {
   "cell_type": "code",
   "execution_count": 21,
   "metadata": {},
   "outputs": [
    {
     "name": "stdout",
     "output_type": "stream",
     "text": [
      "cuda\n"
     ]
    }
   ],
   "source": [
    "device = torch.device('cuda' if torch.cuda.is_available() else 'cpu')\n",
    "model.to(device) \n",
    "print(device)"
   ]
  },
  {
   "cell_type": "markdown",
   "metadata": {},
   "source": [
    "### 3.3 Define the optimizer and scheduler\n",
    "- *We prefer AdamW optimizer function since it is the most widely used general purpose optimizer*\n",
    "- *The scheduler will help bring the learning rate down if it senses overfitting*"
   ]
  },
  {
   "cell_type": "code",
   "execution_count": 21,
   "metadata": {},
   "outputs": [],
   "source": [
    "epochs = 3\n",
    "lr = 4e-5\n",
    "optimizer = AdamW(model.parameters(), lr=lr, eps=1e-8)\n",
    "scheduler = get_linear_schedule_with_warmup(optimizer, num_warmup_steps=0, num_training_steps=len(train_dloader)*epochs)"
   ]
  },
  {
   "cell_type": "markdown",
   "metadata": {},
   "source": [
    "### 3.4 Define evaluation function with performance metrics\n",
    "- *We prefer AdamW optimizer function since it is the most widely used general purpose optimizer*\n",
    "- *The scheduler will help bring the learning rate down if it senses overfitting*"
   ]
  },
  {
   "cell_type": "markdown",
   "metadata": {},
   "source": [
    "https://huggingface.co/transformers/main_classes/output.html"
   ]
  },
  {
   "cell_type": "code",
   "execution_count": 22,
   "metadata": {},
   "outputs": [],
   "source": [
    "def model_eval(validation_dataloader):\n",
    "    #---set the model in evaluation mode to disable dropout layers, batch normalization, etc\n",
    "    model.eval()\n",
    "    \n",
    "    #---Initialize some variables to calculate model performance post evaluation\n",
    "    total_loss = 0                          #counter to keep a sum of loss values across all batches\n",
    "    predicted_class, true_class = [], []    #counters to keep track of all the predicted and true classes across all batches\n",
    "    \n",
    "    #---Use model to predict with validation dataset\n",
    "    for batch in tqdm(validation_dataloader):\n",
    "        \n",
    "        #---get the input_ids, attention_masks and labels from each batch int a dictionary to pass as input to the model\n",
    "        temp_batch = tuple(b.to(device) for b in batch)                                                         #move the batch elements to GPU for faster performance\n",
    "        input_dict = {'input_ids': temp_batch[0], 'attention_mask': temp_batch[1], 'labels': temp_batch[2]}\n",
    "        \n",
    "        #---enable no_grad option in pytorch as there will be no back-propogation during evaluation\n",
    "        with torch.no_grad():\n",
    "            #---Predict outputs using the model\n",
    "            model_output = model(**input_dict)\n",
    "\n",
    "        #---get loss for current batch and add to the total_loss counter\n",
    "        loss = model_output[0]             #Example output in every iteration: tensor(0.2658, device='cuda:0')\n",
    "        total_loss += loss.item()\n",
    "        #print('model op 0:', loss)\n",
    "        \n",
    "        #---get the predicted outputs (logits) for current batch and append to predicted_class list\n",
    "        logits = model_output[1]                          #List of lists [[0.1 0.2 0.3][0.1 0.2 0.3]...32 lists inside a list]\n",
    "        #move the logits to cpu and convert to numpy since we will compute the simple math error calculations in cpu and not GPU\n",
    "        logits = logits.detach().cpu().numpy()            #array of list of lists array([[0.1 0.2 0.3][0.1 0.2 0.3]...32 lists inside a list])\n",
    "        predicted_class.append(logits)                    #list containing array of list of lists [array, array, ...]\n",
    "        #print('model op 1:', logits)\n",
    "        #print('pred_class:', predicted_class)\n",
    "        \n",
    "        #---get the original true labels and append to true_class list\n",
    "        true_labels = input_dict['labels'].cpu().numpy()   #array of list of labels [0,1,2,2,1,0,...32 labels]\n",
    "        true_class.append(true_labels)                     #list of array of list of labels [array([32 labels]), array([32 labels]),...]\n",
    "        #print('true_class:', true_class)\n",
    "    \n",
    "    #---Compute average loss\n",
    "    average_loss = total_loss/len(validation_dataloader) \n",
    "    \n",
    "    #---Compute prediction accuracy\n",
    "    predictions = np.concatenate(predicted_class, axis=0)  #list of lists [[0.1 0.2 0.3][0.1 0.2 0.3]....]\n",
    "    true_vals = np.concatenate(true_class, axis=0)         #List of lists\n",
    "    correct_predictions = np.sum(np.argmax(predictions, axis=1).flatten() == true_vals)\n",
    "    prediction_accuracy = correct_predictions / len(training_data[training_data.dataset=='val'])\n",
    "    #print('predicaitons', predictions)\n",
    "    #print('true_vals', true_vals)\n",
    "    \n",
    "    #---Compute f1 score\n",
    "    flattened_predictions = np.argmax(predictions, axis=1).flatten()    #List of values in predictions\n",
    "    flattened_labels = true_vals.flatten()                              #List of values in true_vals\n",
    "    f1score = f1_score(flattened_labels, flattened_predictions, average='weighted')\n",
    "    #print('preds_flat:', preds_flat)\n",
    "    #print('labels_flat:', labels_flat)\n",
    "    \n",
    "    return average_loss, predictions, true_vals, prediction_accuracy, f1score"
   ]
  },
  {
   "cell_type": "markdown",
   "metadata": {},
   "source": [
    "### 3.5 Clear GPU cache"
   ]
  },
  {
   "cell_type": "code",
   "execution_count": 23,
   "metadata": {},
   "outputs": [
    {
     "data": {
      "text/plain": [
       "'|===========================================================================|\\n|                  PyTorch CUDA memory summary, device ID 0                 |\\n|---------------------------------------------------------------------------|\\n|            CUDA OOMs: 0            |        cudaMalloc retries: 0         |\\n|===========================================================================|\\n|        Metric         | Cur Usage  | Peak Usage | Tot Alloc  | Tot Freed  |\\n|---------------------------------------------------------------------------|\\n| Allocated memory      |  428785 KB |  428785 KB |  428785 KB |       0 B  |\\n|---------------------------------------------------------------------------|\\n| Active memory         |  428785 KB |  428785 KB |  428785 KB |       0 B  |\\n|---------------------------------------------------------------------------|\\n| GPU reserved memory   |  483328 KB |  483328 KB |  483328 KB |       0 B  |\\n|---------------------------------------------------------------------------|\\n| Non-releasable memory |   54542 KB |   54552 KB |  265210 KB |  210667 KB |\\n|---------------------------------------------------------------------------|\\n| Allocations           |     203    |     203    |     203    |       0    |\\n|---------------------------------------------------------------------------|\\n| Active allocs         |     203    |     203    |     203    |       0    |\\n|---------------------------------------------------------------------------|\\n| GPU reserved segments |      21    |      21    |      21    |       0    |\\n|---------------------------------------------------------------------------|\\n| Non-releasable allocs |      19    |      19    |      20    |       1    |\\n|===========================================================================|\\n'"
      ]
     },
     "execution_count": 23,
     "metadata": {},
     "output_type": "execute_result"
    }
   ],
   "source": [
    "gc.collect()\n",
    "torch.cuda.empty_cache()\n",
    "torch.cuda.memory_summary(device=None, abbreviated=True)"
   ]
  },
  {
   "cell_type": "markdown",
   "metadata": {},
   "source": [
    "- https://machinelearningmastery.com/exploding-gradients-in-neural-networks/\n",
    "- https://neptune.ai/blog/understanding-gradient-clipping-and-how-it-can-fix-exploding-gradients-problem"
   ]
  },
  {
   "cell_type": "markdown",
   "metadata": {},
   "source": [
    "## 4. Trial and error to find the best parameters\n",
    "- *The original paper for BERT worked on batch sizes of (16 and 32) and learning rates of (5e-5, 4e-5, 3e-5, 2e-5, 1e-5)*\n",
    "- REF: *https://arxiv.org/abs/1810.04805*\n",
    "- *We prefer AdamW optimizer function since it is the most widely used general purpose optimizer and Adam was the optimization function used in the original paper on BERT*\n",
    "- *The scheduler will help bring the learning rate down if it senses overfitting*"
   ]
  },
  {
   "cell_type": "markdown",
   "metadata": {},
   "source": [
    "### 4.1 Learning Rate: 4e-5, Batch size = 16"
   ]
  },
  {
   "cell_type": "code",
   "execution_count": 26,
   "metadata": {
    "collapsed": true,
    "jupyter": {
     "outputs_hidden": true,
     "source_hidden": true
    }
   },
   "outputs": [
    {
     "data": {
      "application/vnd.jupyter.widget-view+json": {
       "model_id": "4bca32455bc4486d9e59366a2371f666",
       "version_major": 2,
       "version_minor": 0
      },
      "text/plain": [
       "HBox(children=(HTML(value=''), FloatProgress(value=0.0, max=3.0), HTML(value='')))"
      ]
     },
     "metadata": {},
     "output_type": "display_data"
    },
    {
     "data": {
      "application/vnd.jupyter.widget-view+json": {
       "model_id": "",
       "version_major": 2,
       "version_minor": 0
      },
      "text/plain": [
       "HBox(children=(HTML(value='Epoch 1'), FloatProgress(value=0.0, max=2344.0), HTML(value='')))"
      ]
     },
     "metadata": {},
     "output_type": "display_data"
    },
    {
     "data": {
      "application/vnd.jupyter.widget-view+json": {
       "model_id": "80cb1ca0eeb5449cb24cd4de53d1ae77",
       "version_major": 2,
       "version_minor": 0
      },
      "text/plain": [
       "HBox(children=(HTML(value=''), FloatProgress(value=0.0, max=782.0), HTML(value='')))"
      ]
     },
     "metadata": {},
     "output_type": "display_data"
    },
    {
     "name": "stdout",
     "output_type": "stream",
     "text": [
      "\n",
      "\n",
      "̲E̲p̲o̲c̲h̲ ̲1\n",
      "Training loss: 0.4208461363663191\n",
      "Validation loss: 0.3851662040652369\n",
      "validation accuracy: 0.83096\n",
      "f1 score: 0.8307587941398925\n"
     ]
    },
    {
     "data": {
      "application/vnd.jupyter.widget-view+json": {
       "model_id": "",
       "version_major": 2,
       "version_minor": 0
      },
      "text/plain": [
       "HBox(children=(HTML(value='Epoch 2'), FloatProgress(value=0.0, max=2344.0), HTML(value='')))"
      ]
     },
     "metadata": {},
     "output_type": "display_data"
    },
    {
     "data": {
      "application/vnd.jupyter.widget-view+json": {
       "model_id": "0c4bbd4f27d4455397b015c8f2f3a79f",
       "version_major": 2,
       "version_minor": 0
      },
      "text/plain": [
       "HBox(children=(HTML(value=''), FloatProgress(value=0.0, max=782.0), HTML(value='')))"
      ]
     },
     "metadata": {},
     "output_type": "display_data"
    },
    {
     "name": "stdout",
     "output_type": "stream",
     "text": [
      "\n",
      "\n",
      "̲E̲p̲o̲c̲h̲ ̲2\n",
      "Training loss: 0.25873052553550274\n",
      "Validation loss: 0.4250749346640561\n",
      "validation accuracy: 0.83128\n",
      "f1 score: 0.8310865695283144\n"
     ]
    },
    {
     "data": {
      "application/vnd.jupyter.widget-view+json": {
       "model_id": "",
       "version_major": 2,
       "version_minor": 0
      },
      "text/plain": [
       "HBox(children=(HTML(value='Epoch 3'), FloatProgress(value=0.0, max=2344.0), HTML(value='')))"
      ]
     },
     "metadata": {},
     "output_type": "display_data"
    },
    {
     "data": {
      "application/vnd.jupyter.widget-view+json": {
       "model_id": "9716afca64394da2aadce72deb51c765",
       "version_major": 2,
       "version_minor": 0
      },
      "text/plain": [
       "HBox(children=(HTML(value=''), FloatProgress(value=0.0, max=782.0), HTML(value='')))"
      ]
     },
     "metadata": {},
     "output_type": "display_data"
    },
    {
     "name": "stdout",
     "output_type": "stream",
     "text": [
      "\n",
      "\n",
      "̲E̲p̲o̲c̲h̲ ̲3\n",
      "Training loss: 0.13917963950887421\n",
      "Validation loss: 0.6944000666694301\n",
      "validation accuracy: 0.82888\n",
      "f1 score: 0.8288153069763945\n",
      "\n"
     ]
    }
   ],
   "source": [
    "training_loss_dict = {}\n",
    "validation_loss_dict = {}\n",
    "\n",
    "for epoch in tqdm(range(1, epochs+1)):\n",
    "    \n",
    "    #---set the model to training mode\n",
    "    model.train()         \n",
    "    \n",
    "    #counter to keep a sum of loss values across all epochs\n",
    "    total_loss = 0\n",
    "\n",
    "    # Setting up the Progress bar to Moniter the progress of training\n",
    "    pbar = tqdm(train_dloader, desc='Epoch {:1d}'.format(epoch), leave=False, disable=False)\n",
    "    for batch in pbar:\n",
    "        \n",
    "        #---set zero_grad so that gradient values are not accumulated across batches\n",
    "        model.zero_grad()\n",
    "        \n",
    "        #---get the input_ids, attention_masks and labels from each batch int a dictionary to pass as input to the model\n",
    "        temp_batch = tuple(b.to(device) for b in batch)                 #move the batch elements to GPU for faster performance\n",
    "         \n",
    "        input_dict = {'input_ids': temp_batch[0], 'attention_mask': temp_batch[1], 'labels': temp_batch[2]}       \n",
    "\n",
    "        #---Predict outputs using the model\n",
    "        model_output = model(**input_dict)\n",
    "\n",
    "        #---get loss for current batch and add to the total_loss counter\n",
    "        loss = model_output[0]\n",
    "        total_loss += loss.item()\n",
    "        \n",
    "        #---compute and clip gradients\n",
    "        loss.backward()                                           #compute gradients via backpropogation\n",
    "        torch.nn.utils.clip_grad_norm_(model.parameters(), 1.0)   #clip gradients to prevent gradient explosion issue\n",
    "\n",
    "        #---Use optimizer and scheduler to tune the model during epochs\n",
    "        optimizer.step()\n",
    "        scheduler.step()\n",
    "        \n",
    "        pbar.set_postfix({'training_loss': '{:.3f}'.format(loss.item()/len(batch))})\n",
    "         \n",
    "    #---save the model to disk        \n",
    "    #torch.save(model.state_dict(), r'C:\\Users\\Karthik\\Desktop\\Dissertation\\BERT\\Model\\BERT_trained.model')\n",
    "        \n",
    "    #---calculate metrics \n",
    "    loss_train_avg = total_loss/len(train_dloader)            \n",
    "    val_loss, predictions, true_vals, val_accuracy, f1score = model_eval(val_dloader)\n",
    "\n",
    "    training_loss_dict[epoch] = loss_train_avg\n",
    "    validation_loss_dict[epoch] = val_loss\n",
    "    \n",
    "    tqdm.write(\"\\u0332\".join(f'\\nEpoch {epoch}'))\n",
    "    tqdm.write(f'Training loss: {loss_train_avg}')\n",
    "    tqdm.write(f'Validation loss: {val_loss}')\n",
    "    tqdm.write(f'validation accuracy: {val_accuracy}')\n",
    "    tqdm.write(f'f1 score: {f1score}')\n",
    "    \n",
    "torch.save(model, f\"C:\\\\Users\\\\Karthik\\\\Desktop\\\\Dissertation\\\\BERT\\\\Models\\\\BERT_Sentiment140_Batch_{batch_size}_LR_{lr}\")"
   ]
  },
  {
   "cell_type": "markdown",
   "metadata": {},
   "source": [
    "### 4.2 Learning Rate: 3e-5, Batch size = 16"
   ]
  },
  {
   "cell_type": "code",
   "execution_count": 27,
   "metadata": {
    "jupyter": {
     "source_hidden": true
    }
   },
   "outputs": [],
   "source": [
    "epochs = 3\n",
    "lr = 3e-5\n",
    "optimizer = AdamW(model.parameters(), lr=lr, eps=1e-8)\n",
    "scheduler = get_linear_schedule_with_warmup(optimizer, num_warmup_steps=0, num_training_steps=len(train_dloader)*epochs)"
   ]
  },
  {
   "cell_type": "code",
   "execution_count": 28,
   "metadata": {
    "collapsed": true,
    "jupyter": {
     "outputs_hidden": true,
     "source_hidden": true
    }
   },
   "outputs": [
    {
     "data": {
      "application/vnd.jupyter.widget-view+json": {
       "model_id": "1d795fea0f4a41a495ea673c2f103b11",
       "version_major": 2,
       "version_minor": 0
      },
      "text/plain": [
       "HBox(children=(HTML(value=''), FloatProgress(value=0.0, max=3.0), HTML(value='')))"
      ]
     },
     "metadata": {},
     "output_type": "display_data"
    },
    {
     "data": {
      "application/vnd.jupyter.widget-view+json": {
       "model_id": "",
       "version_major": 2,
       "version_minor": 0
      },
      "text/plain": [
       "HBox(children=(HTML(value='Epoch 1'), FloatProgress(value=0.0, max=2344.0), HTML(value='')))"
      ]
     },
     "metadata": {},
     "output_type": "display_data"
    },
    {
     "data": {
      "application/vnd.jupyter.widget-view+json": {
       "model_id": "a1ea599862894e138301ebb2cefb18a2",
       "version_major": 2,
       "version_minor": 0
      },
      "text/plain": [
       "HBox(children=(HTML(value=''), FloatProgress(value=0.0, max=782.0), HTML(value='')))"
      ]
     },
     "metadata": {},
     "output_type": "display_data"
    },
    {
     "name": "stdout",
     "output_type": "stream",
     "text": [
      "\n",
      "\n",
      "̲E̲p̲o̲c̲h̲ ̲1\n",
      "Training loss: 0.1564887284863233\n",
      "Validation loss: 0.671937946092023\n",
      "validation accuracy: 0.82384\n",
      "f1 score: 0.8238118504898282\n"
     ]
    },
    {
     "data": {
      "application/vnd.jupyter.widget-view+json": {
       "model_id": "",
       "version_major": 2,
       "version_minor": 0
      },
      "text/plain": [
       "HBox(children=(HTML(value='Epoch 2'), FloatProgress(value=0.0, max=2344.0), HTML(value='')))"
      ]
     },
     "metadata": {},
     "output_type": "display_data"
    },
    {
     "data": {
      "application/vnd.jupyter.widget-view+json": {
       "model_id": "aaf8b68e38484cab81e618be375fcdc9",
       "version_major": 2,
       "version_minor": 0
      },
      "text/plain": [
       "HBox(children=(HTML(value=''), FloatProgress(value=0.0, max=782.0), HTML(value='')))"
      ]
     },
     "metadata": {},
     "output_type": "display_data"
    },
    {
     "name": "stdout",
     "output_type": "stream",
     "text": [
      "\n",
      "\n",
      "̲E̲p̲o̲c̲h̲ ̲2\n",
      "Training loss: 0.0867322064487212\n",
      "Validation loss: 0.9431607150313411\n",
      "validation accuracy: 0.81776\n",
      "f1 score: 0.8175842457772563\n"
     ]
    },
    {
     "data": {
      "application/vnd.jupyter.widget-view+json": {
       "model_id": "",
       "version_major": 2,
       "version_minor": 0
      },
      "text/plain": [
       "HBox(children=(HTML(value='Epoch 3'), FloatProgress(value=0.0, max=2344.0), HTML(value='')))"
      ]
     },
     "metadata": {},
     "output_type": "display_data"
    },
    {
     "data": {
      "application/vnd.jupyter.widget-view+json": {
       "model_id": "1133d827609c4f10980367b170aa5411",
       "version_major": 2,
       "version_minor": 0
      },
      "text/plain": [
       "HBox(children=(HTML(value=''), FloatProgress(value=0.0, max=782.0), HTML(value='')))"
      ]
     },
     "metadata": {},
     "output_type": "display_data"
    },
    {
     "name": "stdout",
     "output_type": "stream",
     "text": [
      "\n",
      "\n",
      "̲E̲p̲o̲c̲h̲ ̲3\n",
      "Training loss: 0.03696078970871783\n",
      "Validation loss: 1.1663305137046378\n",
      "validation accuracy: 0.82504\n",
      "f1 score: 0.8249956457764376\n",
      "\n"
     ]
    }
   ],
   "source": [
    "training_loss_dict = {}\n",
    "validation_loss_dict = {}\n",
    "\n",
    "for epoch in tqdm(range(1, epochs+1)):\n",
    "    \n",
    "    #---set the model to training mode\n",
    "    model.train()         \n",
    "    \n",
    "    #counter to keep a sum of loss values across all epochs\n",
    "    total_loss = 0\n",
    "\n",
    "    # Setting up the Progress bar to Moniter the progress of training\n",
    "    pbar = tqdm(train_dloader, desc='Epoch {:1d}'.format(epoch), leave=False, disable=False)\n",
    "    for batch in pbar:\n",
    "        \n",
    "        #---set zero_grad so that gradient values are not accumulated across batches\n",
    "        model.zero_grad()\n",
    "        \n",
    "        #---get the input_ids, attention_masks and labels from each batch int a dictionary to pass as input to the model\n",
    "        temp_batch = tuple(b.to(device) for b in batch)                 #move the batch elements to GPU for faster performance\n",
    "         \n",
    "        input_dict = {'input_ids': temp_batch[0], 'attention_mask': temp_batch[1], 'labels': temp_batch[2]}       \n",
    "\n",
    "        #---Predict outputs using the model\n",
    "        model_output = model(**input_dict)\n",
    "\n",
    "        #---get loss for current batch and add to the total_loss counter\n",
    "        loss = model_output[0]\n",
    "        total_loss += loss.item()\n",
    "        \n",
    "        #---compute and clip gradients\n",
    "        loss.backward()                                           #compute gradients via backpropogation\n",
    "        torch.nn.utils.clip_grad_norm_(model.parameters(), 1.0)   #clip gradients to prevent gradient explosion issue\n",
    "\n",
    "        #---Use optimizer and scheduler to tune the model during epochs\n",
    "        optimizer.step()\n",
    "        scheduler.step()\n",
    "        \n",
    "        pbar.set_postfix({'training_loss': '{:.3f}'.format(loss.item()/len(batch))})\n",
    "         \n",
    "    #---save the model to disk        \n",
    "    #torch.save(model.state_dict(), r'C:\\Users\\Karthik\\Desktop\\Dissertation\\BERT\\Model\\BERT_trained.model')\n",
    "        \n",
    "    #---calculate metrics \n",
    "    loss_train_avg = total_loss/len(train_dloader)            \n",
    "    val_loss, predictions, true_vals, val_accuracy, f1score = model_eval(val_dloader)\n",
    "\n",
    "    training_loss_dict[epoch] = loss_train_avg\n",
    "    validation_loss_dict[epoch] = val_loss\n",
    "    \n",
    "    tqdm.write(\"\\u0332\".join(f'\\nEpoch {epoch}'))\n",
    "    tqdm.write(f'Training loss: {loss_train_avg}')\n",
    "    tqdm.write(f'Validation loss: {val_loss}')\n",
    "    tqdm.write(f'validation accuracy: {val_accuracy}')\n",
    "    tqdm.write(f'f1 score: {f1score}')\n",
    "    \n",
    "torch.save(model, f\"C:\\\\Users\\\\Karthik\\\\Desktop\\\\Dissertation\\\\BERT\\\\Models\\\\BERT_Sentiment140_Batch_{batch_size}_LR_{lr}\")"
   ]
  },
  {
   "cell_type": "markdown",
   "metadata": {},
   "source": [
    "### 4.3 Learning Rate: 2e-5, Batch size = 16"
   ]
  },
  {
   "cell_type": "code",
   "execution_count": 29,
   "metadata": {
    "jupyter": {
     "source_hidden": true
    }
   },
   "outputs": [],
   "source": [
    "epochs = 3\n",
    "lr = 2e-5\n",
    "optimizer = AdamW(model.parameters(), lr=lr, eps=1e-8)\n",
    "scheduler = get_linear_schedule_with_warmup(optimizer, num_warmup_steps=0, num_training_steps=len(train_dloader)*epochs)"
   ]
  },
  {
   "cell_type": "code",
   "execution_count": 30,
   "metadata": {
    "collapsed": true,
    "jupyter": {
     "outputs_hidden": true,
     "source_hidden": true
    }
   },
   "outputs": [
    {
     "data": {
      "application/vnd.jupyter.widget-view+json": {
       "model_id": "d48e137e974a4caa9b2aa181c3b0e056",
       "version_major": 2,
       "version_minor": 0
      },
      "text/plain": [
       "HBox(children=(HTML(value=''), FloatProgress(value=0.0, max=3.0), HTML(value='')))"
      ]
     },
     "metadata": {},
     "output_type": "display_data"
    },
    {
     "data": {
      "application/vnd.jupyter.widget-view+json": {
       "model_id": "",
       "version_major": 2,
       "version_minor": 0
      },
      "text/plain": [
       "HBox(children=(HTML(value='Epoch 1'), FloatProgress(value=0.0, max=2344.0), HTML(value='')))"
      ]
     },
     "metadata": {},
     "output_type": "display_data"
    },
    {
     "data": {
      "application/vnd.jupyter.widget-view+json": {
       "model_id": "5155c568bc7b40479269ee3bcbade92d",
       "version_major": 2,
       "version_minor": 0
      },
      "text/plain": [
       "HBox(children=(HTML(value=''), FloatProgress(value=0.0, max=782.0), HTML(value='')))"
      ]
     },
     "metadata": {},
     "output_type": "display_data"
    },
    {
     "name": "stdout",
     "output_type": "stream",
     "text": [
      "\n",
      "\n",
      "̲E̲p̲o̲c̲h̲ ̲1\n",
      "Training loss: 0.06091343062879982\n",
      "Validation loss: 1.276457139588644\n",
      "validation accuracy: 0.82248\n",
      "f1 score: 0.8224693095278935\n"
     ]
    },
    {
     "data": {
      "application/vnd.jupyter.widget-view+json": {
       "model_id": "",
       "version_major": 2,
       "version_minor": 0
      },
      "text/plain": [
       "HBox(children=(HTML(value='Epoch 2'), FloatProgress(value=0.0, max=2344.0), HTML(value='')))"
      ]
     },
     "metadata": {},
     "output_type": "display_data"
    },
    {
     "data": {
      "application/vnd.jupyter.widget-view+json": {
       "model_id": "98edde1cfedd4974a3fad08a3e25c699",
       "version_major": 2,
       "version_minor": 0
      },
      "text/plain": [
       "HBox(children=(HTML(value=''), FloatProgress(value=0.0, max=782.0), HTML(value='')))"
      ]
     },
     "metadata": {},
     "output_type": "display_data"
    },
    {
     "name": "stdout",
     "output_type": "stream",
     "text": [
      "\n",
      "\n",
      "̲E̲p̲o̲c̲h̲ ̲2\n",
      "Training loss: 0.03680679552722884\n",
      "Validation loss: 1.1925956902970352\n",
      "validation accuracy: 0.82416\n",
      "f1 score: 0.8241524326461255\n"
     ]
    },
    {
     "data": {
      "application/vnd.jupyter.widget-view+json": {
       "model_id": "",
       "version_major": 2,
       "version_minor": 0
      },
      "text/plain": [
       "HBox(children=(HTML(value='Epoch 3'), FloatProgress(value=0.0, max=2344.0), HTML(value='')))"
      ]
     },
     "metadata": {},
     "output_type": "display_data"
    },
    {
     "data": {
      "application/vnd.jupyter.widget-view+json": {
       "model_id": "af4921646c2f4762aa5e7448df8844cd",
       "version_major": 2,
       "version_minor": 0
      },
      "text/plain": [
       "HBox(children=(HTML(value=''), FloatProgress(value=0.0, max=782.0), HTML(value='')))"
      ]
     },
     "metadata": {},
     "output_type": "display_data"
    },
    {
     "name": "stdout",
     "output_type": "stream",
     "text": [
      "\n",
      "\n",
      "̲E̲p̲o̲c̲h̲ ̲3\n",
      "Training loss: 0.016153724763539174\n",
      "Validation loss: 1.417942157954003\n",
      "validation accuracy: 0.824\n",
      "f1 score: 0.8239464526797898\n",
      "\n"
     ]
    }
   ],
   "source": [
    "training_loss_dict = {}\n",
    "validation_loss_dict = {}\n",
    "\n",
    "for epoch in tqdm(range(1, epochs+1)):\n",
    "    \n",
    "    #---set the model to training mode\n",
    "    model.train()         \n",
    "    \n",
    "    #counter to keep a sum of loss values across all epochs\n",
    "    total_loss = 0\n",
    "\n",
    "    # Setting up the Progress bar to Moniter the progress of training\n",
    "    pbar = tqdm(train_dloader, desc='Epoch {:1d}'.format(epoch), leave=False, disable=False)\n",
    "    for batch in pbar:\n",
    "        \n",
    "        #---set zero_grad so that gradient values are not accumulated across batches\n",
    "        model.zero_grad()\n",
    "        \n",
    "        #---get the input_ids, attention_masks and labels from each batch int a dictionary to pass as input to the model\n",
    "        temp_batch = tuple(b.to(device) for b in batch)                 #move the batch elements to GPU for faster performance\n",
    "         \n",
    "        input_dict = {'input_ids': temp_batch[0], 'attention_mask': temp_batch[1], 'labels': temp_batch[2]}       \n",
    "\n",
    "        #---Predict outputs using the model\n",
    "        model_output = model(**input_dict)\n",
    "\n",
    "        #---get loss for current batch and add to the total_loss counter\n",
    "        loss = model_output[0]\n",
    "        total_loss += loss.item()\n",
    "        \n",
    "        #---compute and clip gradients\n",
    "        loss.backward()                                           #compute gradients via backpropogation\n",
    "        torch.nn.utils.clip_grad_norm_(model.parameters(), 1.0)   #clip gradients to prevent gradient explosion issue\n",
    "\n",
    "        #---Use optimizer and scheduler to tune the model during epochs\n",
    "        optimizer.step()\n",
    "        scheduler.step()\n",
    "        \n",
    "        pbar.set_postfix({'training_loss': '{:.3f}'.format(loss.item()/len(batch))})\n",
    "         \n",
    "    #---save the model to disk        \n",
    "    #torch.save(model.state_dict(), r'C:\\Users\\Karthik\\Desktop\\Dissertation\\BERT\\Model\\BERT_trained.model')\n",
    "        \n",
    "    #---calculate metrics \n",
    "    loss_train_avg = total_loss/len(train_dloader)            \n",
    "    val_loss, predictions, true_vals, val_accuracy, f1score = model_eval(val_dloader)\n",
    "\n",
    "    training_loss_dict[epoch] = loss_train_avg\n",
    "    validation_loss_dict[epoch] = val_loss\n",
    "    \n",
    "    tqdm.write(\"\\u0332\".join(f'\\nEpoch {epoch}'))\n",
    "    tqdm.write(f'Training loss: {loss_train_avg}')\n",
    "    tqdm.write(f'Validation loss: {val_loss}')\n",
    "    tqdm.write(f'validation accuracy: {val_accuracy}')\n",
    "    tqdm.write(f'f1 score: {f1score}')\n",
    "    \n",
    "torch.save(model, f\"C:\\\\Users\\\\Karthik\\\\Desktop\\\\Dissertation\\\\BERT\\\\Models\\\\BERT_Sentiment140_Batch_{batch_size}_LR_{lr}\")"
   ]
  },
  {
   "cell_type": "markdown",
   "metadata": {},
   "source": [
    "### 4.4 Learning Rate: 1e-5, Batch size = 16"
   ]
  },
  {
   "cell_type": "code",
   "execution_count": 31,
   "metadata": {
    "jupyter": {
     "source_hidden": true
    }
   },
   "outputs": [],
   "source": [
    "epochs = 3\n",
    "lr = 1e-5\n",
    "optimizer = AdamW(model.parameters(), lr=lr, eps=1e-8)\n",
    "scheduler = get_linear_schedule_with_warmup(optimizer, num_warmup_steps=0, num_training_steps=len(train_dloader)*epochs)"
   ]
  },
  {
   "cell_type": "code",
   "execution_count": 32,
   "metadata": {
    "collapsed": true,
    "jupyter": {
     "outputs_hidden": true,
     "source_hidden": true
    }
   },
   "outputs": [
    {
     "data": {
      "application/vnd.jupyter.widget-view+json": {
       "model_id": "1f79e8b18dbb4a339047951b5e046bd6",
       "version_major": 2,
       "version_minor": 0
      },
      "text/plain": [
       "HBox(children=(HTML(value=''), FloatProgress(value=0.0, max=3.0), HTML(value='')))"
      ]
     },
     "metadata": {},
     "output_type": "display_data"
    },
    {
     "data": {
      "application/vnd.jupyter.widget-view+json": {
       "model_id": "",
       "version_major": 2,
       "version_minor": 0
      },
      "text/plain": [
       "HBox(children=(HTML(value='Epoch 1'), FloatProgress(value=0.0, max=2344.0), HTML(value='')))"
      ]
     },
     "metadata": {},
     "output_type": "display_data"
    },
    {
     "data": {
      "application/vnd.jupyter.widget-view+json": {
       "model_id": "531a5fb1438f453c8d799219199f5344",
       "version_major": 2,
       "version_minor": 0
      },
      "text/plain": [
       "HBox(children=(HTML(value=''), FloatProgress(value=0.0, max=782.0), HTML(value='')))"
      ]
     },
     "metadata": {},
     "output_type": "display_data"
    },
    {
     "name": "stdout",
     "output_type": "stream",
     "text": [
      "\n",
      "\n",
      "̲E̲p̲o̲c̲h̲ ̲1\n",
      "Training loss: 0.018606522796964686\n",
      "Validation loss: 1.5379125961290017\n",
      "validation accuracy: 0.82104\n",
      "f1 score: 0.8210317245069411\n"
     ]
    },
    {
     "data": {
      "application/vnd.jupyter.widget-view+json": {
       "model_id": "",
       "version_major": 2,
       "version_minor": 0
      },
      "text/plain": [
       "HBox(children=(HTML(value='Epoch 2'), FloatProgress(value=0.0, max=2344.0), HTML(value='')))"
      ]
     },
     "metadata": {},
     "output_type": "display_data"
    },
    {
     "data": {
      "application/vnd.jupyter.widget-view+json": {
       "model_id": "88faa9c22c484e5bbb3d12c1683a18bb",
       "version_major": 2,
       "version_minor": 0
      },
      "text/plain": [
       "HBox(children=(HTML(value=''), FloatProgress(value=0.0, max=782.0), HTML(value='')))"
      ]
     },
     "metadata": {},
     "output_type": "display_data"
    },
    {
     "name": "stdout",
     "output_type": "stream",
     "text": [
      "\n",
      "\n",
      "̲E̲p̲o̲c̲h̲ ̲2\n",
      "Training loss: 0.014482215968010638\n",
      "Validation loss: 1.58442658079775\n",
      "validation accuracy: 0.8256\n",
      "f1 score: 0.8255654189722758\n"
     ]
    },
    {
     "data": {
      "application/vnd.jupyter.widget-view+json": {
       "model_id": "",
       "version_major": 2,
       "version_minor": 0
      },
      "text/plain": [
       "HBox(children=(HTML(value='Epoch 3'), FloatProgress(value=0.0, max=2344.0), HTML(value='')))"
      ]
     },
     "metadata": {},
     "output_type": "display_data"
    },
    {
     "data": {
      "application/vnd.jupyter.widget-view+json": {
       "model_id": "254c8d3a7b2e42c79fc0c5ea48a6bda7",
       "version_major": 2,
       "version_minor": 0
      },
      "text/plain": [
       "HBox(children=(HTML(value=''), FloatProgress(value=0.0, max=782.0), HTML(value='')))"
      ]
     },
     "metadata": {},
     "output_type": "display_data"
    },
    {
     "name": "stdout",
     "output_type": "stream",
     "text": [
      "\n",
      "\n",
      "̲E̲p̲o̲c̲h̲ ̲3\n",
      "Training loss: 0.008653285596655527\n",
      "Validation loss: 1.6233788173296053\n",
      "validation accuracy: 0.82608\n",
      "f1 score: 0.8260587997682098\n",
      "\n"
     ]
    }
   ],
   "source": [
    "training_loss_dict = {}\n",
    "validation_loss_dict = {}\n",
    "\n",
    "for epoch in tqdm(range(1, epochs+1)):\n",
    "    \n",
    "    #---set the model to training mode\n",
    "    model.train()         \n",
    "    \n",
    "    #counter to keep a sum of loss values across all epochs\n",
    "    total_loss = 0\n",
    "\n",
    "    # Setting up the Progress bar to Moniter the progress of training\n",
    "    pbar = tqdm(train_dloader, desc='Epoch {:1d}'.format(epoch), leave=False, disable=False)\n",
    "    for batch in pbar:\n",
    "        \n",
    "        #---set zero_grad so that gradient values are not accumulated across batches\n",
    "        model.zero_grad()\n",
    "        \n",
    "        #---get the input_ids, attention_masks and labels from each batch int a dictionary to pass as input to the model\n",
    "        temp_batch = tuple(b.to(device) for b in batch)                 #move the batch elements to GPU for faster performance\n",
    "         \n",
    "        input_dict = {'input_ids': temp_batch[0], 'attention_mask': temp_batch[1], 'labels': temp_batch[2]}       \n",
    "\n",
    "        #---Predict outputs using the model\n",
    "        model_output = model(**input_dict)\n",
    "\n",
    "        #---get loss for current batch and add to the total_loss counter\n",
    "        loss = model_output[0]\n",
    "        total_loss += loss.item()\n",
    "        \n",
    "        #---compute and clip gradients\n",
    "        loss.backward()                                           #compute gradients via backpropogation\n",
    "        torch.nn.utils.clip_grad_norm_(model.parameters(), 1.0)   #clip gradients to prevent gradient explosion issue\n",
    "\n",
    "        #---Use optimizer and scheduler to tune the model during epochs\n",
    "        optimizer.step()\n",
    "        scheduler.step()\n",
    "        \n",
    "        pbar.set_postfix({'training_loss': '{:.3f}'.format(loss.item()/len(batch))})\n",
    "         \n",
    "    #---save the model to disk        \n",
    "    #torch.save(model.state_dict(), r'C:\\Users\\Karthik\\Desktop\\Dissertation\\BERT\\Model\\BERT_trained.model')\n",
    "        \n",
    "    #---calculate metrics \n",
    "    loss_train_avg = total_loss/len(train_dloader)            \n",
    "    val_loss, predictions, true_vals, val_accuracy, f1score = model_eval(val_dloader)\n",
    "\n",
    "    training_loss_dict[epoch] = loss_train_avg\n",
    "    validation_loss_dict[epoch] = val_loss\n",
    "    \n",
    "    tqdm.write(\"\\u0332\".join(f'\\nEpoch {epoch}'))\n",
    "    tqdm.write(f'Training loss: {loss_train_avg}')\n",
    "    tqdm.write(f'Validation loss: {val_loss}')\n",
    "    tqdm.write(f'validation accuracy: {val_accuracy}')\n",
    "    tqdm.write(f'f1 score: {f1score}')\n",
    "    \n",
    "torch.save(model, f\"C:\\\\Users\\\\Karthik\\\\Desktop\\\\Dissertation\\\\BERT\\\\Models\\\\BERT_Sentiment140_Batch_{batch_size}_LR_{lr}\")"
   ]
  },
  {
   "cell_type": "markdown",
   "metadata": {},
   "source": [
    "### 4.5 Learning Rate: 5e-5, Batch size = 16"
   ]
  },
  {
   "cell_type": "code",
   "execution_count": 33,
   "metadata": {
    "jupyter": {
     "source_hidden": true
    }
   },
   "outputs": [],
   "source": [
    "epochs = 3\n",
    "lr = 5e-5\n",
    "optimizer = AdamW(model.parameters(), lr=lr, eps=1e-8)\n",
    "scheduler = get_linear_schedule_with_warmup(optimizer, num_warmup_steps=0, num_training_steps=len(train_dloader)*epochs)"
   ]
  },
  {
   "cell_type": "code",
   "execution_count": 34,
   "metadata": {
    "collapsed": true,
    "jupyter": {
     "outputs_hidden": true,
     "source_hidden": true
    }
   },
   "outputs": [
    {
     "data": {
      "application/vnd.jupyter.widget-view+json": {
       "model_id": "45e0b5f31e664714bf2998edf1e9f559",
       "version_major": 2,
       "version_minor": 0
      },
      "text/plain": [
       "HBox(children=(HTML(value=''), FloatProgress(value=0.0, max=3.0), HTML(value='')))"
      ]
     },
     "metadata": {},
     "output_type": "display_data"
    },
    {
     "data": {
      "application/vnd.jupyter.widget-view+json": {
       "model_id": "",
       "version_major": 2,
       "version_minor": 0
      },
      "text/plain": [
       "HBox(children=(HTML(value='Epoch 1'), FloatProgress(value=0.0, max=2344.0), HTML(value='')))"
      ]
     },
     "metadata": {},
     "output_type": "display_data"
    },
    {
     "data": {
      "application/vnd.jupyter.widget-view+json": {
       "model_id": "ea0d02ca342f4e2aac2a5a37f98d748a",
       "version_major": 2,
       "version_minor": 0
      },
      "text/plain": [
       "HBox(children=(HTML(value=''), FloatProgress(value=0.0, max=782.0), HTML(value='')))"
      ]
     },
     "metadata": {},
     "output_type": "display_data"
    },
    {
     "name": "stdout",
     "output_type": "stream",
     "text": [
      "\n",
      "\n",
      "̲E̲p̲o̲c̲h̲ ̲1\n",
      "Training loss: 0.13055027880797854\n",
      "Validation loss: 0.9773190225857278\n",
      "validation accuracy: 0.8136\n",
      "f1 score: 0.8135655170780388\n"
     ]
    },
    {
     "data": {
      "application/vnd.jupyter.widget-view+json": {
       "model_id": "",
       "version_major": 2,
       "version_minor": 0
      },
      "text/plain": [
       "HBox(children=(HTML(value='Epoch 2'), FloatProgress(value=0.0, max=2344.0), HTML(value='')))"
      ]
     },
     "metadata": {},
     "output_type": "display_data"
    },
    {
     "data": {
      "application/vnd.jupyter.widget-view+json": {
       "model_id": "9b662dcfc0194cc8a2982835f553023a",
       "version_major": 2,
       "version_minor": 0
      },
      "text/plain": [
       "HBox(children=(HTML(value=''), FloatProgress(value=0.0, max=782.0), HTML(value='')))"
      ]
     },
     "metadata": {},
     "output_type": "display_data"
    },
    {
     "name": "stdout",
     "output_type": "stream",
     "text": [
      "\n",
      "\n",
      "̲E̲p̲o̲c̲h̲ ̲2\n",
      "Training loss: 0.06981834219545088\n",
      "Validation loss: 1.064036731321491\n",
      "validation accuracy: 0.8224\n",
      "f1 score: 0.8223231298789109\n"
     ]
    },
    {
     "data": {
      "application/vnd.jupyter.widget-view+json": {
       "model_id": "",
       "version_major": 2,
       "version_minor": 0
      },
      "text/plain": [
       "HBox(children=(HTML(value='Epoch 3'), FloatProgress(value=0.0, max=2344.0), HTML(value='')))"
      ]
     },
     "metadata": {},
     "output_type": "display_data"
    },
    {
     "data": {
      "application/vnd.jupyter.widget-view+json": {
       "model_id": "54cb45ab2efe4390899448a4d755b723",
       "version_major": 2,
       "version_minor": 0
      },
      "text/plain": [
       "HBox(children=(HTML(value=''), FloatProgress(value=0.0, max=782.0), HTML(value='')))"
      ]
     },
     "metadata": {},
     "output_type": "display_data"
    },
    {
     "name": "stdout",
     "output_type": "stream",
     "text": [
      "\n",
      "\n",
      "̲E̲p̲o̲c̲h̲ ̲3\n",
      "Training loss: 0.027265351066210163\n",
      "Validation loss: 1.307236851887018\n",
      "validation accuracy: 0.82272\n",
      "f1 score: 0.8226872042252935\n",
      "\n"
     ]
    }
   ],
   "source": [
    "training_loss_dict = {}\n",
    "validation_loss_dict = {}\n",
    "\n",
    "for epoch in tqdm(range(1, epochs+1)):\n",
    "    \n",
    "    #---set the model to training mode\n",
    "    model.train()         \n",
    "    \n",
    "    #counter to keep a sum of loss values across all epochs\n",
    "    total_loss = 0\n",
    "\n",
    "    # Setting up the Progress bar to Moniter the progress of training\n",
    "    pbar = tqdm(train_dloader, desc='Epoch {:1d}'.format(epoch), leave=False, disable=False)\n",
    "    for batch in pbar:\n",
    "        \n",
    "        #---set zero_grad so that gradient values are not accumulated across batches\n",
    "        model.zero_grad()\n",
    "        \n",
    "        #---get the input_ids, attention_masks and labels from each batch int a dictionary to pass as input to the model\n",
    "        temp_batch = tuple(b.to(device) for b in batch)                 #move the batch elements to GPU for faster performance\n",
    "         \n",
    "        input_dict = {'input_ids': temp_batch[0], 'attention_mask': temp_batch[1], 'labels': temp_batch[2]}       \n",
    "\n",
    "        #---Predict outputs using the model\n",
    "        model_output = model(**input_dict)\n",
    "\n",
    "        #---get loss for current batch and add to the total_loss counter\n",
    "        loss = model_output[0]\n",
    "        total_loss += loss.item()\n",
    "        \n",
    "        #---compute and clip gradients\n",
    "        loss.backward()                                           #compute gradients via backpropogation\n",
    "        torch.nn.utils.clip_grad_norm_(model.parameters(), 1.0)   #clip gradients to prevent gradient explosion issue\n",
    "\n",
    "        #---Use optimizer and scheduler to tune the model during epochs\n",
    "        optimizer.step()\n",
    "        scheduler.step()\n",
    "        \n",
    "        pbar.set_postfix({'training_loss': '{:.3f}'.format(loss.item()/len(batch))})\n",
    "         \n",
    "    #---save the model to disk        \n",
    "    #torch.save(model.state_dict(), r'C:\\Users\\Karthik\\Desktop\\Dissertation\\BERT\\Model\\BERT_trained.model')\n",
    "        \n",
    "    #---calculate metrics \n",
    "    loss_train_avg = total_loss/len(train_dloader)            \n",
    "    val_loss, predictions, true_vals, val_accuracy, f1score = model_eval(val_dloader)\n",
    "\n",
    "    training_loss_dict[epoch] = loss_train_avg\n",
    "    validation_loss_dict[epoch] = val_loss\n",
    "    \n",
    "    tqdm.write(\"\\u0332\".join(f'\\nEpoch {epoch}'))\n",
    "    tqdm.write(f'Training loss: {loss_train_avg}')\n",
    "    tqdm.write(f'Validation loss: {val_loss}')\n",
    "    tqdm.write(f'validation accuracy: {val_accuracy}')\n",
    "    tqdm.write(f'f1 score: {f1score}')\n",
    "    \n",
    "torch.save(model, f\"C:\\\\Users\\\\Karthik\\\\Desktop\\\\Dissertation\\\\BERT\\\\Models\\\\BERT_Sentiment140_Batch_{batch_size}_LR_{lr}\")"
   ]
  },
  {
   "cell_type": "markdown",
   "metadata": {},
   "source": [
    "### 4.6 Learning Rate: 4e-5, Batch size = 16, 2 epochs"
   ]
  },
  {
   "cell_type": "code",
   "execution_count": 24,
   "metadata": {
    "jupyter": {
     "source_hidden": true
    }
   },
   "outputs": [],
   "source": [
    "epochs = 2\n",
    "lr = 4e-5\n",
    "optimizer = AdamW(model.parameters(), lr=lr, eps=1e-8)\n",
    "scheduler = get_linear_schedule_with_warmup(optimizer, num_warmup_steps=0, num_training_steps=len(train_dloader)*epochs)"
   ]
  },
  {
   "cell_type": "code",
   "execution_count": 25,
   "metadata": {
    "collapsed": true,
    "jupyter": {
     "outputs_hidden": true,
     "source_hidden": true
    }
   },
   "outputs": [
    {
     "data": {
      "application/vnd.jupyter.widget-view+json": {
       "model_id": "547061517f0c4a9b95ae0aed59039003",
       "version_major": 2,
       "version_minor": 0
      },
      "text/plain": [
       "HBox(children=(HTML(value=''), FloatProgress(value=0.0, max=2.0), HTML(value='')))"
      ]
     },
     "metadata": {},
     "output_type": "display_data"
    },
    {
     "data": {
      "application/vnd.jupyter.widget-view+json": {
       "model_id": "",
       "version_major": 2,
       "version_minor": 0
      },
      "text/plain": [
       "HBox(children=(HTML(value='Epoch 1'), FloatProgress(value=0.0, max=2344.0), HTML(value='')))"
      ]
     },
     "metadata": {},
     "output_type": "display_data"
    },
    {
     "data": {
      "application/vnd.jupyter.widget-view+json": {
       "model_id": "9ad1e67e3d5d40dfb9a17b518722d836",
       "version_major": 2,
       "version_minor": 0
      },
      "text/plain": [
       "HBox(children=(HTML(value=''), FloatProgress(value=0.0, max=782.0), HTML(value='')))"
      ]
     },
     "metadata": {},
     "output_type": "display_data"
    },
    {
     "name": "stdout",
     "output_type": "stream",
     "text": [
      "\n",
      "\n",
      "̲E̲p̲o̲c̲h̲ ̲1\n",
      "Training loss: 0.41865895168836714\n",
      "Validation loss: 0.37467033030165126\n",
      "validation accuracy: 0.84\n",
      "f1 score: 0.8397960503754014\n"
     ]
    },
    {
     "data": {
      "application/vnd.jupyter.widget-view+json": {
       "model_id": "",
       "version_major": 2,
       "version_minor": 0
      },
      "text/plain": [
       "HBox(children=(HTML(value='Epoch 2'), FloatProgress(value=0.0, max=2344.0), HTML(value='')))"
      ]
     },
     "metadata": {},
     "output_type": "display_data"
    },
    {
     "data": {
      "application/vnd.jupyter.widget-view+json": {
       "model_id": "7c0a8645c91c4f529525c6bb2af702e3",
       "version_major": 2,
       "version_minor": 0
      },
      "text/plain": [
       "HBox(children=(HTML(value=''), FloatProgress(value=0.0, max=782.0), HTML(value='')))"
      ]
     },
     "metadata": {},
     "output_type": "display_data"
    },
    {
     "name": "stdout",
     "output_type": "stream",
     "text": [
      "\n",
      "\n",
      "̲E̲p̲o̲c̲h̲ ̲2\n",
      "Training loss: 0.24322100275485387\n",
      "Validation loss: 0.4319172023135759\n",
      "validation accuracy: 0.842\n",
      "f1 score: 0.8419690259290822\n",
      "\n"
     ]
    }
   ],
   "source": [
    "training_loss_dict = {}\n",
    "validation_loss_dict = {}\n",
    "\n",
    "for epoch in tqdm(range(1, epochs+1)):\n",
    "    \n",
    "    #---set the model to training mode\n",
    "    model.train()         \n",
    "    \n",
    "    #counter to keep a sum of loss values across all epochs\n",
    "    total_loss = 0\n",
    "\n",
    "    # Setting up the Progress bar to Moniter the progress of training\n",
    "    pbar = tqdm(train_dloader, desc='Epoch {:1d}'.format(epoch), leave=False, disable=False)\n",
    "    for batch in pbar:\n",
    "        \n",
    "        #---set zero_grad so that gradient values are not accumulated across batches\n",
    "        model.zero_grad()\n",
    "        \n",
    "        #---get the input_ids, attention_masks and labels from each batch int a dictionary to pass as input to the model\n",
    "        temp_batch = tuple(b.to(device) for b in batch)                 #move the batch elements to GPU for faster performance\n",
    "         \n",
    "        input_dict = {'input_ids': temp_batch[0], 'attention_mask': temp_batch[1], 'labels': temp_batch[2]}       \n",
    "\n",
    "        #---Predict outputs using the model\n",
    "        model_output = model(**input_dict)\n",
    "\n",
    "        #---get loss for current batch and add to the total_loss counter\n",
    "        loss = model_output[0]\n",
    "        total_loss += loss.item()\n",
    "        \n",
    "        #---compute and clip gradients\n",
    "        loss.backward()                                           #compute gradients via backpropogation\n",
    "        torch.nn.utils.clip_grad_norm_(model.parameters(), 1.0)   #clip gradients to prevent gradient explosion issue\n",
    "\n",
    "        #---Use optimizer and scheduler to tune the model during epochs\n",
    "        optimizer.step()\n",
    "        scheduler.step()\n",
    "        \n",
    "        pbar.set_postfix({'training_loss': '{:.3f}'.format(loss.item()/len(batch))})\n",
    "         \n",
    "    #---save the model to disk        \n",
    "    #torch.save(model.state_dict(), r'C:\\Users\\Karthik\\Desktop\\Dissertation\\BERT\\Model\\BERT_trained.model')\n",
    "        \n",
    "    #---calculate metrics \n",
    "    loss_train_avg = total_loss/len(train_dloader)            \n",
    "    val_loss, predictions, true_vals, val_accuracy, f1score = model_eval(val_dloader)\n",
    "\n",
    "    training_loss_dict[epoch] = loss_train_avg\n",
    "    validation_loss_dict[epoch] = val_loss\n",
    "    \n",
    "    tqdm.write(\"\\u0332\".join(f'\\nEpoch {epoch}'))\n",
    "    tqdm.write(f'Training loss: {loss_train_avg}')\n",
    "    tqdm.write(f'Validation loss: {val_loss}')\n",
    "    tqdm.write(f'validation accuracy: {val_accuracy}')\n",
    "    tqdm.write(f'f1 score: {f1score}')\n",
    "    \n",
    "torch.save(model, f\"C:\\\\Users\\\\Karthik\\\\Desktop\\\\Dissertation\\\\BERT\\\\Models\\\\BERT_Sentiment140_Batch_{batch_size}_LR_{lr}_epoch_{epochs}\")"
   ]
  },
  {
   "cell_type": "markdown",
   "metadata": {},
   "source": [
    "## 5. Predict with the best model\n",
    "- *Batch size of 32 and learning rate of 4e-4 gave the best results*"
   ]
  },
  {
   "cell_type": "markdown",
   "metadata": {},
   "source": [
    "### 5.1 Load the selected model"
   ]
  },
  {
   "cell_type": "code",
   "execution_count": 9,
   "metadata": {},
   "outputs": [],
   "source": [
    "reqd_model = torch.load(r\"C:\\Users\\Karthik\\Desktop\\Dissertation\\BERT\\Models\\BERT_Sentiment140_Batch_16_LR_4e-05_epoch_2\")"
   ]
  },
  {
   "cell_type": "code",
   "execution_count": 10,
   "metadata": {},
   "outputs": [
    {
     "name": "stdout",
     "output_type": "stream",
     "text": [
      "cuda\n"
     ]
    }
   ],
   "source": [
    "device = torch.device('cuda' if torch.cuda.is_available() else 'cpu')\n",
    "reqd_model.to(device) \n",
    "print(device)"
   ]
  },
  {
   "cell_type": "markdown",
   "metadata": {},
   "source": [
    "### 5.2 Prepare the datasets to be used in the BERT model for prediction"
   ]
  },
  {
   "cell_type": "markdown",
   "metadata": {},
   "source": [
    "#### 5.2.1 Clean the text data"
   ]
  },
  {
   "cell_type": "code",
   "execution_count": 11,
   "metadata": {},
   "outputs": [],
   "source": [
    "for tick, tick_df in reddit_df_dict.items():\n",
    "#     print(tick, tick_df)\n",
    "    tick_df['cleaned_body'] = tick_df['body'].apply(lambda x: text_preprocessing(x))\n",
    "    tick_df['LEN'] = tick_df.cleaned_body.str.len()    "
   ]
  },
  {
   "cell_type": "code",
   "execution_count": 12,
   "metadata": {},
   "outputs": [],
   "source": [
    "for tick, tick_df in twitter_df_dict.items():\n",
    "    tick_df['cleaned_body'] = tick_df['cleaned_content'].apply(lambda x: text_preprocessing(x))\n",
    "    tick_df['LEN'] = tick_df.cleaned_body.str.len()    "
   ]
  },
  {
   "cell_type": "markdown",
   "metadata": {},
   "source": [
    "#### 5.2.2 Handle records where text is greater than a length of 512\n",
    "- *BERT can only handle a max length of 512*\n",
    "- *For each comment > length of 512, break the comment into multiple sets of 512*\n",
    "- *After breaking, create a new record for each of the broken parts and append to the original dataframe. Since we take the average sentiment scores, appending new rows with the same dates will not affect the data*"
   ]
  },
  {
   "cell_type": "code",
   "execution_count": 13,
   "metadata": {},
   "outputs": [],
   "source": [
    "n=512\n",
    "def ffn(xseries):\n",
    "    list_of_lists = []\n",
    "        \n",
    "    if xseries['LEN']>512:\n",
    "        parts = [xseries['cleaned_body'][i:i+n] for i in range(0, xseries['LEN'], n)]\n",
    "    \n",
    "        counter=0\n",
    "        for i in parts:\n",
    "            list_series = []\n",
    "            list_series.append(xseries['body'])\n",
    "            list_series.append(xseries['created_utc'])\n",
    "            list_series.append(xseries['id'])\n",
    "            list_series.append(xseries['top'])\n",
    "            list_series.append(xseries['year'])\n",
    "            list_series.append(xseries['month'])\n",
    "            list_series.append(xseries['day'])\n",
    "            list_series.append(xseries['ticker'])\n",
    "            list_series.append(xseries['YearMonDay'])\n",
    "            list_series.append(i)\n",
    "            counter+=1\n",
    "            list_series.append(counter)\n",
    "            \n",
    "            list_of_lists.append(list_series)\n",
    "    \n",
    "        return list_of_lists\n",
    "    else:\n",
    "        return 0"
   ]
  },
  {
   "cell_type": "code",
   "execution_count": 14,
   "metadata": {},
   "outputs": [],
   "source": [
    "for tick, tick_df in reddit_df_dict.items():\n",
    "    tick_df['mltp'] = tick_df.apply(ffn, axis=1)"
   ]
  },
  {
   "cell_type": "code",
   "execution_count": 15,
   "metadata": {},
   "outputs": [],
   "source": [
    "for tick, tick_df in twitter_df_dict.items():\n",
    "    tick_df['mltp'] = tick_df.apply(ffn, axis=1)"
   ]
  },
  {
   "cell_type": "code",
   "execution_count": 16,
   "metadata": {},
   "outputs": [],
   "source": [
    "for tick, tick_df in reddit_df_dict.items():\n",
    "    addition_list = tick_df.query('mltp != 0')['mltp']\n",
    "    \n",
    "    if len(addition_list)==0:\n",
    "        continue\n",
    "    \n",
    "    ind_additions = []\n",
    "\n",
    "    for list_of_sentences in addition_list:\n",
    "        for sentence_part in list_of_sentences:\n",
    "            ind_additions.append(sentence_part)\n",
    "    \n",
    "    \n",
    "    df_additions = pd.DataFrame(ind_additions, columns=['body','created_utc','id','top','year','month','day','ticker','YearMonDay','cleaned_body','LEN'])\n",
    "    \n",
    "    tick_df.drop('mltp', axis=1, inplace=True)\n",
    "    tick_df.drop(tick_df[tick_df.LEN > 512].index, inplace = True)\n",
    "    tick_df = tick_df.append(df_additions, ignore_index=True)"
   ]
  },
  {
   "cell_type": "code",
   "execution_count": 17,
   "metadata": {},
   "outputs": [],
   "source": [
    "for tick, tick_df in twitter_df_dict.items():\n",
    "    addition_list = tick_df.query('mltp != 0')['mltp']\n",
    "    \n",
    "    if len(addition_list)==0:\n",
    "        continue\n",
    "    \n",
    "    ind_additions = []\n",
    "\n",
    "    for list_of_sentences in addition_list:\n",
    "        for sentence_part in list_of_sentences:\n",
    "            ind_additions.append(sentence_part)\n",
    "    \n",
    "    \n",
    "    df_additions = pd.DataFrame(ind_additions, columns=['body','created_utc','id','top','year','month','day','ticker','YearMonDay','cleaned_body','LEN'])\n",
    "    \n",
    "    tick_df.drop('mltp', axis=1, inplace=True)\n",
    "    tick_df.drop(tick_df[tick_df.LEN > 512].index, inplace = True)\n",
    "    tick_df = tick_df.append(df_additions, ignore_index=True)"
   ]
  },
  {
   "cell_type": "markdown",
   "metadata": {},
   "source": [
    "- *Make sure there is no data where comment length is greater than 512*"
   ]
  },
  {
   "cell_type": "code",
   "execution_count": 18,
   "metadata": {},
   "outputs": [
    {
     "name": "stdout",
     "output_type": "stream",
     "text": [
      "Empty DataFrame\n",
      "Columns: [body, created_utc, id, top, year, month, day, ticker, YearMonDay, cleaned_body, LEN]\n",
      "Index: []\n",
      "Empty DataFrame\n",
      "Columns: [body, created_utc, id, top, year, month, day, ticker, YearMonDay, cleaned_body, LEN]\n",
      "Index: []\n",
      "Empty DataFrame\n",
      "Columns: [body, created_utc, id, top, year, month, day, ticker, YearMonDay, cleaned_body, LEN]\n",
      "Index: []\n",
      "Empty DataFrame\n",
      "Columns: [body, created_utc, id, top, year, month, day, ticker, YearMonDay, cleaned_body, LEN]\n",
      "Index: []\n",
      "Empty DataFrame\n",
      "Columns: [body, created_utc, id, top, year, month, day, ticker, YearMonDay, cleaned_body, LEN]\n",
      "Index: []\n",
      "Empty DataFrame\n",
      "Columns: [body, created_utc, id, top, year, month, day, ticker, YearMonDay, cleaned_body, LEN]\n",
      "Index: []\n"
     ]
    }
   ],
   "source": [
    "for tick, tick_df in reddit_df_dict.items():\n",
    "    print(tick_df.query('LEN > 512'))"
   ]
  },
  {
   "cell_type": "code",
   "execution_count": 19,
   "metadata": {},
   "outputs": [
    {
     "name": "stdout",
     "output_type": "stream",
     "text": [
      "Empty DataFrame\n",
      "Columns: [date, content, likeCount, lang, cleaned_content, year, month, day, ticker, YearMonDay, cleaned_body, LEN, mltp]\n",
      "Index: []\n",
      "Empty DataFrame\n",
      "Columns: [date, content, likeCount, lang, cleaned_content, year, month, day, ticker, YearMonDay, cleaned_body, LEN, mltp]\n",
      "Index: []\n",
      "Empty DataFrame\n",
      "Columns: [date, content, likeCount, lang, cleaned_content, year, month, day, ticker, YearMonDay, cleaned_body, LEN, mltp]\n",
      "Index: []\n",
      "Empty DataFrame\n",
      "Columns: [date, content, likeCount, lang, cleaned_content, year, month, day, ticker, YearMonDay, cleaned_body, LEN, mltp]\n",
      "Index: []\n",
      "Empty DataFrame\n",
      "Columns: [date, content, likeCount, lang, cleaned_content, year, month, day, ticker, YearMonDay, cleaned_body, LEN, mltp]\n",
      "Index: []\n",
      "Empty DataFrame\n",
      "Columns: [date, content, likeCount, lang, cleaned_content, year, month, day, ticker, YearMonDay, cleaned_body, LEN, mltp]\n",
      "Index: []\n"
     ]
    }
   ],
   "source": [
    "for tick, tick_df in twitter_df_dict.items():\n",
    "    print(tick_df.query('LEN > 512'))"
   ]
  },
  {
   "cell_type": "markdown",
   "metadata": {},
   "source": [
    "#### 5.2.3 Define a funtion to prepare reddit and twitter data for model prediction\n",
    "- *The data should be tokenized and encoded and then tensor datasets must be created from them to be passed to the BERT model*\n",
    "- *We will create a dictionary for reddit and twitter to hold the tensor datasets respectively*"
   ]
  },
  {
   "cell_type": "code",
   "execution_count": 20,
   "metadata": {},
   "outputs": [],
   "source": [
    "#---Initialize bert-base-uncased tokenizer and select the option to convert all text to lowercase\n",
    "tokenizer = BertTokenizer.from_pretrained('bert-base-uncased', do_lower_case=True)\n",
    "\n",
    "def dataloader_fnc(text, MAX_LEN):\n",
    "    input_id_list = []\n",
    "    attn_mask_list = []\n",
    "    \n",
    "    for line in text:\n",
    "        #--Tokenize and encode the cleaned text (we do not return_tensors here since our tensor should have all the lines)\n",
    "        data_enc = tokenizer.encode_plus(line, \n",
    "                                         add_special_tokens=True, \n",
    "                                         return_attention_mask=True, \n",
    "                                         pad_to_max_length=True, \n",
    "                                         max_length=MAX_LEN\n",
    "                                         )\n",
    "        \n",
    "        #--get the input_ids and attention_mask values\n",
    "        input_id_list.append(data_enc.get(\"input_ids\"))\n",
    "        attn_mask_list.append(data_enc.get(\"attention_mask\"))\n",
    "    \n",
    "    tensor_dataset = TensorDataset(torch.tensor(input_id_list), torch.tensor(attn_mask_list) )\n",
    "    dataloader = DataLoader(tensor_dataset, sampler=SequentialSampler(tensor_dataset), batch_size=16)\n",
    "    \n",
    "    return dataloader"
   ]
  },
  {
   "cell_type": "code",
   "execution_count": 21,
   "metadata": {},
   "outputs": [
    {
     "name": "stderr",
     "output_type": "stream",
     "text": [
      "Truncation was not explicitly activated but `max_length` is provided a specific value, please use `truncation=True` to explicitly truncate examples to max length. Defaulting to 'longest_first' truncation strategy. If you encode pairs of sequences (GLUE-style) with the tokenizer you can select this strategy more precisely by providing a specific strategy to `truncation`.\n",
      "C:\\ProgramData\\Anaconda3\\lib\\site-packages\\transformers\\tokenization_utils_base.py:2184: FutureWarning: The `pad_to_max_length` argument is deprecated and will be removed in a future version, use `padding=True` or `padding='longest'` to pad to the longest sequence in the batch, or use `padding='max_length'` to pad to a max length. In this case, you can give a specific length with `max_length` (e.g. `max_length=45`) or leave max_length to None to pad to the maximal input size of the model (e.g. 512 for Bert).\n",
      "  warnings.warn(\n"
     ]
    }
   ],
   "source": [
    "reddit_dataloader_dict = {tick: dataloader_fnc(tick_df.cleaned_body, tick_df.cleaned_body.str.len().max())  for tick, tick_df in reddit_df_dict.items()}"
   ]
  },
  {
   "cell_type": "code",
   "execution_count": 22,
   "metadata": {},
   "outputs": [
    {
     "data": {
      "text/plain": [
       "{'AAPL': <torch.utils.data.dataloader.DataLoader at 0x23215174820>,\n",
       " 'AMC': <torch.utils.data.dataloader.DataLoader at 0x232a62ced30>,\n",
       " 'DKNG': <torch.utils.data.dataloader.DataLoader at 0x232a62cef10>,\n",
       " 'TSLA': <torch.utils.data.dataloader.DataLoader at 0x232a62ceb50>,\n",
       " 'AMD': <torch.utils.data.dataloader.DataLoader at 0x232150ba9d0>,\n",
       " 'BABA': <torch.utils.data.dataloader.DataLoader at 0x232150baaf0>}"
      ]
     },
     "execution_count": 22,
     "metadata": {},
     "output_type": "execute_result"
    }
   ],
   "source": [
    "reddit_dataloader_dict"
   ]
  },
  {
   "cell_type": "code",
   "execution_count": 23,
   "metadata": {},
   "outputs": [],
   "source": [
    "twitter_dataloader_dict = {tick: dataloader_fnc(tick_df.cleaned_body, tick_df.cleaned_body.str.len().max())  for tick, tick_df in twitter_df_dict.items()}"
   ]
  },
  {
   "cell_type": "code",
   "execution_count": 24,
   "metadata": {},
   "outputs": [
    {
     "data": {
      "text/plain": [
       "{'AAPL': <torch.utils.data.dataloader.DataLoader at 0x23253328580>,\n",
       " 'AMC': <torch.utils.data.dataloader.DataLoader at 0x231c7d38580>,\n",
       " 'DKNG': <torch.utils.data.dataloader.DataLoader at 0x231c7d38490>,\n",
       " 'TSLA': <torch.utils.data.dataloader.DataLoader at 0x231c7d382e0>,\n",
       " 'AMD': <torch.utils.data.dataloader.DataLoader at 0x231c7d382b0>,\n",
       " 'BABA': <torch.utils.data.dataloader.DataLoader at 0x231c7d26970>}"
      ]
     },
     "execution_count": 24,
     "metadata": {},
     "output_type": "execute_result"
    }
   ],
   "source": [
    "twitter_dataloader_dict"
   ]
  },
  {
   "cell_type": "markdown",
   "metadata": {},
   "source": [
    "## 6. Prediction"
   ]
  },
  {
   "cell_type": "markdown",
   "metadata": {},
   "source": [
    "### 6.1 Define a prediction function"
   ]
  },
  {
   "cell_type": "code",
   "execution_count": 25,
   "metadata": {},
   "outputs": [],
   "source": [
    "def prediction(bert_model, data):\n",
    "    #--put the model in eval mode\n",
    "    bert_model.eval()\n",
    "    \n",
    "    #--predict and collect output logits in a list\n",
    "    output_logit_list = []\n",
    "    \n",
    "    for batch in data:\n",
    "        temp_batch = tuple(b.to(device) for b in batch)                 #move the batch elements to GPU for faster performance\n",
    "        input_id_tensor = temp_batch[0]\n",
    "        attn_mask_tensor = temp_batch[1]\n",
    "#         print(input_id_tensor)\n",
    "#         print(attn_mask_tensor)\n",
    "        \n",
    "        with torch.no_grad():\n",
    "            output_logits = bert_model(input_id_tensor, attn_mask_tensor)\n",
    "            output_logit_list.append(output_logits[0])\n",
    "    \n",
    "    #--concatenate logits across batches and apply softmax\n",
    "    complete_logits = torch.cat(output_logit_list, dim=0)\n",
    "    softmax_probs = Func.softmax(complete_logits, dim=1).cpu().numpy() #convert to numpy\n",
    "    \n",
    "    return softmax_probs"
   ]
  },
  {
   "cell_type": "markdown",
   "metadata": {},
   "source": [
    "### 6.2 Predict sentiments for reddit data"
   ]
  },
  {
   "cell_type": "markdown",
   "metadata": {},
   "source": [
    "#### 6.2.1 Prediction for reddit comments\n",
    "- *Use the model to get positive and negative probabilities for each reddit comment*\n",
    "- *Group by date and compute average positive, negative and neutral scores for each day*"
   ]
  },
  {
   "cell_type": "code",
   "execution_count": 26,
   "metadata": {},
   "outputs": [],
   "source": [
    "for tick, tick_df in reddit_df_dict.items():\n",
    "    pred_df = pd.DataFrame(prediction(reqd_model, reddit_dataloader_dict[tick]), columns=['negative', 'positive'])\n",
    "    reddit_df_dict[tick] = pd.concat([tick_df, pred_df], axis=1)"
   ]
  },
  {
   "cell_type": "code",
   "execution_count": 27,
   "metadata": {},
   "outputs": [
    {
     "name": "stdout",
     "output_type": "stream",
     "text": [
      "    ticker YearMonDay  negative  positive\n",
      "0     AAPL    20Aug03  0.525778  0.474222\n",
      "1     AAPL    20Aug05  0.473751  0.526249\n",
      "2     AAPL    20Aug06  0.566665  0.433335\n",
      "3     AAPL    20Aug10  0.563220  0.436780\n",
      "4     AAPL    20Aug11  0.605449  0.394551\n",
      "..     ...        ...       ...       ...\n",
      "253   AAPL    21May24  0.382096  0.617904\n",
      "254   AAPL    21May25  0.458121  0.541879\n",
      "255   AAPL    21May26  0.561172  0.438828\n",
      "256   AAPL    21May27  0.677567  0.322433\n",
      "257   AAPL    21May28  0.515061  0.484939\n",
      "\n",
      "[258 rows x 4 columns]\n",
      "    ticker YearMonDay  negative  positive\n",
      "0      AMC    20Aug05  0.469485  0.530515\n",
      "1      AMC    20Aug13  0.982924  0.017076\n",
      "2      AMC    20Aug17  0.733672  0.266328\n",
      "3      AMC    20Aug19  0.430416  0.569584\n",
      "4      AMC    20Aug25  0.104475  0.895525\n",
      "..     ...        ...       ...       ...\n",
      "175    AMC    21May26  0.404465  0.595535\n",
      "176    AMC    21May27  0.382352  0.617648\n",
      "177    AMC    21May28  0.393951  0.606049\n",
      "178    AMC    21May29  0.659310  0.340690\n",
      "179    AMC    21May30  0.773926  0.226074\n",
      "\n",
      "[180 rows x 4 columns]\n",
      "    ticker YearMonDay  negative  positive\n",
      "0     DKNG    20Aug03  0.811502  0.188498\n",
      "1     DKNG    20Aug05  0.518687  0.481313\n",
      "2     DKNG    20Aug06  0.632676  0.367324\n",
      "3     DKNG    20Aug10  0.947684  0.052316\n",
      "4     DKNG    20Aug11  0.915939  0.084061\n",
      "..     ...        ...       ...       ...\n",
      "231   DKNG    21May24  0.464729  0.535271\n",
      "232   DKNG    21May25  0.429782  0.570218\n",
      "233   DKNG    21May26  0.606718  0.393282\n",
      "234   DKNG    21May27  0.681161  0.318839\n",
      "235   DKNG    21May28  0.868886  0.131114\n",
      "\n",
      "[236 rows x 4 columns]\n",
      "    ticker YearMonDay  negative  positive\n",
      "0     TSLA    20Aug03  0.503466  0.496534\n",
      "1     TSLA    20Aug05  0.500452  0.499548\n",
      "2     TSLA    20Aug06  0.667612  0.332388\n",
      "3     TSLA    20Aug10  0.477366  0.522634\n",
      "4     TSLA    20Aug11  0.486087  0.513913\n",
      "..     ...        ...       ...       ...\n",
      "256   TSLA    21May24  0.450945  0.549055\n",
      "257   TSLA    21May25  0.469447  0.530553\n",
      "258   TSLA    21May26  0.429160  0.570840\n",
      "259   TSLA    21May27  0.520783  0.479217\n",
      "260   TSLA    21May28  0.451134  0.548866\n",
      "\n",
      "[261 rows x 4 columns]\n",
      "    ticker YearMonDay  negative  positive\n",
      "0      AMD    20Aug03  0.474967  0.525033\n",
      "1      AMD    20Aug05  0.604206  0.395794\n",
      "2      AMD    20Aug06  0.515567  0.484433\n",
      "3      AMD    20Aug10  0.593995  0.406005\n",
      "4      AMD    20Aug11  0.701247  0.298753\n",
      "..     ...        ...       ...       ...\n",
      "251    AMD    21May25  0.474551  0.525449\n",
      "252    AMD    21May26  0.542122  0.457878\n",
      "253    AMD    21May27  0.485865  0.514135\n",
      "254    AMD    21May28  0.409731  0.590269\n",
      "255    AMD    21May29  0.833860  0.166140\n",
      "\n",
      "[256 rows x 4 columns]\n",
      "    ticker YearMonDay  negative  positive\n",
      "0     BABA    20Aug03  0.734674  0.265326\n",
      "1     BABA    20Aug05  0.403539  0.596461\n",
      "2     BABA    20Aug06  0.926119  0.073881\n",
      "3     BABA    20Aug10  0.925313  0.074687\n",
      "4     BABA    20Aug11  0.767869  0.232131\n",
      "..     ...        ...       ...       ...\n",
      "230   BABA    21May24  0.520159  0.479841\n",
      "231   BABA    21May25  0.601711  0.398289\n",
      "232   BABA    21May26  0.793383  0.206617\n",
      "233   BABA    21May27  0.293775  0.706225\n",
      "234   BABA    21May28  0.637479  0.362521\n",
      "\n",
      "[235 rows x 4 columns]\n"
     ]
    }
   ],
   "source": [
    "for tick, tick_df in reddit_df_dict.items():\n",
    "    tick_grouped = tick_df.groupby(['ticker', 'YearMonDay'])[['negative', 'positive']].mean().reset_index()\n",
    "    tick_grouped.to_pickle(f\"C:\\\\Users\\\\Karthik\\\\Desktop\\\\Dissertation\\\\Final_dfs\\\\reddit_{tick}_BERT_Sentiment140.pkl\")\n",
    "    print(tick_grouped)"
   ]
  },
  {
   "cell_type": "markdown",
   "metadata": {},
   "source": [
    "#### 6.2.2 Prediction for twitter comments\n",
    "- *Use the model to get positive and negative probabilities for each twitter comment*\n",
    "- *Group by date and compute average positive, negative and neutral scores for each day*"
   ]
  },
  {
   "cell_type": "code",
   "execution_count": 28,
   "metadata": {},
   "outputs": [],
   "source": [
    "for tick, tick_df in twitter_df_dict.items():\n",
    "    pred_df = pd.DataFrame(prediction(reqd_model, twitter_dataloader_dict[tick]), columns=['negative', 'positive'])\n",
    "    twitter_df_dict[tick] = pd.concat([tick_df, pred_df], axis=1)"
   ]
  },
  {
   "cell_type": "code",
   "execution_count": 29,
   "metadata": {},
   "outputs": [
    {
     "name": "stdout",
     "output_type": "stream",
     "text": [
      "    ticker YearMonDay  negative  positive\n",
      "0     AAPL    20Aug01  0.410255  0.589745\n",
      "1     AAPL    20Aug02  0.385161  0.614839\n",
      "2     AAPL    20Aug03  0.403561  0.596439\n",
      "3     AAPL    20Aug04  0.398259  0.601741\n",
      "4     AAPL    20Aug05  0.437953  0.562047\n",
      "..     ...        ...       ...       ...\n",
      "482   AAPL    21Sep26  0.408619  0.591381\n",
      "483   AAPL    21Sep27  0.384897  0.615103\n",
      "484   AAPL    21Sep28  0.423793  0.576207\n",
      "485   AAPL    21Sep29  0.398828  0.601171\n",
      "486   AAPL    21Sep30  0.466274  0.533726\n",
      "\n",
      "[487 rows x 4 columns]\n",
      "    ticker YearMonDay  negative  positive\n",
      "0      AMC    20Aug01  0.424519  0.575481\n",
      "1      AMC    20Aug02  0.571125  0.428875\n",
      "2      AMC    20Aug03  0.320163  0.679837\n",
      "3      AMC    20Aug04  0.355008  0.644992\n",
      "4      AMC    20Aug05  0.412835  0.587165\n",
      "..     ...        ...       ...       ...\n",
      "482    AMC    21Sep26  0.269218  0.730782\n",
      "483    AMC    21Sep27  0.370985  0.629015\n",
      "484    AMC    21Sep28  0.378215  0.621785\n",
      "485    AMC    21Sep29  0.368406  0.631594\n",
      "486    AMC    21Sep30  0.329858  0.670142\n",
      "\n",
      "[487 rows x 4 columns]\n",
      "    ticker YearMonDay  negative  positive\n",
      "0     DKNG    20Aug01  0.369806  0.630194\n",
      "1     DKNG    20Aug02  0.479418  0.520582\n",
      "2     DKNG    20Aug03  0.543997  0.456003\n",
      "3     DKNG    20Aug04  0.452124  0.547876\n",
      "4     DKNG    20Aug05  0.312624  0.687376\n",
      "..     ...        ...       ...       ...\n",
      "482   DKNG    21Sep26  0.239254  0.760746\n",
      "483   DKNG    21Sep27  0.351393  0.648607\n",
      "484   DKNG    21Sep28  0.396106  0.603894\n",
      "485   DKNG    21Sep29  0.361748  0.638251\n",
      "486   DKNG    21Sep30  0.386878  0.613122\n",
      "\n",
      "[487 rows x 4 columns]\n",
      "    ticker YearMonDay  negative  positive\n",
      "0     TSLA    20Aug01  0.361203  0.638797\n",
      "1     TSLA    20Aug02  0.350846  0.649154\n",
      "2     TSLA    20Aug03  0.383012  0.616988\n",
      "3     TSLA    20Aug04  0.467343  0.532657\n",
      "4     TSLA    20Aug05  0.442687  0.557313\n",
      "..     ...        ...       ...       ...\n",
      "482   TSLA    21Sep26  0.352457  0.647543\n",
      "483   TSLA    21Sep27  0.299513  0.700487\n",
      "484   TSLA    21Sep28  0.392145  0.607855\n",
      "485   TSLA    21Sep29  0.417795  0.582205\n",
      "486   TSLA    21Sep30  0.388414  0.611586\n",
      "\n",
      "[487 rows x 4 columns]\n",
      "    ticker YearMonDay  negative  positive\n",
      "0      AMD    20Aug05  0.165642  0.834358\n",
      "1      AMD    20Aug08  0.307301  0.692699\n",
      "2      AMD    20Dec03  0.039126  0.960874\n",
      "3      AMD    20Dec04  0.086267  0.913733\n",
      "4      AMD    20Dec09  0.025148  0.974852\n",
      "..     ...        ...       ...       ...\n",
      "237    AMD    21Sep26  0.278943  0.721057\n",
      "238    AMD    21Sep27  0.316046  0.683954\n",
      "239    AMD    21Sep28  0.402229  0.597771\n",
      "240    AMD    21Sep29  0.348266  0.651734\n",
      "241    AMD    21Sep30  0.300271  0.699729\n",
      "\n",
      "[242 rows x 4 columns]\n",
      "    ticker YearMonDay  negative  positive\n",
      "0     BABA    20Aug01  0.505246  0.494754\n",
      "1     BABA    20Aug02  0.300364  0.699636\n",
      "2     BABA    20Aug03  0.313744  0.686256\n",
      "3     BABA    20Aug04  0.355252  0.644748\n",
      "4     BABA    20Aug05  0.321021  0.678979\n",
      "..     ...        ...       ...       ...\n",
      "482   BABA    21Sep26  0.408738  0.591262\n",
      "483   BABA    21Sep27  0.344149  0.655851\n",
      "484   BABA    21Sep28  0.396375  0.603625\n",
      "485   BABA    21Sep29  0.375221  0.624779\n",
      "486   BABA    21Sep30  0.338012  0.661988\n",
      "\n",
      "[487 rows x 4 columns]\n"
     ]
    }
   ],
   "source": [
    "for tick, tick_df in twitter_df_dict.items():\n",
    "    tick_grouped = tick_df.groupby(['ticker', 'YearMonDay'])[['negative', 'positive']].mean().reset_index()\n",
    "    tick_grouped.to_pickle(f\"C:\\\\Users\\\\Karthik\\\\Desktop\\\\Dissertation\\\\Final_dfs\\\\twitter_{tick}_BERT_Sentiment140.pkl\")\n",
    "    print(tick_grouped)"
   ]
  },
  {
   "cell_type": "markdown",
   "metadata": {},
   "source": [
    "#### 6.2.3 Calculate combined predictions by combining both reddit and twitter sentiments"
   ]
  },
  {
   "cell_type": "code",
   "execution_count": 30,
   "metadata": {},
   "outputs": [
    {
     "name": "stdout",
     "output_type": "stream",
     "text": [
      "AAPL\n",
      "    ticker YearMonDay  negative  positive\n",
      "0     AAPL    20Aug01  0.410255  0.589745\n",
      "1     AAPL    20Aug02  0.385161  0.614839\n",
      "2     AAPL    20Aug03  0.418962  0.581038\n",
      "3     AAPL    20Aug04  0.398259  0.601741\n",
      "4     AAPL    20Aug05  0.439466  0.560534\n",
      "..     ...        ...       ...       ...\n",
      "499   AAPL    21Sep26  0.408619  0.591381\n",
      "500   AAPL    21Sep27  0.384897  0.615103\n",
      "501   AAPL    21Sep28  0.423793  0.576207\n",
      "502   AAPL    21Sep29  0.398828  0.601171\n",
      "503   AAPL    21Sep30  0.466274  0.533726\n",
      "\n",
      "[504 rows x 4 columns]\n",
      "AMC\n",
      "    ticker YearMonDay  negative  positive\n",
      "0      AMC    20Aug01  0.424519  0.575481\n",
      "1      AMC    20Aug02  0.571125  0.428875\n",
      "2      AMC    20Aug03  0.320163  0.679837\n",
      "3      AMC    20Aug04  0.355008  0.644992\n",
      "4      AMC    20Aug05  0.417985  0.582015\n",
      "..     ...        ...       ...       ...\n",
      "488    AMC    21Sep26  0.269218  0.730782\n",
      "489    AMC    21Sep27  0.370985  0.629015\n",
      "490    AMC    21Sep28  0.378215  0.621785\n",
      "491    AMC    21Sep29  0.368406  0.631594\n",
      "492    AMC    21Sep30  0.329858  0.670142\n",
      "\n",
      "[493 rows x 4 columns]\n",
      "DKNG\n",
      "    ticker YearMonDay  negative  positive\n",
      "0     DKNG    20Aug01  0.369806  0.630194\n",
      "1     DKNG    20Aug02  0.479418  0.520582\n",
      "2     DKNG    20Aug03  0.550856  0.449144\n",
      "3     DKNG    20Aug04  0.452124  0.547876\n",
      "4     DKNG    20Aug05  0.316239  0.683761\n",
      "..     ...        ...       ...       ...\n",
      "500   DKNG    21Sep26  0.239254  0.760746\n",
      "501   DKNG    21Sep27  0.351393  0.648607\n",
      "502   DKNG    21Sep28  0.396106  0.603894\n",
      "503   DKNG    21Sep29  0.361748  0.638251\n",
      "504   DKNG    21Sep30  0.386878  0.613122\n",
      "\n",
      "[505 rows x 4 columns]\n",
      "TSLA\n",
      "    ticker YearMonDay  negative  positive\n",
      "0     TSLA    20Aug01  0.361203  0.638797\n",
      "1     TSLA    20Aug02  0.350846  0.649154\n",
      "2     TSLA    20Aug03  0.390177  0.609823\n",
      "3     TSLA    20Aug04  0.467343  0.532657\n",
      "4     TSLA    20Aug05  0.443584  0.556416\n",
      "..     ...        ...       ...       ...\n",
      "500   TSLA    21Sep26  0.352457  0.647543\n",
      "501   TSLA    21Sep27  0.299513  0.700487\n",
      "502   TSLA    21Sep28  0.392145  0.607855\n",
      "503   TSLA    21Sep29  0.417795  0.582205\n",
      "504   TSLA    21Sep30  0.388414  0.611586\n",
      "\n",
      "[505 rows x 4 columns]\n",
      "AMD\n",
      "    ticker YearMonDay  negative  positive\n",
      "0      AMD    20Aug03  0.474967  0.525033\n",
      "1      AMD    20Aug05  0.562438  0.437562\n",
      "2      AMD    20Aug06  0.515567  0.484433\n",
      "3      AMD    20Aug08  0.307301  0.692699\n",
      "4      AMD    20Aug10  0.593995  0.406005\n",
      "..     ...        ...       ...       ...\n",
      "384    AMD    21Sep26  0.278943  0.721057\n",
      "385    AMD    21Sep27  0.316046  0.683954\n",
      "386    AMD    21Sep28  0.402229  0.597771\n",
      "387    AMD    21Sep29  0.348266  0.651734\n",
      "388    AMD    21Sep30  0.300271  0.699729\n",
      "\n",
      "[389 rows x 4 columns]\n",
      "BABA\n",
      "    ticker YearMonDay  negative  positive\n",
      "0     BABA    20Aug01  0.505246  0.494754\n",
      "1     BABA    20Aug02  0.300364  0.699636\n",
      "2     BABA    20Aug03  0.336621  0.663379\n",
      "3     BABA    20Aug04  0.355252  0.644748\n",
      "4     BABA    20Aug05  0.325543  0.674457\n",
      "..     ...        ...       ...       ...\n",
      "501   BABA    21Sep26  0.408738  0.591262\n",
      "502   BABA    21Sep27  0.344149  0.655851\n",
      "503   BABA    21Sep28  0.396375  0.603625\n",
      "504   BABA    21Sep29  0.375221  0.624779\n",
      "505   BABA    21Sep30  0.338012  0.661988\n",
      "\n",
      "[506 rows x 4 columns]\n"
     ]
    }
   ],
   "source": [
    "for ticker in tick_list:\n",
    "    print(ticker)\n",
    "    reddit_sentis = reddit_df_dict[ticker][['ticker', 'YearMonDay', 'negative', 'positive']]\n",
    "    twitter_sentis = twitter_df_dict[ticker][['ticker', 'YearMonDay', 'negative', 'positive']]\n",
    "    \n",
    "#     print(reddit_sentis,twitter_sentis,pd.concat([reddit_sentis,twitter_sentis], axis=0,ignore_index=True))\n",
    "    combined_sentis = pd.concat([reddit_sentis,twitter_sentis], axis=0,ignore_index=True)\n",
    "    combined_sentis_grouped = combined_sentis.groupby(['ticker', 'YearMonDay'])[['negative', 'positive']].mean().reset_index()\n",
    "    combined_sentis_grouped.to_pickle(f\"C:\\\\Users\\\\Karthik\\\\Desktop\\\\Dissertation\\\\Final_dfs\\\\combined_{ticker}_BERT_Sentiment140.pkl\")\n",
    "    print(combined_sentis_grouped)"
   ]
  },
  {
   "cell_type": "code",
   "execution_count": null,
   "metadata": {},
   "outputs": [],
   "source": []
  },
  {
   "cell_type": "markdown",
   "metadata": {},
   "source": [
    "## References\n",
    "- https://machinelearningmastery.com/exploding-gradients-in-neural-networks/\n",
    "- https://neptune.ai/blog/understanding-gradient-clipping-and-how-it-can-fix-exploding-gradients-problem"
   ]
  }
 ],
 "metadata": {
  "kernelspec": {
   "display_name": "Python 3",
   "language": "python",
   "name": "python3"
  },
  "language_info": {
   "codemirror_mode": {
    "name": "ipython",
    "version": 3
   },
   "file_extension": ".py",
   "mimetype": "text/x-python",
   "name": "python",
   "nbconvert_exporter": "python",
   "pygments_lexer": "ipython3",
   "version": "3.8.5"
  }
 },
 "nbformat": 4,
 "nbformat_minor": 4
}
