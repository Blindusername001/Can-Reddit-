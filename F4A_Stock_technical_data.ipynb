{
 "cells": [
  {
   "cell_type": "markdown",
   "metadata": {},
   "source": [
    "# Step 4: Get stock historical data and compute the 14 indicators"
   ]
  },
  {
   "cell_type": "markdown",
   "metadata": {},
   "source": [
    "## 1. Import required libraries"
   ]
  },
  {
   "cell_type": "code",
   "execution_count": 1,
   "metadata": {},
   "outputs": [],
   "source": [
    "import pandas as pd\n",
    "import yfinance as yf\n",
    "from datetime import datetime\n",
    "import numpy as np"
   ]
  },
  {
   "cell_type": "markdown",
   "metadata": {},
   "source": [
    "## 2. List of tickers to get data for"
   ]
  },
  {
   "cell_type": "code",
   "execution_count": 2,
   "metadata": {},
   "outputs": [],
   "source": [
    "tick_list =  ['AAPL', 'AMC', 'DKNG', 'TSLA', 'AMD', 'BABA']"
   ]
  },
  {
   "cell_type": "markdown",
   "metadata": {},
   "source": [
    "## 3. Get ticker data and save"
   ]
  },
  {
   "cell_type": "markdown",
   "metadata": {},
   "source": [
    "### 3.1 Enter start and end dates"
   ]
  },
  {
   "cell_type": "code",
   "execution_count": 3,
   "metadata": {},
   "outputs": [],
   "source": [
    "#We keep an early start date from what is required because the parameter calculations have look back periods of upto 34 days\n",
    "start = datetime(2020,6,1) \n",
    "end = datetime(2021,9,30) "
   ]
  },
  {
   "cell_type": "markdown",
   "metadata": {},
   "source": [
    "### 3.2 Get price data for each ticker, compute technical indicators and save the data in a pickle file"
   ]
  },
  {
   "cell_type": "code",
   "execution_count": 5,
   "metadata": {},
   "outputs": [],
   "source": [
    "for tick in tick_list:\n",
    "    pltr = yf.Ticker(tick) \n",
    "    pltr_history = pltr.history(start=start, end=end)\n",
    "    pltr_history['YearMonDay'] = pltr_history.apply(lambda row: datetime.fromisoformat(str(row.name)).strftime(\"%y%b%d\"), axis=1)\n",
    "    pltr_history.reset_index(inplace=True)\n",
    "    pltr_history['Close-t'] = pltr_history['Close'].rolling(min_periods=2, window=2).apply(lambda x: x.iloc[0])\n",
    "    pltr_history['log_ret'] = np.log(pltr_history.Close) - np.log(pltr_history.Close.shift(1))\n",
    "    pltr_history['log_ret-t'] = pltr_history['log_ret'].rolling(min_periods=2, window=2).apply(lambda x: x.iloc[0])    \n",
    "    \n",
    "    ###-----ACD\n",
    "    pltr_history['N_multiplier'] = pltr_history.Volume*((pltr_history.Close - pltr_history.Low) - (pltr_history.High - pltr_history.Close))/(pltr_history.High - pltr_history.Low)\n",
    "    pltr_history['ACD'] = pltr_history['N_multiplier'].rolling(min_periods=2, window=2).sum()\n",
    "    pltr_history.drop('N_multiplier', axis=1, inplace=True)\n",
    "\n",
    "    ###-----MACD\n",
    "    pltr_history['EMA_Close_12'] = pltr_history.loc[:,'Close'].ewm(span=12, min_periods=12, adjust=False).mean()\n",
    "    pltr_history['EMA_Close_26'] = pltr_history.loc[:,'Close'].ewm(span=26, min_periods=26, adjust=False).mean()\n",
    "    pltr_history['MACD'] = pltr_history['EMA_Close_12'] - pltr_history['EMA_Close_26']\n",
    "    pltr_history.drop('EMA_Close_12', axis=1, inplace=True)\n",
    "    pltr_history.drop('EMA_Close_26', axis=1, inplace=True)\n",
    "\n",
    "    ###-----CHO\n",
    "    pltr_history['EMA_ACD_3'] = pltr_history.loc[:,'ACD'].ewm(span=3, min_periods=2,adjust=False).mean()\n",
    "    pltr_history['EMA_ACD_10'] = pltr_history.loc[:,'ACD'].ewm(span=10, min_periods=10,adjust=False).mean()\n",
    "    pltr_history['CHO'] = pltr_history['EMA_ACD_3'] - pltr_history['EMA_ACD_10']\n",
    "    pltr_history.drop('EMA_ACD_3', axis=1, inplace=True)\n",
    "    pltr_history.drop('EMA_ACD_10', axis=1, inplace=True)\n",
    "\n",
    "    ###-----Highest T\n",
    "    pltr_history['Highest_T'] = pltr_history['Close'].rolling(min_periods=14, window=14).max()\n",
    "\n",
    "    ###-----Lowest T\n",
    "    pltr_history['Lowest_T'] = pltr_history['Close'].rolling(min_periods=14, window=14).min()\n",
    "\n",
    "    ###-----S-K\n",
    "    pltr_history['Highest_5'] = pltr_history['Close'].rolling(min_periods=5, window=5).max()\n",
    "    pltr_history['Lowest_5'] = pltr_history['Close'].rolling(min_periods=5, window=5).min()\n",
    "    pltr_history['S-K'] = ((pltr_history['Close'] - pltr_history['Lowest_5'])/(pltr_history['Highest_5'] - pltr_history['Lowest_5'])*100)\n",
    "    pltr_history.drop('Highest_5', axis=1, inplace=True)\n",
    "    pltr_history.drop('Lowest_5', axis=1, inplace=True)\n",
    "\n",
    "    ###-----S-D\n",
    "    pltr_history['S-D'] = pltr_history['S-K'].rolling(min_periods=3, window=3).mean()\n",
    "\n",
    "    ###-----VPT\n",
    "    pltr_history['VPT'] = 0\n",
    "    for i in range(len(pltr_history)): \n",
    "        if i==0 or i==1:\n",
    "            pltr_history.loc[i, 'VPT'] = 0\n",
    "        else:   \n",
    "            vpt_t = ((pltr_history.loc[i, 'Close'] - pltr_history.loc[i-1, 'Close'])/pltr_history.loc[i-1, 'Close'])*pltr_history.loc[i, 'Volume']\n",
    "            vpt_t1 = ((pltr_history.loc[i-1, 'Close'] - pltr_history.loc[i-2, 'Close'])/pltr_history.loc[i-2, 'Close'])*pltr_history.loc[i-1, 'Volume']\n",
    "            pltr_history.loc[i, 'VPT'] = vpt_t + vpt_t1\n",
    "\n",
    "    ###-----W-R\n",
    "    pltr_history['Highest_14'] = pltr_history['Close'].rolling(min_periods=1, window=14).max()\n",
    "    pltr_history['Lowest_14'] = pltr_history['Close'].rolling(min_periods=1, window=14).min()       \n",
    "    pltr_history['W-R'] = ((pltr_history['Highest_14']-pltr_history['Close'])/(pltr_history['Highest_14']-pltr_history['Lowest_14'])*100)\n",
    "    pltr_history.drop('Highest_14', axis=1, inplace=True)\n",
    "    pltr_history.drop('Lowest_14', axis=1, inplace=True)\n",
    "\n",
    "    ###-----RSI\n",
    "    pltr_history['Up_Move'] = pltr_history['Close'].rolling(window=2).apply(lambda x: x.iloc[1] - x.iloc[0] if (x.iloc[1] - x.iloc[0]) > 0 else 0 )\n",
    "    pltr_history['Down_Move'] = pltr_history['Close'].rolling(window=2).apply(lambda x: abs(x.iloc[1] - x.iloc[0]) if (x.iloc[1] - x.iloc[0]) < 0 else 0 )\n",
    "    pltr_history['Avg_Up_14'] = pltr_history['Up_Move'].rolling(min_periods=14, window=14).mean()\n",
    "    pltr_history['Avg_Down_14'] = pltr_history['Down_Move'].rolling(min_periods=14, window=14).mean()\n",
    "    pltr_history['RSI'] = 100 - (100/(1+(pltr_history['Avg_Up_14']/pltr_history['Avg_Down_14'])))\n",
    "    pltr_history.drop('Up_Move', axis=1, inplace=True)\n",
    "    pltr_history.drop('Down_Move', axis=1, inplace=True)\n",
    "    pltr_history.drop('Avg_Up_14', axis=1, inplace=True)\n",
    "    pltr_history.drop('Avg_Down_14', axis=1, inplace=True)\n",
    "\n",
    "    ###-----MOME\n",
    "    pltr_history['MOME'] = pltr_history['Close'].rolling(min_periods=14, window=14).apply(lambda x: x.iloc[13] - x.iloc[0])\n",
    "\n",
    "    ###-----AC\n",
    "    pltr_history['Median_Price'] = (pltr_history['High'] + pltr_history['Low'])/2\n",
    "    pltr_history['Median_MA_5'] = pltr_history['Median_Price'].rolling(min_periods=5, window=5).mean()\n",
    "    pltr_history['Median_MA_34'] = pltr_history['Median_Price'].rolling(min_periods=34, window=34).mean()\n",
    "    pltr_history['AO'] = pltr_history['Median_MA_5'] - pltr_history['Median_MA_34']\n",
    "    pltr_history['AO_MA_5'] = pltr_history['AO'].rolling(min_periods=5, window=5).mean()\n",
    "    pltr_history['AC'] = pltr_history['AO'] - pltr_history['AO_MA_5']\n",
    "    pltr_history.drop('Median_Price', axis=1, inplace=True)\n",
    "    pltr_history.drop('Median_MA_5', axis=1, inplace=True)\n",
    "    pltr_history.drop('Median_MA_34', axis=1, inplace=True)\n",
    "    pltr_history.drop('AO', axis=1, inplace=True)\n",
    "    pltr_history.drop('AO_MA_5', axis=1, inplace=True)\n",
    "\n",
    "    ###-----#PROC\n",
    "    pltr_history['PROC'] = pltr_history['Close'].rolling(min_periods=12, window=12).apply(lambda x: ((x.iloc[11] - x.iloc[0])/x.iloc[0])*100)\n",
    "\n",
    "    ###-----VROC\n",
    "    pltr_history['VROC'] = pltr_history['Volume'].rolling(min_periods=12, window=12).apply(lambda x: ((x.iloc[11] - x.iloc[0])/x.iloc[0])*100)\n",
    "\n",
    "    ###-----OBV\n",
    "    pltr_history['OBV'] = 0\n",
    "    for i in range(len(pltr_history)): \n",
    "        if i==0:\n",
    "            continue\n",
    "        else:   \n",
    "            if pltr_history.loc[i, 'Close'] - pltr_history.loc[i-1, 'Close'] > 0:\n",
    "                pltr_history.loc[i, 'OBV'] = pltr_history.loc[i-1, 'OBV'] + pltr_history.loc[i, 'Volume']\n",
    "            elif pltr_history.loc[i, 'Close'] - pltr_history.loc[i-1, 'Close'] < 0:\n",
    "                pltr_history.loc[i, 'OBV'] = pltr_history.loc[i-1, 'OBV'] - pltr_history.loc[i, 'Volume']\n",
    "            else:\n",
    "                pltr_history.loc[i, 'OBV'] = pltr_history.loc[i-1, 'OBV']\n",
    "\n",
    "    pltr_history = pltr_history.iloc[46:,:].reset_index(drop=True)\n",
    "    \n",
    "    \n",
    "    pltr_history = pltr_history[['Date','YearMonDay','Open','High','Low','Volume','Dividends','Stock Splits','Close-t','log_ret','log_ret-t','ACD','MACD','CHO','Highest_T','Lowest_T','S-K','S-D','VPT','W-R','RSI','MOME','AC','PROC','VROC','OBV','Close']]\n",
    "    \n",
    "    pltr_history.to_pickle(f\"C:\\\\Users\\\\Karthik\\\\Desktop\\\\Dissertation\\\\Final_dfs\\\\{tick}_technical_data_df.pkl\")    "
   ]
  },
  {
   "cell_type": "code",
   "execution_count": 6,
   "metadata": {},
   "outputs": [
    {
     "data": {
      "text/plain": [
       "(291, 27)"
      ]
     },
     "execution_count": 6,
     "metadata": {},
     "output_type": "execute_result"
    }
   ],
   "source": [
    "pltr_history\n",
    "pltr_history.shape"
   ]
  }
 ],
 "metadata": {
  "kernelspec": {
   "display_name": "Python 3",
   "language": "python",
   "name": "python3"
  },
  "language_info": {
   "codemirror_mode": {
    "name": "ipython",
    "version": 3
   },
   "file_extension": ".py",
   "mimetype": "text/x-python",
   "name": "python",
   "nbconvert_exporter": "python",
   "pygments_lexer": "ipython3",
   "version": "3.8.5"
  }
 },
 "nbformat": 4,
 "nbformat_minor": 4
}
