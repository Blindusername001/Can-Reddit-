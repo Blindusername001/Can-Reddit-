{
 "cells": [
  {
   "cell_type": "markdown",
   "metadata": {},
   "source": [
    "# Step 3B: BERT Model 2 - BERT sentiment analysis using US airline sentiment dataset (without equalizing sentiments)"
   ]
  },
  {
   "cell_type": "markdown",
   "metadata": {},
   "source": [
    "# Without normalizing label count in twitter us airline sentiment dataset"
   ]
  },
  {
   "cell_type": "markdown",
   "metadata": {},
   "source": [
    "## 1. Required imports"
   ]
  },
  {
   "cell_type": "markdown",
   "metadata": {},
   "source": [
    "### 1.1 Import required libraries"
   ]
  },
  {
   "cell_type": "code",
   "execution_count": 1,
   "metadata": {},
   "outputs": [],
   "source": [
    "#---Neural Network libraries\n",
    "from transformers import BertTokenizer, BertForSequenceClassification, AdamW, get_linear_schedule_with_warmup            #huggingface transformers library\n",
    "import tensorflow as tf                                                                                                  #tensorflow library         \n",
    "import torch                                                                                                             #pytorch library\n",
    "import torch.nn.functional as Func\n",
    "import gc\n",
    "from torch.utils.data import Dataset, DataLoader, TensorDataset, RandomSampler, SequentialSampler                        #for loading data into our model\n",
    "\n",
    "#---Data processing\n",
    "from sklearn.model_selection import train_test_split                                                                     #for splitting data into training, testing and validation\n",
    "from sklearn.metrics import f1_score\n",
    "import pandas as pd                                                                                                      #for using data in the form of dataframes\n",
    "import numpy as np\n",
    "import re                                                                                                                #for data manipulation when cleaning datasets\n",
    "\n",
    "#---Visualization libraries\n",
    "import seaborn as sns\n",
    "import matplotlib.pyplot as plt\n",
    "from tqdm.notebook import tqdm\n",
    "\n",
    "# from transformers import InputExample, InputFeatures"
   ]
  },
  {
   "cell_type": "code",
   "execution_count": 2,
   "metadata": {},
   "outputs": [
    {
     "data": {
      "application/vnd.jupyter.widget-view+json": {
       "model_id": "aa15388af95c4d539f93d1b8876cb1b3",
       "version_major": 2,
       "version_minor": 0
      },
      "text/plain": [
       "IntSlider(value=0)"
      ]
     },
     "metadata": {},
     "output_type": "display_data"
    }
   ],
   "source": [
    "import ipywidgets as widgets\n",
    "widgets.IntSlider()"
   ]
  },
  {
   "cell_type": "markdown",
   "metadata": {},
   "source": [
    "### 1.2 Import training data to train the BERT model\n",
    "- *This dataset is from kaggle - https://www.kaggle.com/crowdflower/twitter-airline-sentiment?select=Tweets.csv*\n",
    "- *We only pick the required columns from the dataset*"
   ]
  },
  {
   "cell_type": "code",
   "execution_count": 12,
   "metadata": {},
   "outputs": [
    {
     "data": {
      "text/html": [
       "<div>\n",
       "<style scoped>\n",
       "    .dataframe tbody tr th:only-of-type {\n",
       "        vertical-align: middle;\n",
       "    }\n",
       "\n",
       "    .dataframe tbody tr th {\n",
       "        vertical-align: top;\n",
       "    }\n",
       "\n",
       "    .dataframe thead th {\n",
       "        text-align: right;\n",
       "    }\n",
       "</style>\n",
       "<table border=\"1\" class=\"dataframe\">\n",
       "  <thead>\n",
       "    <tr style=\"text-align: right;\">\n",
       "      <th></th>\n",
       "      <th>airline_sentiment</th>\n",
       "      <th>text</th>\n",
       "    </tr>\n",
       "    <tr>\n",
       "      <th>tweet_id</th>\n",
       "      <th></th>\n",
       "      <th></th>\n",
       "    </tr>\n",
       "  </thead>\n",
       "  <tbody>\n",
       "    <tr>\n",
       "      <th>570306133677760513</th>\n",
       "      <td>neutral</td>\n",
       "      <td>@VirginAmerica What @dhepburn said.</td>\n",
       "    </tr>\n",
       "    <tr>\n",
       "      <th>570301130888122368</th>\n",
       "      <td>positive</td>\n",
       "      <td>@VirginAmerica plus you've added commercials t...</td>\n",
       "    </tr>\n",
       "    <tr>\n",
       "      <th>570301083672813571</th>\n",
       "      <td>neutral</td>\n",
       "      <td>@VirginAmerica I didn't today... Must mean I n...</td>\n",
       "    </tr>\n",
       "    <tr>\n",
       "      <th>570301031407624196</th>\n",
       "      <td>negative</td>\n",
       "      <td>@VirginAmerica it's really aggressive to blast...</td>\n",
       "    </tr>\n",
       "    <tr>\n",
       "      <th>570300817074462722</th>\n",
       "      <td>negative</td>\n",
       "      <td>@VirginAmerica and it's a really big bad thing...</td>\n",
       "    </tr>\n",
       "  </tbody>\n",
       "</table>\n",
       "</div>"
      ],
      "text/plain": [
       "                   airline_sentiment  \\\n",
       "tweet_id                               \n",
       "570306133677760513           neutral   \n",
       "570301130888122368          positive   \n",
       "570301083672813571           neutral   \n",
       "570301031407624196          negative   \n",
       "570300817074462722          negative   \n",
       "\n",
       "                                                                 text  \n",
       "tweet_id                                                               \n",
       "570306133677760513                @VirginAmerica What @dhepburn said.  \n",
       "570301130888122368  @VirginAmerica plus you've added commercials t...  \n",
       "570301083672813571  @VirginAmerica I didn't today... Must mean I n...  \n",
       "570301031407624196  @VirginAmerica it's really aggressive to blast...  \n",
       "570300817074462722  @VirginAmerica and it's a really big bad thing...  "
      ]
     },
     "execution_count": 12,
     "metadata": {},
     "output_type": "execute_result"
    }
   ],
   "source": [
    "training_data = pd.read_csv(r\"C:\\Users\\Karthik\\Desktop\\Dissertation\\BERT\\Training dataset\\Tweets.csv\")\n",
    "training_data = training_data[['tweet_id', 'airline_sentiment', 'text']]\n",
    "training_data.set_index('tweet_id', inplace=True)\n",
    "training_data.head()"
   ]
  },
  {
   "cell_type": "markdown",
   "metadata": {},
   "source": [
    "### 1.3 Import reddit and twitter data for which we have to populate the sentiments\n",
    "- *we will use them on the model after the model is trained with the training dataset from kaggle*\n",
    "- *we save data in two dictionaries; one for reddit and one for twitter to make it more organized*"
   ]
  },
  {
   "cell_type": "code",
   "execution_count": 3,
   "metadata": {},
   "outputs": [],
   "source": [
    "tick_list =  ['AAPL', 'AMC', 'DKNG', 'TSLA', 'AMD', 'BABA']"
   ]
  },
  {
   "cell_type": "code",
   "execution_count": 4,
   "metadata": {},
   "outputs": [],
   "source": [
    "reddit_df_dict = {tick: pd.read_pickle(f\"C:\\\\Users\\\\Karthik\\\\Desktop\\\\Dissertation\\\\Reddit\\\\consolidated_pickle_files\\\\reddit_{tick}_df_for_BERT.pkl\") for tick in tick_list}\n",
    "# reddit_df_dict  "
   ]
  },
  {
   "cell_type": "code",
   "execution_count": 5,
   "metadata": {},
   "outputs": [
    {
     "data": {
      "text/html": [
       "<div>\n",
       "<style scoped>\n",
       "    .dataframe tbody tr th:only-of-type {\n",
       "        vertical-align: middle;\n",
       "    }\n",
       "\n",
       "    .dataframe tbody tr th {\n",
       "        vertical-align: top;\n",
       "    }\n",
       "\n",
       "    .dataframe thead th {\n",
       "        text-align: right;\n",
       "    }\n",
       "</style>\n",
       "<table border=\"1\" class=\"dataframe\">\n",
       "  <thead>\n",
       "    <tr style=\"text-align: right;\">\n",
       "      <th></th>\n",
       "      <th>body</th>\n",
       "      <th>created_utc</th>\n",
       "      <th>id</th>\n",
       "      <th>top</th>\n",
       "      <th>year</th>\n",
       "      <th>month</th>\n",
       "      <th>day</th>\n",
       "      <th>ticker</th>\n",
       "      <th>YearMonDay</th>\n",
       "    </tr>\n",
       "  </thead>\n",
       "  <tbody>\n",
       "    <tr>\n",
       "      <th>0</th>\n",
       "      <td>Non-troll post. I started 2 weeks ago and have...</td>\n",
       "      <td>1609500199</td>\n",
       "      <td>ghp72zs</td>\n",
       "      <td>top</td>\n",
       "      <td>21</td>\n",
       "      <td>Jan</td>\n",
       "      <td>01</td>\n",
       "      <td>TSLA</td>\n",
       "      <td>21Jan01</td>\n",
       "    </tr>\n",
       "    <tr>\n",
       "      <th>1</th>\n",
       "      <td>we eat cornbread on new years day to ensure a ...</td>\n",
       "      <td>1609524808</td>\n",
       "      <td>ghqo6qb</td>\n",
       "      <td>top</td>\n",
       "      <td>21</td>\n",
       "      <td>Jan</td>\n",
       "      <td>01</td>\n",
       "      <td>TSLA</td>\n",
       "      <td>21Jan01</td>\n",
       "    </tr>\n",
       "    <tr>\n",
       "      <th>2</th>\n",
       "      <td>TSLA 850 EOD</td>\n",
       "      <td>1612203941</td>\n",
       "      <td>glmp0gv</td>\n",
       "      <td>top</td>\n",
       "      <td>21</td>\n",
       "      <td>Feb</td>\n",
       "      <td>01</td>\n",
       "      <td>TSLA</td>\n",
       "      <td>21Feb01</td>\n",
       "    </tr>\n",
       "    <tr>\n",
       "      <th>3</th>\n",
       "      <td>joe weisenthal is the ultimate chad( who else ...</td>\n",
       "      <td>1612207510</td>\n",
       "      <td>glmyg66</td>\n",
       "      <td>top</td>\n",
       "      <td>21</td>\n",
       "      <td>Feb</td>\n",
       "      <td>01</td>\n",
       "      <td>TSLA</td>\n",
       "      <td>21Feb01</td>\n",
       "    </tr>\n",
       "    <tr>\n",
       "      <th>4</th>\n",
       "      <td>TSLA 🚀🚀🚀🚀🚀</td>\n",
       "      <td>1612211972</td>\n",
       "      <td>gln9v98</td>\n",
       "      <td>top</td>\n",
       "      <td>21</td>\n",
       "      <td>Feb</td>\n",
       "      <td>01</td>\n",
       "      <td>TSLA</td>\n",
       "      <td>21Feb01</td>\n",
       "    </tr>\n",
       "    <tr>\n",
       "      <th>...</th>\n",
       "      <td>...</td>\n",
       "      <td>...</td>\n",
       "      <td>...</td>\n",
       "      <td>...</td>\n",
       "      <td>...</td>\n",
       "      <td>...</td>\n",
       "      <td>...</td>\n",
       "      <td>...</td>\n",
       "      <td>...</td>\n",
       "    </tr>\n",
       "    <tr>\n",
       "      <th>15125</th>\n",
       "      <td>TSLA Drill Team 6 reporting for duty</td>\n",
       "      <td>1609359381</td>\n",
       "      <td>ghj65jr</td>\n",
       "      <td>top</td>\n",
       "      <td>20</td>\n",
       "      <td>Dec</td>\n",
       "      <td>30</td>\n",
       "      <td>TSLA</td>\n",
       "      <td>20Dec30</td>\n",
       "    </tr>\n",
       "    <tr>\n",
       "      <th>15126</th>\n",
       "      <td>TSLA’s still having them TSLA days I see. Join...</td>\n",
       "      <td>1609359393</td>\n",
       "      <td>ghj66f1</td>\n",
       "      <td>top</td>\n",
       "      <td>20</td>\n",
       "      <td>Dec</td>\n",
       "      <td>30</td>\n",
       "      <td>TSLA</td>\n",
       "      <td>20Dec30</td>\n",
       "    </tr>\n",
       "    <tr>\n",
       "      <th>15127</th>\n",
       "      <td>TSLA 🎰 EOY coming</td>\n",
       "      <td>1609360555</td>\n",
       "      <td>ghj8jam</td>\n",
       "      <td>top</td>\n",
       "      <td>20</td>\n",
       "      <td>Dec</td>\n",
       "      <td>30</td>\n",
       "      <td>TSLA</td>\n",
       "      <td>20Dec30</td>\n",
       "    </tr>\n",
       "    <tr>\n",
       "      <th>15128</th>\n",
       "      <td>Thank fuck I didn't dump my TSLA calls yesterday</td>\n",
       "      <td>1609361591</td>\n",
       "      <td>ghjamup</td>\n",
       "      <td>top</td>\n",
       "      <td>20</td>\n",
       "      <td>Dec</td>\n",
       "      <td>30</td>\n",
       "      <td>TSLA</td>\n",
       "      <td>20Dec30</td>\n",
       "    </tr>\n",
       "    <tr>\n",
       "      <th>15129</th>\n",
       "      <td>What date is TSLA announcing delivery numbers?</td>\n",
       "      <td>1609361685</td>\n",
       "      <td>ghjatox</td>\n",
       "      <td>top</td>\n",
       "      <td>20</td>\n",
       "      <td>Dec</td>\n",
       "      <td>30</td>\n",
       "      <td>TSLA</td>\n",
       "      <td>20Dec30</td>\n",
       "    </tr>\n",
       "  </tbody>\n",
       "</table>\n",
       "<p>15130 rows × 9 columns</p>\n",
       "</div>"
      ],
      "text/plain": [
       "                                                    body  created_utc  \\\n",
       "0      Non-troll post. I started 2 weeks ago and have...   1609500199   \n",
       "1      we eat cornbread on new years day to ensure a ...   1609524808   \n",
       "2                                           TSLA 850 EOD   1612203941   \n",
       "3      joe weisenthal is the ultimate chad( who else ...   1612207510   \n",
       "4                                             TSLA 🚀🚀🚀🚀🚀   1612211972   \n",
       "...                                                  ...          ...   \n",
       "15125               TSLA Drill Team 6 reporting for duty   1609359381   \n",
       "15126  TSLA’s still having them TSLA days I see. Join...   1609359393   \n",
       "15127                                  TSLA 🎰 EOY coming   1609360555   \n",
       "15128   Thank fuck I didn't dump my TSLA calls yesterday   1609361591   \n",
       "15129     What date is TSLA announcing delivery numbers?   1609361685   \n",
       "\n",
       "            id  top year month day ticker YearMonDay  \n",
       "0      ghp72zs  top   21   Jan  01   TSLA    21Jan01  \n",
       "1      ghqo6qb  top   21   Jan  01   TSLA    21Jan01  \n",
       "2      glmp0gv  top   21   Feb  01   TSLA    21Feb01  \n",
       "3      glmyg66  top   21   Feb  01   TSLA    21Feb01  \n",
       "4      gln9v98  top   21   Feb  01   TSLA    21Feb01  \n",
       "...        ...  ...  ...   ...  ..    ...        ...  \n",
       "15125  ghj65jr  top   20   Dec  30   TSLA    20Dec30  \n",
       "15126  ghj66f1  top   20   Dec  30   TSLA    20Dec30  \n",
       "15127  ghj8jam  top   20   Dec  30   TSLA    20Dec30  \n",
       "15128  ghjamup  top   20   Dec  30   TSLA    20Dec30  \n",
       "15129  ghjatox  top   20   Dec  30   TSLA    20Dec30  \n",
       "\n",
       "[15130 rows x 9 columns]"
      ]
     },
     "execution_count": 5,
     "metadata": {},
     "output_type": "execute_result"
    }
   ],
   "source": [
    "reddit_df_dict['TSLA']"
   ]
  },
  {
   "cell_type": "code",
   "execution_count": 6,
   "metadata": {},
   "outputs": [],
   "source": [
    "twitter_df_dict = {tick: pd.read_pickle(f\"C:\\\\Users\\\\Karthik\\\\Desktop\\\\Dissertation\\\\Twitter\\\\consolidated_pickle_files\\\\twitter_{tick}_df_for_BERT.pkl\") for tick in tick_list}"
   ]
  },
  {
   "cell_type": "code",
   "execution_count": 7,
   "metadata": {},
   "outputs": [
    {
     "data": {
      "text/html": [
       "<div>\n",
       "<style scoped>\n",
       "    .dataframe tbody tr th:only-of-type {\n",
       "        vertical-align: middle;\n",
       "    }\n",
       "\n",
       "    .dataframe tbody tr th {\n",
       "        vertical-align: top;\n",
       "    }\n",
       "\n",
       "    .dataframe thead th {\n",
       "        text-align: right;\n",
       "    }\n",
       "</style>\n",
       "<table border=\"1\" class=\"dataframe\">\n",
       "  <thead>\n",
       "    <tr style=\"text-align: right;\">\n",
       "      <th></th>\n",
       "      <th>date</th>\n",
       "      <th>content</th>\n",
       "      <th>likeCount</th>\n",
       "      <th>lang</th>\n",
       "      <th>cleaned_content</th>\n",
       "      <th>year</th>\n",
       "      <th>month</th>\n",
       "      <th>day</th>\n",
       "      <th>ticker</th>\n",
       "      <th>YearMonDay</th>\n",
       "    </tr>\n",
       "  </thead>\n",
       "  <tbody>\n",
       "    <tr>\n",
       "      <th>0</th>\n",
       "      <td>2021-09-18 19:56:59+00:00</td>\n",
       "      <td>@The_RockTrading Bullish on $TSLA this week &amp;a...</td>\n",
       "      <td>1</td>\n",
       "      <td>en</td>\n",
       "      <td>Bullish on $TSLA this week &amp; $Aapl</td>\n",
       "      <td>21</td>\n",
       "      <td>Sep</td>\n",
       "      <td>18</td>\n",
       "      <td>TSLA</td>\n",
       "      <td>21Sep18</td>\n",
       "    </tr>\n",
       "    <tr>\n",
       "      <th>1</th>\n",
       "      <td>2021-09-18 04:16:52+00:00</td>\n",
       "      <td>$TSLA now is the same as $aapl in the 80s ! @e...</td>\n",
       "      <td>1</td>\n",
       "      <td>en</td>\n",
       "      <td>$TSLA now is the same as $aapl in the 80s !</td>\n",
       "      <td>21</td>\n",
       "      <td>Sep</td>\n",
       "      <td>18</td>\n",
       "      <td>TSLA</td>\n",
       "      <td>21Sep18</td>\n",
       "    </tr>\n",
       "    <tr>\n",
       "      <th>2</th>\n",
       "      <td>2021-09-16 19:01:28+00:00</td>\n",
       "      <td>Added more $TSLA and $aapl to long, because I ...</td>\n",
       "      <td>0</td>\n",
       "      <td>en</td>\n",
       "      <td>Added more $TSLA and $aapl to long, because I ...</td>\n",
       "      <td>21</td>\n",
       "      <td>Sep</td>\n",
       "      <td>16</td>\n",
       "      <td>TSLA</td>\n",
       "      <td>21Sep16</td>\n",
       "    </tr>\n",
       "    <tr>\n",
       "      <th>3</th>\n",
       "      <td>2021-09-16 15:23:53+00:00</td>\n",
       "      <td>@NeilRog49855230 @Gays4Tesla @TheMaverickWS Th...</td>\n",
       "      <td>3</td>\n",
       "      <td>en</td>\n",
       "      <td>There is plenty of information available on-li...</td>\n",
       "      <td>21</td>\n",
       "      <td>Sep</td>\n",
       "      <td>16</td>\n",
       "      <td>TSLA</td>\n",
       "      <td>21Sep16</td>\n",
       "    </tr>\n",
       "    <tr>\n",
       "      <th>4</th>\n",
       "      <td>2021-09-16 15:23:11+00:00</td>\n",
       "      <td>There is plenty of information available on-li...</td>\n",
       "      <td>0</td>\n",
       "      <td>en</td>\n",
       "      <td>There is plenty of information available on-li...</td>\n",
       "      <td>21</td>\n",
       "      <td>Sep</td>\n",
       "      <td>16</td>\n",
       "      <td>TSLA</td>\n",
       "      <td>21Sep16</td>\n",
       "    </tr>\n",
       "    <tr>\n",
       "      <th>...</th>\n",
       "      <td>...</td>\n",
       "      <td>...</td>\n",
       "      <td>...</td>\n",
       "      <td>...</td>\n",
       "      <td>...</td>\n",
       "      <td>...</td>\n",
       "      <td>...</td>\n",
       "      <td>...</td>\n",
       "      <td>...</td>\n",
       "      <td>...</td>\n",
       "    </tr>\n",
       "    <tr>\n",
       "      <th>179489</th>\n",
       "      <td>2020-06-01 18:42:22+00:00</td>\n",
       "      <td>Normally volatile Tesla $TSLA is the IBD Stock...</td>\n",
       "      <td>1</td>\n",
       "      <td>en</td>\n",
       "      <td>Normally volatile Tesla $TSLA is the IBD Stock...</td>\n",
       "      <td>20</td>\n",
       "      <td>Jun</td>\n",
       "      <td>01</td>\n",
       "      <td>TSLA</td>\n",
       "      <td>20Jun01</td>\n",
       "    </tr>\n",
       "    <tr>\n",
       "      <th>179490</th>\n",
       "      <td>2020-06-01 18:42:10+00:00</td>\n",
       "      <td>Normally volatile Tesla $TSLA is the IBD Stock...</td>\n",
       "      <td>1</td>\n",
       "      <td>en</td>\n",
       "      <td>Normally volatile Tesla $TSLA is the IBD Stock...</td>\n",
       "      <td>20</td>\n",
       "      <td>Jun</td>\n",
       "      <td>01</td>\n",
       "      <td>TSLA</td>\n",
       "      <td>20Jun01</td>\n",
       "    </tr>\n",
       "    <tr>\n",
       "      <th>179491</th>\n",
       "      <td>2020-06-01 18:41:35+00:00</td>\n",
       "      <td>$TSLA up $51.00 from next suggested buy entry ...</td>\n",
       "      <td>1</td>\n",
       "      <td>en</td>\n",
       "      <td>$TSLA up $51.00 from next suggested buy entry ...</td>\n",
       "      <td>20</td>\n",
       "      <td>Jun</td>\n",
       "      <td>01</td>\n",
       "      <td>TSLA</td>\n",
       "      <td>20Jun01</td>\n",
       "    </tr>\n",
       "    <tr>\n",
       "      <th>179492</th>\n",
       "      <td>2020-06-01 18:41:32+00:00</td>\n",
       "      <td>@Desert_Trader81 $TSLA on the move crossing HO...</td>\n",
       "      <td>0</td>\n",
       "      <td>en</td>\n",
       "      <td>$TSLA on the move crossing HOD $885 !!!! 900 w...</td>\n",
       "      <td>20</td>\n",
       "      <td>Jun</td>\n",
       "      <td>01</td>\n",
       "      <td>TSLA</td>\n",
       "      <td>20Jun01</td>\n",
       "    </tr>\n",
       "    <tr>\n",
       "      <th>179493</th>\n",
       "      <td>2020-06-01 18:38:37+00:00</td>\n",
       "      <td>They are going to squeeze $TSLA into the close...</td>\n",
       "      <td>0</td>\n",
       "      <td>en</td>\n",
       "      <td>They are going to squeeze $TSLA into the close...</td>\n",
       "      <td>20</td>\n",
       "      <td>Jun</td>\n",
       "      <td>01</td>\n",
       "      <td>TSLA</td>\n",
       "      <td>20Jun01</td>\n",
       "    </tr>\n",
       "  </tbody>\n",
       "</table>\n",
       "<p>179494 rows × 10 columns</p>\n",
       "</div>"
      ],
      "text/plain": [
       "                             date  \\\n",
       "0       2021-09-18 19:56:59+00:00   \n",
       "1       2021-09-18 04:16:52+00:00   \n",
       "2       2021-09-16 19:01:28+00:00   \n",
       "3       2021-09-16 15:23:53+00:00   \n",
       "4       2021-09-16 15:23:11+00:00   \n",
       "...                           ...   \n",
       "179489  2020-06-01 18:42:22+00:00   \n",
       "179490  2020-06-01 18:42:10+00:00   \n",
       "179491  2020-06-01 18:41:35+00:00   \n",
       "179492  2020-06-01 18:41:32+00:00   \n",
       "179493  2020-06-01 18:38:37+00:00   \n",
       "\n",
       "                                                  content  likeCount lang  \\\n",
       "0       @The_RockTrading Bullish on $TSLA this week &a...          1   en   \n",
       "1       $TSLA now is the same as $aapl in the 80s ! @e...          1   en   \n",
       "2       Added more $TSLA and $aapl to long, because I ...          0   en   \n",
       "3       @NeilRog49855230 @Gays4Tesla @TheMaverickWS Th...          3   en   \n",
       "4       There is plenty of information available on-li...          0   en   \n",
       "...                                                   ...        ...  ...   \n",
       "179489  Normally volatile Tesla $TSLA is the IBD Stock...          1   en   \n",
       "179490  Normally volatile Tesla $TSLA is the IBD Stock...          1   en   \n",
       "179491  $TSLA up $51.00 from next suggested buy entry ...          1   en   \n",
       "179492  @Desert_Trader81 $TSLA on the move crossing HO...          0   en   \n",
       "179493  They are going to squeeze $TSLA into the close...          0   en   \n",
       "\n",
       "                                          cleaned_content year month day  \\\n",
       "0                      Bullish on $TSLA this week & $Aapl   21   Sep  18   \n",
       "1             $TSLA now is the same as $aapl in the 80s !   21   Sep  18   \n",
       "2       Added more $TSLA and $aapl to long, because I ...   21   Sep  16   \n",
       "3       There is plenty of information available on-li...   21   Sep  16   \n",
       "4       There is plenty of information available on-li...   21   Sep  16   \n",
       "...                                                   ...  ...   ...  ..   \n",
       "179489  Normally volatile Tesla $TSLA is the IBD Stock...   20   Jun  01   \n",
       "179490  Normally volatile Tesla $TSLA is the IBD Stock...   20   Jun  01   \n",
       "179491  $TSLA up $51.00 from next suggested buy entry ...   20   Jun  01   \n",
       "179492  $TSLA on the move crossing HOD $885 !!!! 900 w...   20   Jun  01   \n",
       "179493  They are going to squeeze $TSLA into the close...   20   Jun  01   \n",
       "\n",
       "       ticker YearMonDay  \n",
       "0        TSLA    21Sep18  \n",
       "1        TSLA    21Sep18  \n",
       "2        TSLA    21Sep16  \n",
       "3        TSLA    21Sep16  \n",
       "4        TSLA    21Sep16  \n",
       "...       ...        ...  \n",
       "179489   TSLA    20Jun01  \n",
       "179490   TSLA    20Jun01  \n",
       "179491   TSLA    20Jun01  \n",
       "179492   TSLA    20Jun01  \n",
       "179493   TSLA    20Jun01  \n",
       "\n",
       "[179494 rows x 10 columns]"
      ]
     },
     "execution_count": 7,
     "metadata": {},
     "output_type": "execute_result"
    }
   ],
   "source": [
    "twitter_df_dict['TSLA']"
   ]
  },
  {
   "cell_type": "markdown",
   "metadata": {},
   "source": [
    "## 2. Prepare training dataset"
   ]
  },
  {
   "cell_type": "markdown",
   "metadata": {},
   "source": [
    "### 2.1 One-Hot encode the labels"
   ]
  },
  {
   "cell_type": "code",
   "execution_count": 5,
   "metadata": {},
   "outputs": [],
   "source": [
    "# training_data = pd.read_csv(r\"C:\\Users\\Karthik\\Desktop\\Dissertation\\BERT\\Training dataset\\Tweets.csv\")\n",
    "# training_data = training_data[['tweet_id', 'airline_sentiment', 'text']]\n",
    "# training_data.set_index('tweet_id', inplace=True)\n",
    "# training_data.head()"
   ]
  },
  {
   "cell_type": "code",
   "execution_count": 6,
   "metadata": {},
   "outputs": [
    {
     "data": {
      "text/plain": [
       "negative    9178\n",
       "neutral     3099\n",
       "positive    2363\n",
       "Name: airline_sentiment, dtype: int64"
      ]
     },
     "execution_count": 6,
     "metadata": {},
     "output_type": "execute_result"
    }
   ],
   "source": [
    "training_data.airline_sentiment.value_counts()"
   ]
  },
  {
   "cell_type": "code",
   "execution_count": 7,
   "metadata": {},
   "outputs": [],
   "source": [
    "# training_data = pd.concat([training_data.query('airline_sentiment==\"negative\"').sample(n=2363),training_data.query('airline_sentiment==\"neutral\"').sample(n=2363),training_data.query('airline_sentiment==\"positive\"')])"
   ]
  },
  {
   "cell_type": "markdown",
   "metadata": {},
   "source": [
    "*There are 3 lables so we can encode the lables with 0,1 and 2*"
   ]
  },
  {
   "cell_type": "code",
   "execution_count": 13,
   "metadata": {},
   "outputs": [
    {
     "data": {
      "text/html": [
       "<div>\n",
       "<style scoped>\n",
       "    .dataframe tbody tr th:only-of-type {\n",
       "        vertical-align: middle;\n",
       "    }\n",
       "\n",
       "    .dataframe tbody tr th {\n",
       "        vertical-align: top;\n",
       "    }\n",
       "\n",
       "    .dataframe thead th {\n",
       "        text-align: right;\n",
       "    }\n",
       "</style>\n",
       "<table border=\"1\" class=\"dataframe\">\n",
       "  <thead>\n",
       "    <tr style=\"text-align: right;\">\n",
       "      <th></th>\n",
       "      <th>airline_sentiment</th>\n",
       "      <th>text</th>\n",
       "      <th>label</th>\n",
       "    </tr>\n",
       "    <tr>\n",
       "      <th>tweet_id</th>\n",
       "      <th></th>\n",
       "      <th></th>\n",
       "      <th></th>\n",
       "    </tr>\n",
       "  </thead>\n",
       "  <tbody>\n",
       "    <tr>\n",
       "      <th>570306133677760513</th>\n",
       "      <td>neutral</td>\n",
       "      <td>@VirginAmerica What @dhepburn said.</td>\n",
       "      <td>0</td>\n",
       "    </tr>\n",
       "    <tr>\n",
       "      <th>570301130888122368</th>\n",
       "      <td>positive</td>\n",
       "      <td>@VirginAmerica plus you've added commercials t...</td>\n",
       "      <td>1</td>\n",
       "    </tr>\n",
       "    <tr>\n",
       "      <th>570301083672813571</th>\n",
       "      <td>neutral</td>\n",
       "      <td>@VirginAmerica I didn't today... Must mean I n...</td>\n",
       "      <td>0</td>\n",
       "    </tr>\n",
       "    <tr>\n",
       "      <th>570301031407624196</th>\n",
       "      <td>negative</td>\n",
       "      <td>@VirginAmerica it's really aggressive to blast...</td>\n",
       "      <td>2</td>\n",
       "    </tr>\n",
       "    <tr>\n",
       "      <th>570300817074462722</th>\n",
       "      <td>negative</td>\n",
       "      <td>@VirginAmerica and it's a really big bad thing...</td>\n",
       "      <td>2</td>\n",
       "    </tr>\n",
       "  </tbody>\n",
       "</table>\n",
       "</div>"
      ],
      "text/plain": [
       "                   airline_sentiment  \\\n",
       "tweet_id                               \n",
       "570306133677760513           neutral   \n",
       "570301130888122368          positive   \n",
       "570301083672813571           neutral   \n",
       "570301031407624196          negative   \n",
       "570300817074462722          negative   \n",
       "\n",
       "                                                                 text  label  \n",
       "tweet_id                                                                      \n",
       "570306133677760513                @VirginAmerica What @dhepburn said.      0  \n",
       "570301130888122368  @VirginAmerica plus you've added commercials t...      1  \n",
       "570301083672813571  @VirginAmerica I didn't today... Must mean I n...      0  \n",
       "570301031407624196  @VirginAmerica it's really aggressive to blast...      2  \n",
       "570300817074462722  @VirginAmerica and it's a really big bad thing...      2  "
      ]
     },
     "execution_count": 13,
     "metadata": {},
     "output_type": "execute_result"
    }
   ],
   "source": [
    "training_data['label'] = training_data.airline_sentiment.replace({'neutral':0, 'positive':1, 'negative':2})\n",
    "training_data.head()"
   ]
  },
  {
   "cell_type": "markdown",
   "metadata": {},
   "source": [
    "### 2.2 Data cleaning"
   ]
  },
  {
   "cell_type": "markdown",
   "metadata": {},
   "source": [
    "#### 2.2.1 Define data cleaning function"
   ]
  },
  {
   "cell_type": "code",
   "execution_count": 8,
   "metadata": {},
   "outputs": [],
   "source": [
    "def text_preprocessing(text):\n",
    "    text = re.sub(r'(@.*?)[\\s]', ' ', text) #remove hashtags\n",
    "    text = re.sub(r'http\\S+', '', text)    #remove urls\n",
    "    text = re.sub(r'&amp;amp', '&', text)  #remove double amps\n",
    "    text = re.sub(r'\\&amp;', '&', text)    #remove single amps\n",
    "    text = re.sub(r'\\s+', ' ', text)       #reduce multiple spaces into a single space\n",
    "    return text"
   ]
  },
  {
   "cell_type": "markdown",
   "metadata": {},
   "source": [
    "#### 2.2.2 Clean the data"
   ]
  },
  {
   "cell_type": "code",
   "execution_count": null,
   "metadata": {},
   "outputs": [],
   "source": [
    "#---Make a copy of the original raw text for future reference if required\n",
    "training_data['original_text'] = training_data['text']\n",
    "#---Use the above function to clean the tweet data\n",
    "training_data['text'] = training_data.text.apply(lambda x: text_preprocessing(x))\n",
    "training_data.head()"
   ]
  },
  {
   "cell_type": "markdown",
   "metadata": {},
   "source": [
    "### 2.3 Split the cleaned training data into train and validation datasets\n",
    "- *we do not need a test dataset. This is because we are using the training dataset only to train the BERT model*\n",
    "- *since we are going to use the BERT model to classify a different corpus (reddit and twitter data), splitting the data into training and validation datasets serves our purpose*\n",
    "- *this will also help in having a bigger training dataset*"
   ]
  },
  {
   "cell_type": "code",
   "execution_count": 23,
   "metadata": {},
   "outputs": [
    {
     "data": {
      "text/html": [
       "<div>\n",
       "<style scoped>\n",
       "    .dataframe tbody tr th:only-of-type {\n",
       "        vertical-align: middle;\n",
       "    }\n",
       "\n",
       "    .dataframe tbody tr th {\n",
       "        vertical-align: top;\n",
       "    }\n",
       "\n",
       "    .dataframe thead th {\n",
       "        text-align: right;\n",
       "    }\n",
       "</style>\n",
       "<table border=\"1\" class=\"dataframe\">\n",
       "  <thead>\n",
       "    <tr style=\"text-align: right;\">\n",
       "      <th></th>\n",
       "      <th></th>\n",
       "      <th></th>\n",
       "      <th>text</th>\n",
       "      <th>original_text</th>\n",
       "    </tr>\n",
       "    <tr>\n",
       "      <th>airline_sentiment</th>\n",
       "      <th>label</th>\n",
       "      <th>dataset</th>\n",
       "      <th></th>\n",
       "      <th></th>\n",
       "    </tr>\n",
       "  </thead>\n",
       "  <tbody>\n",
       "    <tr>\n",
       "      <th rowspan=\"2\" valign=\"top\">negative</th>\n",
       "      <th rowspan=\"2\" valign=\"top\">2</th>\n",
       "      <th>train</th>\n",
       "      <td>6849</td>\n",
       "      <td>6849</td>\n",
       "    </tr>\n",
       "    <tr>\n",
       "      <th>val</th>\n",
       "      <td>2329</td>\n",
       "      <td>2329</td>\n",
       "    </tr>\n",
       "    <tr>\n",
       "      <th rowspan=\"2\" valign=\"top\">neutral</th>\n",
       "      <th rowspan=\"2\" valign=\"top\">0</th>\n",
       "      <th>train</th>\n",
       "      <td>2311</td>\n",
       "      <td>2311</td>\n",
       "    </tr>\n",
       "    <tr>\n",
       "      <th>val</th>\n",
       "      <td>788</td>\n",
       "      <td>788</td>\n",
       "    </tr>\n",
       "    <tr>\n",
       "      <th rowspan=\"2\" valign=\"top\">positive</th>\n",
       "      <th rowspan=\"2\" valign=\"top\">1</th>\n",
       "      <th>train</th>\n",
       "      <td>1760</td>\n",
       "      <td>1760</td>\n",
       "    </tr>\n",
       "    <tr>\n",
       "      <th>val</th>\n",
       "      <td>603</td>\n",
       "      <td>603</td>\n",
       "    </tr>\n",
       "  </tbody>\n",
       "</table>\n",
       "</div>"
      ],
      "text/plain": [
       "                                 text  original_text\n",
       "airline_sentiment label dataset                     \n",
       "negative          2     train    6849           6849\n",
       "                        val      2329           2329\n",
       "neutral           0     train    2311           2311\n",
       "                        val       788            788\n",
       "positive          1     train    1760           1760\n",
       "                        val       603            603"
      ]
     },
     "execution_count": 23,
     "metadata": {},
     "output_type": "execute_result"
    }
   ],
   "source": [
    "#---we will use scikit-learn's train_test_split to classify records into train, test or validation dataset\n",
    "x_train, x_val, y_train, y_val =  train_test_split(training_data.index.values,          #x values/ input values \n",
    "                                                   training_data.label.values,          #y values/ output values/ lables\n",
    "                                                   test_size=0.25,                      #percentage of data to be used for test dataset\n",
    "                                                   random_state=17,                     #shuffles the data prior to splitting\n",
    "                                                   stratify=training_data.label.values  #stratification helps when the distribution of data is uneven like in our case where,\n",
    "                                                                                        #we have a lot of negative compared to neutral and positive labels                                                   \n",
    ")\n",
    "\n",
    "#---add a new column to training data to classify records into train and val datasets\n",
    "training_data['dataset'] = 'NA'\n",
    "training_data.loc[x_train, 'dataset'] = 'train'\n",
    "training_data.loc[x_val, 'dataset'] = 'val'\n",
    "\n",
    "training_data.groupby(['airline_sentiment', 'label', 'dataset']).count()"
   ]
  },
  {
   "cell_type": "markdown",
   "metadata": {},
   "source": [
    "### 2.4 Tokenize and encode data"
   ]
  },
  {
   "cell_type": "markdown",
   "metadata": {},
   "source": [
    "#### 2.4.1 Find the max tweet length in the training data\n",
    "- *This is required to be input into the tokenizer*\n",
    "- *BERT expects all its inputs to be of the same length so shorter sentences will be padded to maintain the length*"
   ]
  },
  {
   "cell_type": "code",
   "execution_count": 24,
   "metadata": {},
   "outputs": [],
   "source": [
    "MAX_LEN=training_data['text'].str.len().max()"
   ]
  },
  {
   "cell_type": "markdown",
   "metadata": {},
   "source": [
    "#### 2.4.2 Initialize huggingface tokenizer and tokenize and encode train and val datasets\n",
    "\n",
    "- *In this step we will be tokenizing and encoding the input side of our datasets (i.e) the tweet comments*\n",
    "- *We will be using batch_encode_plus() method in the tokenizer as our input to the tokenizer will be an array of the tweet column in training_data [training_data[training_data.dataset=='train'].text.values]*\n",
    "- Ref:*https://huggingface.co/transformers/internal/tokenization_utils.html#pretrainedtokenizerbase*"
   ]
  },
  {
   "cell_type": "code",
   "execution_count": null,
   "metadata": {},
   "outputs": [],
   "source": [
    "#---Initialize bert-base-uncased tokenizer and select the option to convert all text to lowercase\n",
    "tokenizer = BertTokenizer.from_pretrained('bert-base-uncased', do_lower_case=True)"
   ]
  },
  {
   "cell_type": "code",
   "execution_count": 25,
   "metadata": {},
   "outputs": [
    {
     "name": "stderr",
     "output_type": "stream",
     "text": [
      "Truncation was not explicitly activated but `max_length` is provided a specific value, please use `truncation=True` to explicitly truncate examples to max length. Defaulting to 'longest_first' truncation strategy. If you encode pairs of sequences (GLUE-style) with the tokenizer you can select this strategy more precisely by providing a specific strategy to `truncation`.\n",
      "C:\\ProgramData\\Anaconda3\\lib\\site-packages\\transformers\\tokenization_utils_base.py:2184: FutureWarning: The `pad_to_max_length` argument is deprecated and will be removed in a future version, use `padding=True` or `padding='longest'` to pad to the longest sequence in the batch, or use `padding='max_length'` to pad to a max length. In this case, you can give a specific length with `max_length` (e.g. `max_length=45`) or leave max_length to None to pad to the maximal input size of the model (e.g. 512 for Bert).\n",
      "  warnings.warn(\n"
     ]
    }
   ],
   "source": [
    "#---Tokenize and encode train dataset\n",
    "train_enc = tokenizer.batch_encode_plus(training_data[training_data.dataset=='train'].text.values, \n",
    "                                           add_special_tokens=True, \n",
    "                                           return_attention_mask=True, \n",
    "                                           pad_to_max_length=True, \n",
    "                                           max_length=MAX_LEN, \n",
    "                                           return_tensors='pt'\n",
    "                                           )\n",
    "\n",
    "#---Tokenize and encode val dataset\n",
    "val_enc = tokenizer.batch_encode_plus(training_data[training_data.dataset=='val'].text.values, \n",
    "                                         add_special_tokens=True, \n",
    "                                         return_attention_mask=True, \n",
    "                                         pad_to_max_length=True, \n",
    "                                         max_length=MAX_LEN, \n",
    "                                         return_tensors='pt'\n",
    "                                         )"
   ]
  },
  {
   "cell_type": "markdown",
   "metadata": {},
   "source": [
    "### 2.5 Create tensor datasets from the encoded datasets from previous step\n",
    "- *We must split the input_ids(encoded tokens) and attention masks(says which values a model should work on since we padded tweets shorter than 172) from the previous step*\n",
    "- *we must create a tensor dataset with both input(encoded tweets from last step) and also outputs (the one-hot encoded lables)*\n",
    "- *we create a tensor with the outputs so that the TensorDataset method can combine both inputs and outputs*"
   ]
  },
  {
   "cell_type": "code",
   "execution_count": 14,
   "metadata": {},
   "outputs": [
    {
     "data": {
      "text/plain": [
       "(10920, 3720)"
      ]
     },
     "execution_count": 14,
     "metadata": {},
     "output_type": "execute_result"
    }
   ],
   "source": [
    "#---Get the input ids and attention masks from the tokenizer outputs\n",
    "train_input_ids = train_enc['input_ids']\n",
    "train_attn_masks = train_enc['attention_mask']\n",
    "val_input_ids = val_enc['input_ids']\n",
    "val_attn_masks = val_enc['attention_mask']\n",
    "\n",
    "#---Create tensors with the output data\n",
    "train_labels = torch.tensor(training_data[training_data.dataset=='train'].label.values)\n",
    "val_labels = torch.tensor(training_data[training_data.dataset=='val'].label.values)\n",
    "\n",
    "#---Create the required tensor datasets which will be used in the dataloader\n",
    "train_tensor = TensorDataset(train_input_ids, train_attn_masks, train_labels)\n",
    "val_tensor = TensorDataset(val_input_ids, val_attn_masks, val_labels)\n",
    "\n",
    "len(train_tensor), len(val_tensor)"
   ]
  },
  {
   "cell_type": "markdown",
   "metadata": {},
   "source": [
    "### 2.6 Create dataloaders\n",
    "- *We create two dataloaders - one for training data and one for validation data*\n",
    "- *We use random sampling*\n",
    "- *We use a  batch size of 32 in consideration of the low computing power at hand. It is also known that smaller batch sizes converge quicker - this seems like a good choice considering our limited training data*\n"
   ]
  },
  {
   "cell_type": "code",
   "execution_count": 15,
   "metadata": {},
   "outputs": [],
   "source": [
    "batch_size = 32\n",
    "\n",
    "# We Need two different dataloder\n",
    "train_dloader = DataLoader(train_tensor, sampler=RandomSampler(train_tensor), batch_size=batch_size)\n",
    "val_dloader = DataLoader(val_tensor, sampler=RandomSampler(val_tensor), batch_size=batch_size)"
   ]
  },
  {
   "cell_type": "code",
   "execution_count": 16,
   "metadata": {},
   "outputs": [],
   "source": [
    "# for batch in val_dloader:\n",
    "#     display(batch)\n",
    "#     display(\"----=-=-=-=--=-=\")\n",
    "#     for b in batch:\n",
    "#         display(b)"
   ]
  },
  {
   "cell_type": "markdown",
   "metadata": {},
   "source": [
    "## 3. BERT model and performance definitions\n",
    "- *Define BERT model, optimizer, scheduler and performance metrics*\n",
    "- *Ignore the warning because we are going to train the model before using it to classify reddit and twitter data"
   ]
  },
  {
   "cell_type": "markdown",
   "metadata": {},
   "source": [
    "### 3.1 Define the BERT model"
   ]
  },
  {
   "cell_type": "code",
   "execution_count": 17,
   "metadata": {},
   "outputs": [
    {
     "name": "stderr",
     "output_type": "stream",
     "text": [
      "Some weights of the model checkpoint at bert-base-uncased were not used when initializing BertForSequenceClassification: ['cls.predictions.decoder.weight', 'cls.seq_relationship.weight', 'cls.predictions.transform.dense.weight', 'cls.seq_relationship.bias', 'cls.predictions.bias', 'cls.predictions.transform.dense.bias', 'cls.predictions.transform.LayerNorm.weight', 'cls.predictions.transform.LayerNorm.bias']\n",
      "- This IS expected if you are initializing BertForSequenceClassification from the checkpoint of a model trained on another task or with another architecture (e.g. initializing a BertForSequenceClassification model from a BertForPreTraining model).\n",
      "- This IS NOT expected if you are initializing BertForSequenceClassification from the checkpoint of a model that you expect to be exactly identical (initializing a BertForSequenceClassification model from a BertForSequenceClassification model).\n",
      "Some weights of BertForSequenceClassification were not initialized from the model checkpoint at bert-base-uncased and are newly initialized: ['classifier.bias', 'classifier.weight']\n",
      "You should probably TRAIN this model on a down-stream task to be able to use it for predictions and inference.\n"
     ]
    }
   ],
   "source": [
    "model = BertForSequenceClassification.from_pretrained(\"bert-base-uncased\",\n",
    "                                                      num_labels=len(training_data.label.unique()),    #Used for better code reproducability instead of initializing a constant value\n",
    "                                                      output_attentions=False,\n",
    "                                                      output_hidden_states=False)"
   ]
  },
  {
   "cell_type": "markdown",
   "metadata": {},
   "source": [
    "### 3.2 Move the model to GPU for better performance"
   ]
  },
  {
   "cell_type": "code",
   "execution_count": 18,
   "metadata": {},
   "outputs": [
    {
     "name": "stdout",
     "output_type": "stream",
     "text": [
      "cuda\n"
     ]
    }
   ],
   "source": [
    "device = torch.device('cuda' if torch.cuda.is_available() else 'cpu')\n",
    "model.to(device) \n",
    "print(device)"
   ]
  },
  {
   "cell_type": "markdown",
   "metadata": {},
   "source": [
    "### 3.3 Define the optimizer and scheduler\n",
    "- *We prefer AdamW optimizer function since it is the most widely used general purpose optimizer*\n",
    "- *The scheduler will help bring the learning rate down if it senses overfitting*"
   ]
  },
  {
   "cell_type": "code",
   "execution_count": 19,
   "metadata": {},
   "outputs": [],
   "source": [
    "epochs = 3\n",
    "lr = 4e-5\n",
    "optimizer = AdamW(model.parameters(), lr=lr, eps=1e-8)\n",
    "scheduler = get_linear_schedule_with_warmup(optimizer, num_warmup_steps=0, num_training_steps=len(train_dloader)*epochs)"
   ]
  },
  {
   "cell_type": "markdown",
   "metadata": {},
   "source": [
    "### 3.4 Define evaluation function with performance metrics"
   ]
  },
  {
   "cell_type": "markdown",
   "metadata": {},
   "source": [
    "https://huggingface.co/transformers/main_classes/output.html"
   ]
  },
  {
   "cell_type": "code",
   "execution_count": 22,
   "metadata": {},
   "outputs": [],
   "source": [
    "def model_eval(validation_dataloader):\n",
    "    #---set the model in evaluation mode to disable dropout layers, batch normalization, etc\n",
    "    model.eval()\n",
    "    \n",
    "    #---Initialize some variables to calculate model performance post evaluation\n",
    "    total_loss = 0                          #counter to keep a sum of loss values across all batches\n",
    "    predicted_class, true_class = [], []    #counters to keep track of all the predicted and true classes across all batches\n",
    "    \n",
    "    #---Use model to predict with validation dataset\n",
    "    for batch in tqdm(validation_dataloader):\n",
    "        \n",
    "        #---get the input_ids, attention_masks and labels from each batch int a dictionary to pass as input to the model\n",
    "        temp_batch = tuple(b.to(device) for b in batch)                                                         #move the batch elements to GPU for faster performance\n",
    "        input_dict = {'input_ids': temp_batch[0], 'attention_mask': temp_batch[1], 'labels': temp_batch[2]}\n",
    "        \n",
    "        #---enable no_grad option in pytorch as there will be no back-propogation during evaluation\n",
    "        with torch.no_grad():\n",
    "            #---Predict outputs using the model\n",
    "            model_output = model(**input_dict)\n",
    "\n",
    "        #---get loss for current batch and add to the total_loss counter\n",
    "        loss = model_output[0]             #Example output in every iteration: tensor(0.2658, device='cuda:0')\n",
    "        total_loss += loss.item()\n",
    "        #print('model op 0:', loss)\n",
    "        \n",
    "        #---get the predicted outputs (logits) for current batch and append to predicted_class list\n",
    "        logits = model_output[1]                          #List of lists [[0.1 0.2 0.3][0.1 0.2 0.3]...32 lists inside a list]\n",
    "        #move the logits to cpu and convert to numpy since we will compute the simple math error calculations in cpu and not GPU\n",
    "        logits = logits.detach().cpu().numpy()            #array of list of lists array([[0.1 0.2 0.3][0.1 0.2 0.3]...32 lists inside a list])\n",
    "        predicted_class.append(logits)                    #list containing array of list of lists [array, array, ...]\n",
    "        #print('model op 1:', logits)\n",
    "        #print('pred_class:', predicted_class)\n",
    "        \n",
    "        #---get the original true labels and append to true_class list\n",
    "        true_labels = input_dict['labels'].cpu().numpy()   #array of list of labels [0,1,2,2,1,0,...32 labels]\n",
    "        true_class.append(true_labels)                     #list of array of list of labels [array([32 labels]), array([32 labels]),...]\n",
    "        #print('true_class:', true_class)\n",
    "    \n",
    "    #---Compute average loss\n",
    "    average_loss = total_loss/len(validation_dataloader) \n",
    "    \n",
    "    #---Compute prediction accuracy\n",
    "    predictions = np.concatenate(predicted_class, axis=0)  #list of lists [[0.1 0.2 0.3][0.1 0.2 0.3]....]\n",
    "    true_vals = np.concatenate(true_class, axis=0)         #List of lists\n",
    "    correct_predictions = np.sum(np.argmax(predictions, axis=1).flatten() == true_vals)\n",
    "    prediction_accuracy = correct_predictions / len(training_data[training_data.dataset=='val'])\n",
    "    #print('predicaitons', predictions)\n",
    "    #print('true_vals', true_vals)\n",
    "    \n",
    "    #---Compute f1 score\n",
    "    flattened_predictions = np.argmax(predictions, axis=1).flatten()    #List of values in predictions\n",
    "    flattened_labels = true_vals.flatten()                              #List of values in true_vals\n",
    "    f1score = f1_score(flattened_labels, flattened_predictions, average='weighted')\n",
    "    #print('preds_flat:', preds_flat)\n",
    "    #print('labels_flat:', labels_flat)\n",
    "    \n",
    "    return average_loss, predictions, true_vals, prediction_accuracy, f1score"
   ]
  },
  {
   "cell_type": "markdown",
   "metadata": {},
   "source": [
    "### 3.5 Clear GPU cache"
   ]
  },
  {
   "cell_type": "code",
   "execution_count": 9,
   "metadata": {
    "collapsed": true,
    "jupyter": {
     "outputs_hidden": true
    }
   },
   "outputs": [
    {
     "data": {
      "text/plain": [
       "'|===========================================================================|\\n|                  PyTorch CUDA memory summary, device ID 0                 |\\n|---------------------------------------------------------------------------|\\n|            CUDA OOMs: 0            |        cudaMalloc retries: 0         |\\n|===========================================================================|\\n|        Metric         | Cur Usage  | Peak Usage | Tot Alloc  | Tot Freed  |\\n|---------------------------------------------------------------------------|\\n| Allocated memory      |       0 B  |       0 B  |       0 B  |       0 B  |\\n|---------------------------------------------------------------------------|\\n| Active memory         |       0 B  |       0 B  |       0 B  |       0 B  |\\n|---------------------------------------------------------------------------|\\n| GPU reserved memory   |       0 B  |       0 B  |       0 B  |       0 B  |\\n|---------------------------------------------------------------------------|\\n| Non-releasable memory |       0 B  |       0 B  |       0 B  |       0 B  |\\n|---------------------------------------------------------------------------|\\n| Allocations           |       0    |       0    |       0    |       0    |\\n|---------------------------------------------------------------------------|\\n| Active allocs         |       0    |       0    |       0    |       0    |\\n|---------------------------------------------------------------------------|\\n| GPU reserved segments |       0    |       0    |       0    |       0    |\\n|---------------------------------------------------------------------------|\\n| Non-releasable allocs |       0    |       0    |       0    |       0    |\\n|===========================================================================|\\n'"
      ]
     },
     "execution_count": 9,
     "metadata": {},
     "output_type": "execute_result"
    }
   ],
   "source": [
    "gc.collect()\n",
    "torch.cuda.empty_cache()\n",
    "torch.cuda.memory_summary(device=None, abbreviated=True)"
   ]
  },
  {
   "cell_type": "markdown",
   "metadata": {},
   "source": [
    "- https://machinelearningmastery.com/exploding-gradients-in-neural-networks/\n",
    "- https://neptune.ai/blog/understanding-gradient-clipping-and-how-it-can-fix-exploding-gradients-problem"
   ]
  },
  {
   "cell_type": "markdown",
   "metadata": {},
   "source": [
    "## 4. Trial and error to find the best parameters\n",
    "- *The original paper for BERT worked on batch sizes of (16 and 32) and learning rates of (5e-5, 4e-5, 3e-5, 2e-5, 1e-5)*\n",
    "- REF: *https://arxiv.org/abs/1810.04805*\n",
    "- *We prefer AdamW optimizer function since it is the most widely used general purpose optimizer and Adam was the optimization function used in the original paper on BERT*\n",
    "- *The scheduler will help bring the learning rate down if it senses overfitting*"
   ]
  },
  {
   "cell_type": "markdown",
   "metadata": {},
   "source": [
    "### 4.1 Learning Rate: 4e-5, Batch size = 32"
   ]
  },
  {
   "cell_type": "code",
   "execution_count": 24,
   "metadata": {
    "collapsed": true,
    "jupyter": {
     "outputs_hidden": true,
     "source_hidden": true
    }
   },
   "outputs": [
    {
     "data": {
      "application/vnd.jupyter.widget-view+json": {
       "model_id": "8982eb9ea54b414595e91ebad3ac2cb0",
       "version_major": 2,
       "version_minor": 0
      },
      "text/plain": [
       "HBox(children=(HTML(value=''), FloatProgress(value=0.0, max=3.0), HTML(value='')))"
      ]
     },
     "metadata": {},
     "output_type": "display_data"
    },
    {
     "data": {
      "application/vnd.jupyter.widget-view+json": {
       "model_id": "",
       "version_major": 2,
       "version_minor": 0
      },
      "text/plain": [
       "HBox(children=(HTML(value='Epoch 1'), FloatProgress(value=0.0, max=342.0), HTML(value='')))"
      ]
     },
     "metadata": {},
     "output_type": "display_data"
    },
    {
     "data": {
      "application/vnd.jupyter.widget-view+json": {
       "model_id": "7ab93c30341246109692af8e2ad4f79f",
       "version_major": 2,
       "version_minor": 0
      },
      "text/plain": [
       "HBox(children=(HTML(value=''), FloatProgress(value=0.0, max=117.0), HTML(value='')))"
      ]
     },
     "metadata": {},
     "output_type": "display_data"
    },
    {
     "name": "stdout",
     "output_type": "stream",
     "text": [
      "\n",
      "\n",
      "̲E̲p̲o̲c̲h̲ ̲1\n",
      "Training loss: 0.4918999179587727\n",
      "Validation loss: 0.41849138167424077\n",
      "validation accuracy: 0.8373655913978495\n",
      "f1 score: 0.8332252588220247\n"
     ]
    },
    {
     "data": {
      "application/vnd.jupyter.widget-view+json": {
       "model_id": "",
       "version_major": 2,
       "version_minor": 0
      },
      "text/plain": [
       "HBox(children=(HTML(value='Epoch 2'), FloatProgress(value=0.0, max=342.0), HTML(value='')))"
      ]
     },
     "metadata": {},
     "output_type": "display_data"
    },
    {
     "data": {
      "application/vnd.jupyter.widget-view+json": {
       "model_id": "b7baa3ffd0be4b72b0d340cff219dc3c",
       "version_major": 2,
       "version_minor": 0
      },
      "text/plain": [
       "HBox(children=(HTML(value=''), FloatProgress(value=0.0, max=117.0), HTML(value='')))"
      ]
     },
     "metadata": {},
     "output_type": "display_data"
    },
    {
     "name": "stdout",
     "output_type": "stream",
     "text": [
      "\n",
      "\n",
      "̲E̲p̲o̲c̲h̲ ̲2\n",
      "Training loss: 0.28421257756519736\n",
      "Validation loss: 0.4393012648464268\n",
      "validation accuracy: 0.8435483870967742\n",
      "f1 score: 0.8401358283236026\n"
     ]
    },
    {
     "data": {
      "application/vnd.jupyter.widget-view+json": {
       "model_id": "",
       "version_major": 2,
       "version_minor": 0
      },
      "text/plain": [
       "HBox(children=(HTML(value='Epoch 3'), FloatProgress(value=0.0, max=342.0), HTML(value='')))"
      ]
     },
     "metadata": {},
     "output_type": "display_data"
    },
    {
     "data": {
      "application/vnd.jupyter.widget-view+json": {
       "model_id": "0776476f87d04b42a8669e5da3b6a88d",
       "version_major": 2,
       "version_minor": 0
      },
      "text/plain": [
       "HBox(children=(HTML(value=''), FloatProgress(value=0.0, max=117.0), HTML(value='')))"
      ]
     },
     "metadata": {},
     "output_type": "display_data"
    },
    {
     "name": "stdout",
     "output_type": "stream",
     "text": [
      "\n",
      "\n",
      "̲E̲p̲o̲c̲h̲ ̲3\n",
      "Training loss: 0.14938459754785338\n",
      "Validation loss: 0.5085086523770139\n",
      "validation accuracy: 0.8448924731182795\n",
      "f1 score: 0.8431335409156433\n",
      "\n"
     ]
    }
   ],
   "source": [
    "training_loss_dict = {}\n",
    "validation_loss_dict = {}\n",
    "\n",
    "for epoch in tqdm(range(1, epochs+1)):\n",
    "    \n",
    "    #---set the model to training mode\n",
    "    model.train()         \n",
    "    \n",
    "    #counter to keep a sum of loss values across all epochs\n",
    "    total_loss = 0\n",
    "\n",
    "    # Setting up the Progress bar to Moniter the progress of training\n",
    "    pbar = tqdm(train_dloader, desc='Epoch {:1d}'.format(epoch), leave=False, disable=False)\n",
    "    for batch in pbar:\n",
    "        \n",
    "        #---set zero_grad so that gradient values are not accumulated across batches\n",
    "        model.zero_grad()\n",
    "        \n",
    "        #---get the input_ids, attention_masks and labels from each batch int a dictionary to pass as input to the model\n",
    "        temp_batch = tuple(b.to(device) for b in batch)                 #move the batch elements to GPU for faster performance\n",
    "         \n",
    "        input_dict = {'input_ids': temp_batch[0], 'attention_mask': temp_batch[1], 'labels': temp_batch[2]}       \n",
    "\n",
    "        #---Predict outputs using the model\n",
    "        model_output = model(**input_dict)\n",
    "\n",
    "        #---get loss for current batch and add to the total_loss counter\n",
    "        loss = model_output[0]\n",
    "        total_loss += loss.item()\n",
    "        \n",
    "        #---compute and clip gradients\n",
    "        loss.backward()                                           #compute gradients via backpropogation\n",
    "        torch.nn.utils.clip_grad_norm_(model.parameters(), 1.0)   #clip gradients to prevent gradient explosion issue\n",
    "\n",
    "        #---Use optimizer and scheduler to tune the model during epochs\n",
    "        optimizer.step()\n",
    "        scheduler.step()\n",
    "        \n",
    "        pbar.set_postfix({'training_loss': '{:.3f}'.format(loss.item()/len(batch))})\n",
    "         \n",
    "    #---save the model to disk        \n",
    "    #torch.save(model.state_dict(), r'C:\\Users\\Karthik\\Desktop\\Dissertation\\BERT\\Model\\BERT_trained.model')\n",
    "        \n",
    "    #---calculate metrics \n",
    "    loss_train_avg = total_loss/len(train_dloader)            \n",
    "    val_loss, predictions, true_vals, val_accuracy, f1score = model_eval(val_dloader)\n",
    "\n",
    "    training_loss_dict[epoch] = loss_train_avg\n",
    "    validation_loss_dict[epoch] = val_loss\n",
    "    \n",
    "    tqdm.write(\"\\u0332\".join(f'\\nEpoch {epoch}'))\n",
    "    tqdm.write(f'Training loss: {loss_train_avg}')\n",
    "    tqdm.write(f'Validation loss: {val_loss}')\n",
    "    tqdm.write(f'validation accuracy: {val_accuracy}')\n",
    "    tqdm.write(f'f1 score: {f1score}')\n",
    "    \n",
    "torch.save(model, f\"C:\\\\Users\\\\Karthik\\\\Desktop\\\\Dissertation\\\\BERT\\\\Models\\\\BERT_TwitterUSAirline_Uneven_Batch_{batch_size}_LR_{lr}\")"
   ]
  },
  {
   "cell_type": "markdown",
   "metadata": {},
   "source": [
    "### 4.2 Learning Rate: 3e-5, Batch size = 32"
   ]
  },
  {
   "cell_type": "code",
   "execution_count": 25,
   "metadata": {
    "jupyter": {
     "source_hidden": true
    }
   },
   "outputs": [],
   "source": [
    "epochs = 3\n",
    "lr = 3e-5\n",
    "optimizer = AdamW(model.parameters(), lr=lr, eps=1e-8)\n",
    "scheduler = get_linear_schedule_with_warmup(optimizer, num_warmup_steps=0, num_training_steps=len(train_dloader)*epochs)"
   ]
  },
  {
   "cell_type": "code",
   "execution_count": 26,
   "metadata": {
    "collapsed": true,
    "jupyter": {
     "outputs_hidden": true,
     "source_hidden": true
    }
   },
   "outputs": [
    {
     "data": {
      "application/vnd.jupyter.widget-view+json": {
       "model_id": "5e53ed65393f46c0b2aa65cae286ca42",
       "version_major": 2,
       "version_minor": 0
      },
      "text/plain": [
       "HBox(children=(HTML(value=''), FloatProgress(value=0.0, max=3.0), HTML(value='')))"
      ]
     },
     "metadata": {},
     "output_type": "display_data"
    },
    {
     "data": {
      "application/vnd.jupyter.widget-view+json": {
       "model_id": "",
       "version_major": 2,
       "version_minor": 0
      },
      "text/plain": [
       "HBox(children=(HTML(value='Epoch 1'), FloatProgress(value=0.0, max=342.0), HTML(value='')))"
      ]
     },
     "metadata": {},
     "output_type": "display_data"
    },
    {
     "data": {
      "application/vnd.jupyter.widget-view+json": {
       "model_id": "426e811cbc9e49f491f7413c11a09133",
       "version_major": 2,
       "version_minor": 0
      },
      "text/plain": [
       "HBox(children=(HTML(value=''), FloatProgress(value=0.0, max=117.0), HTML(value='')))"
      ]
     },
     "metadata": {},
     "output_type": "display_data"
    },
    {
     "name": "stdout",
     "output_type": "stream",
     "text": [
      "\n",
      "\n",
      "̲E̲p̲o̲c̲h̲ ̲1\n",
      "Training loss: 0.15330144212096494\n",
      "Validation loss: 0.6249019023763318\n",
      "validation accuracy: 0.8424731182795699\n",
      "f1 score: 0.8359484382569047\n"
     ]
    },
    {
     "data": {
      "application/vnd.jupyter.widget-view+json": {
       "model_id": "",
       "version_major": 2,
       "version_minor": 0
      },
      "text/plain": [
       "HBox(children=(HTML(value='Epoch 2'), FloatProgress(value=0.0, max=342.0), HTML(value='')))"
      ]
     },
     "metadata": {},
     "output_type": "display_data"
    },
    {
     "data": {
      "application/vnd.jupyter.widget-view+json": {
       "model_id": "552e627a87c34fbc958457a4ed2f215c",
       "version_major": 2,
       "version_minor": 0
      },
      "text/plain": [
       "HBox(children=(HTML(value=''), FloatProgress(value=0.0, max=117.0), HTML(value='')))"
      ]
     },
     "metadata": {},
     "output_type": "display_data"
    },
    {
     "name": "stdout",
     "output_type": "stream",
     "text": [
      "\n",
      "\n",
      "̲E̲p̲o̲c̲h̲ ̲2\n",
      "Training loss: 0.08603929308697865\n",
      "Validation loss: 0.7243434639376962\n",
      "validation accuracy: 0.8365591397849462\n",
      "f1 score: 0.832656661531438\n"
     ]
    },
    {
     "data": {
      "application/vnd.jupyter.widget-view+json": {
       "model_id": "",
       "version_major": 2,
       "version_minor": 0
      },
      "text/plain": [
       "HBox(children=(HTML(value='Epoch 3'), FloatProgress(value=0.0, max=342.0), HTML(value='')))"
      ]
     },
     "metadata": {},
     "output_type": "display_data"
    },
    {
     "data": {
      "application/vnd.jupyter.widget-view+json": {
       "model_id": "95cfc362991646d2b595ac10f1267127",
       "version_major": 2,
       "version_minor": 0
      },
      "text/plain": [
       "HBox(children=(HTML(value=''), FloatProgress(value=0.0, max=117.0), HTML(value='')))"
      ]
     },
     "metadata": {},
     "output_type": "display_data"
    },
    {
     "name": "stdout",
     "output_type": "stream",
     "text": [
      "\n",
      "\n",
      "̲E̲p̲o̲c̲h̲ ̲3\n",
      "Training loss: 0.048058861364509736\n",
      "Validation loss: 0.7818541542873678\n",
      "validation accuracy: 0.8405913978494624\n",
      "f1 score: 0.8391119006742153\n",
      "\n"
     ]
    }
   ],
   "source": [
    "training_loss_dict = {}\n",
    "validation_loss_dict = {}\n",
    "\n",
    "for epoch in tqdm(range(1, epochs+1)):\n",
    "    \n",
    "    #---set the model to training mode\n",
    "    model.train()         \n",
    "    \n",
    "    #counter to keep a sum of loss values across all epochs\n",
    "    total_loss = 0\n",
    "\n",
    "    # Setting up the Progress bar to Moniter the progress of training\n",
    "    pbar = tqdm(train_dloader, desc='Epoch {:1d}'.format(epoch), leave=False, disable=False)\n",
    "    for batch in pbar:\n",
    "        \n",
    "        #---set zero_grad so that gradient values are not accumulated across batches\n",
    "        model.zero_grad()\n",
    "        \n",
    "        #---get the input_ids, attention_masks and labels from each batch int a dictionary to pass as input to the model\n",
    "        temp_batch = tuple(b.to(device) for b in batch)                 #move the batch elements to GPU for faster performance\n",
    "         \n",
    "        input_dict = {'input_ids': temp_batch[0], 'attention_mask': temp_batch[1], 'labels': temp_batch[2]}       \n",
    "\n",
    "        #---Predict outputs using the model\n",
    "        model_output = model(**input_dict)\n",
    "\n",
    "        #---get loss for current batch and add to the total_loss counter\n",
    "        loss = model_output[0]\n",
    "        total_loss += loss.item()\n",
    "        \n",
    "        #---compute and clip gradients\n",
    "        loss.backward()                                           #compute gradients via backpropogation\n",
    "        torch.nn.utils.clip_grad_norm_(model.parameters(), 1.0)   #clip gradients to prevent gradient explosion issue\n",
    "\n",
    "        #---Use optimizer and scheduler to tune the model during epochs\n",
    "        optimizer.step()\n",
    "        scheduler.step()\n",
    "        \n",
    "        pbar.set_postfix({'training_loss': '{:.3f}'.format(loss.item()/len(batch))})\n",
    "         \n",
    "    #---save the model to disk        \n",
    "    #torch.save(model.state_dict(), r'C:\\Users\\Karthik\\Desktop\\Dissertation\\BERT\\Model\\BERT_trained.model')\n",
    "        \n",
    "    #---calculate metrics \n",
    "    loss_train_avg = total_loss/len(train_dloader)            \n",
    "    val_loss, predictions, true_vals, val_accuracy, f1score = model_eval(val_dloader)\n",
    "\n",
    "    training_loss_dict[epoch] = loss_train_avg\n",
    "    validation_loss_dict[epoch] = val_loss\n",
    "    \n",
    "    tqdm.write(\"\\u0332\".join(f'\\nEpoch {epoch}'))\n",
    "    tqdm.write(f'Training loss: {loss_train_avg}')\n",
    "    tqdm.write(f'Validation loss: {val_loss}')\n",
    "    tqdm.write(f'validation accuracy: {val_accuracy}')\n",
    "    tqdm.write(f'f1 score: {f1score}')\n",
    "    \n",
    "torch.save(model, f\"C:\\\\Users\\\\Karthik\\\\Desktop\\\\Dissertation\\\\BERT\\\\Models\\\\BERT_TwitterUSAirline_Uneven_Batch_{batch_size}_LR_{lr}\")"
   ]
  },
  {
   "cell_type": "markdown",
   "metadata": {},
   "source": [
    "### 4.3 Learning Rate: 2e-5, Batch size = 32"
   ]
  },
  {
   "cell_type": "code",
   "execution_count": 27,
   "metadata": {
    "jupyter": {
     "source_hidden": true
    }
   },
   "outputs": [],
   "source": [
    "epochs = 3\n",
    "lr = 2e-5\n",
    "optimizer = AdamW(model.parameters(), lr=lr, eps=1e-8)\n",
    "scheduler = get_linear_schedule_with_warmup(optimizer, num_warmup_steps=0, num_training_steps=len(train_dloader)*epochs)"
   ]
  },
  {
   "cell_type": "code",
   "execution_count": 28,
   "metadata": {
    "collapsed": true,
    "jupyter": {
     "outputs_hidden": true,
     "source_hidden": true
    }
   },
   "outputs": [
    {
     "data": {
      "application/vnd.jupyter.widget-view+json": {
       "model_id": "4272d59d1b654e979b06514bccf0cdf9",
       "version_major": 2,
       "version_minor": 0
      },
      "text/plain": [
       "HBox(children=(HTML(value=''), FloatProgress(value=0.0, max=3.0), HTML(value='')))"
      ]
     },
     "metadata": {},
     "output_type": "display_data"
    },
    {
     "data": {
      "application/vnd.jupyter.widget-view+json": {
       "model_id": "",
       "version_major": 2,
       "version_minor": 0
      },
      "text/plain": [
       "HBox(children=(HTML(value='Epoch 1'), FloatProgress(value=0.0, max=342.0), HTML(value='')))"
      ]
     },
     "metadata": {},
     "output_type": "display_data"
    },
    {
     "data": {
      "application/vnd.jupyter.widget-view+json": {
       "model_id": "d268a93e88dd416ca79a7934d9592e0a",
       "version_major": 2,
       "version_minor": 0
      },
      "text/plain": [
       "HBox(children=(HTML(value=''), FloatProgress(value=0.0, max=117.0), HTML(value='')))"
      ]
     },
     "metadata": {},
     "output_type": "display_data"
    },
    {
     "name": "stdout",
     "output_type": "stream",
     "text": [
      "\n",
      "\n",
      "̲E̲p̲o̲c̲h̲ ̲1\n",
      "Training loss: 0.05204733631815979\n",
      "Validation loss: 0.8366450298036265\n",
      "validation accuracy: 0.8397849462365592\n",
      "f1 score: 0.8379845839596098\n"
     ]
    },
    {
     "data": {
      "application/vnd.jupyter.widget-view+json": {
       "model_id": "",
       "version_major": 2,
       "version_minor": 0
      },
      "text/plain": [
       "HBox(children=(HTML(value='Epoch 2'), FloatProgress(value=0.0, max=342.0), HTML(value='')))"
      ]
     },
     "metadata": {},
     "output_type": "display_data"
    },
    {
     "data": {
      "application/vnd.jupyter.widget-view+json": {
       "model_id": "5e6682c32e6244d3ad15ffca2a1e097e",
       "version_major": 2,
       "version_minor": 0
      },
      "text/plain": [
       "HBox(children=(HTML(value=''), FloatProgress(value=0.0, max=117.0), HTML(value='')))"
      ]
     },
     "metadata": {},
     "output_type": "display_data"
    },
    {
     "name": "stdout",
     "output_type": "stream",
     "text": [
      "\n",
      "\n",
      "̲E̲p̲o̲c̲h̲ ̲2\n",
      "Training loss: 0.031242405159374403\n",
      "Validation loss: 0.9352583129309181\n",
      "validation accuracy: 0.8381720430107527\n",
      "f1 score: 0.8370533706716292\n"
     ]
    },
    {
     "data": {
      "application/vnd.jupyter.widget-view+json": {
       "model_id": "",
       "version_major": 2,
       "version_minor": 0
      },
      "text/plain": [
       "HBox(children=(HTML(value='Epoch 3'), FloatProgress(value=0.0, max=342.0), HTML(value='')))"
      ]
     },
     "metadata": {},
     "output_type": "display_data"
    },
    {
     "data": {
      "application/vnd.jupyter.widget-view+json": {
       "model_id": "1175ff74ce40453aa7b5198af2bab213",
       "version_major": 2,
       "version_minor": 0
      },
      "text/plain": [
       "HBox(children=(HTML(value=''), FloatProgress(value=0.0, max=117.0), HTML(value='')))"
      ]
     },
     "metadata": {},
     "output_type": "display_data"
    },
    {
     "name": "stdout",
     "output_type": "stream",
     "text": [
      "\n",
      "\n",
      "̲E̲p̲o̲c̲h̲ ̲3\n",
      "Training loss: 0.017575961076508124\n",
      "Validation loss: 0.945866455630455\n",
      "validation accuracy: 0.839247311827957\n",
      "f1 score: 0.8368624594670694\n",
      "\n"
     ]
    }
   ],
   "source": [
    "training_loss_dict = {}\n",
    "validation_loss_dict = {}\n",
    "\n",
    "for epoch in tqdm(range(1, epochs+1)):\n",
    "    \n",
    "    #---set the model to training mode\n",
    "    model.train()         \n",
    "    \n",
    "    #counter to keep a sum of loss values across all epochs\n",
    "    total_loss = 0\n",
    "\n",
    "    # Setting up the Progress bar to Moniter the progress of training\n",
    "    pbar = tqdm(train_dloader, desc='Epoch {:1d}'.format(epoch), leave=False, disable=False)\n",
    "    for batch in pbar:\n",
    "        \n",
    "        #---set zero_grad so that gradient values are not accumulated across batches\n",
    "        model.zero_grad()\n",
    "        \n",
    "        #---get the input_ids, attention_masks and labels from each batch int a dictionary to pass as input to the model\n",
    "        temp_batch = tuple(b.to(device) for b in batch)                 #move the batch elements to GPU for faster performance\n",
    "         \n",
    "        input_dict = {'input_ids': temp_batch[0], 'attention_mask': temp_batch[1], 'labels': temp_batch[2]}       \n",
    "\n",
    "        #---Predict outputs using the model\n",
    "        model_output = model(**input_dict)\n",
    "\n",
    "        #---get loss for current batch and add to the total_loss counter\n",
    "        loss = model_output[0]\n",
    "        total_loss += loss.item()\n",
    "        \n",
    "        #---compute and clip gradients\n",
    "        loss.backward()                                           #compute gradients via backpropogation\n",
    "        torch.nn.utils.clip_grad_norm_(model.parameters(), 1.0)   #clip gradients to prevent gradient explosion issue\n",
    "\n",
    "        #---Use optimizer and scheduler to tune the model during epochs\n",
    "        optimizer.step()\n",
    "        scheduler.step()\n",
    "        \n",
    "        pbar.set_postfix({'training_loss': '{:.3f}'.format(loss.item()/len(batch))})\n",
    "         \n",
    "    #---save the model to disk        \n",
    "    #torch.save(model.state_dict(), r'C:\\Users\\Karthik\\Desktop\\Dissertation\\BERT\\Model\\BERT_trained.model')\n",
    "        \n",
    "    #---calculate metrics \n",
    "    loss_train_avg = total_loss/len(train_dloader)            \n",
    "    val_loss, predictions, true_vals, val_accuracy, f1score = model_eval(val_dloader)\n",
    "\n",
    "    training_loss_dict[epoch] = loss_train_avg\n",
    "    validation_loss_dict[epoch] = val_loss\n",
    "    \n",
    "    tqdm.write(\"\\u0332\".join(f'\\nEpoch {epoch}'))\n",
    "    tqdm.write(f'Training loss: {loss_train_avg}')\n",
    "    tqdm.write(f'Validation loss: {val_loss}')\n",
    "    tqdm.write(f'validation accuracy: {val_accuracy}')\n",
    "    tqdm.write(f'f1 score: {f1score}')\n",
    "    \n",
    "torch.save(model, f\"C:\\\\Users\\\\Karthik\\\\Desktop\\\\Dissertation\\\\BERT\\\\Models\\\\BERT_TwitterUSAirline_Uneven_Batch_{batch_size}_LR_{lr}\")"
   ]
  },
  {
   "cell_type": "markdown",
   "metadata": {},
   "source": [
    "### 4.4 Learning Rate: 1e-5, Batch size = 32"
   ]
  },
  {
   "cell_type": "code",
   "execution_count": 29,
   "metadata": {
    "jupyter": {
     "source_hidden": true
    }
   },
   "outputs": [],
   "source": [
    "epochs = 3\n",
    "lr = 1e-5\n",
    "optimizer = AdamW(model.parameters(), lr=lr, eps=1e-8)\n",
    "scheduler = get_linear_schedule_with_warmup(optimizer, num_warmup_steps=0, num_training_steps=len(train_dloader)*epochs)"
   ]
  },
  {
   "cell_type": "code",
   "execution_count": 30,
   "metadata": {
    "collapsed": true,
    "jupyter": {
     "outputs_hidden": true,
     "source_hidden": true
    }
   },
   "outputs": [
    {
     "data": {
      "application/vnd.jupyter.widget-view+json": {
       "model_id": "5bcdca915b714887b98fda08e3baa310",
       "version_major": 2,
       "version_minor": 0
      },
      "text/plain": [
       "HBox(children=(HTML(value=''), FloatProgress(value=0.0, max=3.0), HTML(value='')))"
      ]
     },
     "metadata": {},
     "output_type": "display_data"
    },
    {
     "data": {
      "application/vnd.jupyter.widget-view+json": {
       "model_id": "",
       "version_major": 2,
       "version_minor": 0
      },
      "text/plain": [
       "HBox(children=(HTML(value='Epoch 1'), FloatProgress(value=0.0, max=342.0), HTML(value='')))"
      ]
     },
     "metadata": {},
     "output_type": "display_data"
    },
    {
     "data": {
      "application/vnd.jupyter.widget-view+json": {
       "model_id": "84d010743b794c9fac483c66da00b2bd",
       "version_major": 2,
       "version_minor": 0
      },
      "text/plain": [
       "HBox(children=(HTML(value=''), FloatProgress(value=0.0, max=117.0), HTML(value='')))"
      ]
     },
     "metadata": {},
     "output_type": "display_data"
    },
    {
     "name": "stdout",
     "output_type": "stream",
     "text": [
      "\n",
      "\n",
      "̲E̲p̲o̲c̲h̲ ̲1\n",
      "Training loss: 0.020900169156075794\n",
      "Validation loss: 1.0198117283164945\n",
      "validation accuracy: 0.8400537634408602\n",
      "f1 score: 0.8405335717969352\n"
     ]
    },
    {
     "data": {
      "application/vnd.jupyter.widget-view+json": {
       "model_id": "",
       "version_major": 2,
       "version_minor": 0
      },
      "text/plain": [
       "HBox(children=(HTML(value='Epoch 2'), FloatProgress(value=0.0, max=342.0), HTML(value='')))"
      ]
     },
     "metadata": {},
     "output_type": "display_data"
    },
    {
     "data": {
      "application/vnd.jupyter.widget-view+json": {
       "model_id": "1504d4146a1f4c67a0e51ae89bf19a20",
       "version_major": 2,
       "version_minor": 0
      },
      "text/plain": [
       "HBox(children=(HTML(value=''), FloatProgress(value=0.0, max=117.0), HTML(value='')))"
      ]
     },
     "metadata": {},
     "output_type": "display_data"
    },
    {
     "name": "stdout",
     "output_type": "stream",
     "text": [
      "\n",
      "\n",
      "̲E̲p̲o̲c̲h̲ ̲2\n",
      "Training loss: 0.013037168813752942\n",
      "Validation loss: 1.0609567559276445\n",
      "validation accuracy: 0.8411290322580646\n",
      "f1 score: 0.838543712798463\n"
     ]
    },
    {
     "data": {
      "application/vnd.jupyter.widget-view+json": {
       "model_id": "",
       "version_major": 2,
       "version_minor": 0
      },
      "text/plain": [
       "HBox(children=(HTML(value='Epoch 3'), FloatProgress(value=0.0, max=342.0), HTML(value='')))"
      ]
     },
     "metadata": {},
     "output_type": "display_data"
    },
    {
     "data": {
      "application/vnd.jupyter.widget-view+json": {
       "model_id": "215d710444f24b6eb48dfa97a76820f4",
       "version_major": 2,
       "version_minor": 0
      },
      "text/plain": [
       "HBox(children=(HTML(value=''), FloatProgress(value=0.0, max=117.0), HTML(value='')))"
      ]
     },
     "metadata": {},
     "output_type": "display_data"
    },
    {
     "name": "stdout",
     "output_type": "stream",
     "text": [
      "\n",
      "\n",
      "̲E̲p̲o̲c̲h̲ ̲3\n",
      "Training loss: 0.008980270750444158\n",
      "Validation loss: 1.0620940329564703\n",
      "validation accuracy: 0.839516129032258\n",
      "f1 score: 0.8379400391411976\n",
      "\n"
     ]
    }
   ],
   "source": [
    "training_loss_dict = {}\n",
    "validation_loss_dict = {}\n",
    "\n",
    "for epoch in tqdm(range(1, epochs+1)):\n",
    "    \n",
    "    #---set the model to training mode\n",
    "    model.train()         \n",
    "    \n",
    "    #counter to keep a sum of loss values across all epochs\n",
    "    total_loss = 0\n",
    "\n",
    "    # Setting up the Progress bar to Moniter the progress of training\n",
    "    pbar = tqdm(train_dloader, desc='Epoch {:1d}'.format(epoch), leave=False, disable=False)\n",
    "    for batch in pbar:\n",
    "        \n",
    "        #---set zero_grad so that gradient values are not accumulated across batches\n",
    "        model.zero_grad()\n",
    "        \n",
    "        #---get the input_ids, attention_masks and labels from each batch int a dictionary to pass as input to the model\n",
    "        temp_batch = tuple(b.to(device) for b in batch)                 #move the batch elements to GPU for faster performance\n",
    "         \n",
    "        input_dict = {'input_ids': temp_batch[0], 'attention_mask': temp_batch[1], 'labels': temp_batch[2]}       \n",
    "\n",
    "        #---Predict outputs using the model\n",
    "        model_output = model(**input_dict)\n",
    "\n",
    "        #---get loss for current batch and add to the total_loss counter\n",
    "        loss = model_output[0]\n",
    "        total_loss += loss.item()\n",
    "        \n",
    "        #---compute and clip gradients\n",
    "        loss.backward()                                           #compute gradients via backpropogation\n",
    "        torch.nn.utils.clip_grad_norm_(model.parameters(), 1.0)   #clip gradients to prevent gradient explosion issue\n",
    "\n",
    "        #---Use optimizer and scheduler to tune the model during epochs\n",
    "        optimizer.step()\n",
    "        scheduler.step()\n",
    "        \n",
    "        pbar.set_postfix({'training_loss': '{:.3f}'.format(loss.item()/len(batch))})\n",
    "         \n",
    "    #---save the model to disk        \n",
    "    #torch.save(model.state_dict(), r'C:\\Users\\Karthik\\Desktop\\Dissertation\\BERT\\Model\\BERT_trained.model')\n",
    "        \n",
    "    #---calculate metrics \n",
    "    loss_train_avg = total_loss/len(train_dloader)            \n",
    "    val_loss, predictions, true_vals, val_accuracy, f1score = model_eval(val_dloader)\n",
    "\n",
    "    training_loss_dict[epoch] = loss_train_avg\n",
    "    validation_loss_dict[epoch] = val_loss\n",
    "    \n",
    "    tqdm.write(\"\\u0332\".join(f'\\nEpoch {epoch}'))\n",
    "    tqdm.write(f'Training loss: {loss_train_avg}')\n",
    "    tqdm.write(f'Validation loss: {val_loss}')\n",
    "    tqdm.write(f'validation accuracy: {val_accuracy}')\n",
    "    tqdm.write(f'f1 score: {f1score}')\n",
    "    \n",
    "torch.save(model, f\"C:\\\\Users\\\\Karthik\\\\Desktop\\\\Dissertation\\\\BERT\\\\Models\\\\BERT_TwitterUSAirline_Uneven_Batch_{batch_size}_LR_{lr}\")"
   ]
  },
  {
   "cell_type": "markdown",
   "metadata": {},
   "source": [
    "### 4.5 Learning Rate: 4e-5, Batch size = 16"
   ]
  },
  {
   "cell_type": "code",
   "execution_count": 31,
   "metadata": {
    "jupyter": {
     "source_hidden": true
    }
   },
   "outputs": [],
   "source": [
    "batch_size = 16\n",
    "\n",
    "# We Need two different dataloder\n",
    "train_dloader = DataLoader(train_tensor, sampler=RandomSampler(train_tensor), batch_size=batch_size)\n",
    "val_dloader = DataLoader(val_tensor, sampler=RandomSampler(val_tensor), batch_size=batch_size)\n",
    "\n",
    "epochs = 3\n",
    "lr = 4e-5\n",
    "optimizer = AdamW(model.parameters(), lr=lr, eps=1e-8)\n",
    "scheduler = get_linear_schedule_with_warmup(optimizer, num_warmup_steps=0, num_training_steps=len(train_dloader)*epochs)"
   ]
  },
  {
   "cell_type": "code",
   "execution_count": 32,
   "metadata": {
    "collapsed": true,
    "jupyter": {
     "outputs_hidden": true,
     "source_hidden": true
    }
   },
   "outputs": [
    {
     "data": {
      "application/vnd.jupyter.widget-view+json": {
       "model_id": "48594d9615d049bda30ed5e7929681c1",
       "version_major": 2,
       "version_minor": 0
      },
      "text/plain": [
       "HBox(children=(HTML(value=''), FloatProgress(value=0.0, max=3.0), HTML(value='')))"
      ]
     },
     "metadata": {},
     "output_type": "display_data"
    },
    {
     "data": {
      "application/vnd.jupyter.widget-view+json": {
       "model_id": "",
       "version_major": 2,
       "version_minor": 0
      },
      "text/plain": [
       "HBox(children=(HTML(value='Epoch 1'), FloatProgress(value=0.0, max=683.0), HTML(value='')))"
      ]
     },
     "metadata": {},
     "output_type": "display_data"
    },
    {
     "data": {
      "application/vnd.jupyter.widget-view+json": {
       "model_id": "c3c87dbbb3e44c8f8f63dadac3ee1277",
       "version_major": 2,
       "version_minor": 0
      },
      "text/plain": [
       "HBox(children=(HTML(value=''), FloatProgress(value=0.0, max=233.0), HTML(value='')))"
      ]
     },
     "metadata": {},
     "output_type": "display_data"
    },
    {
     "name": "stdout",
     "output_type": "stream",
     "text": [
      "\n",
      "\n",
      "̲E̲p̲o̲c̲h̲ ̲1\n",
      "Training loss: 0.11277784266268615\n",
      "Validation loss: 1.0250013472502122\n",
      "validation accuracy: 0.828763440860215\n",
      "f1 score: 0.8245852248890445\n"
     ]
    },
    {
     "data": {
      "application/vnd.jupyter.widget-view+json": {
       "model_id": "",
       "version_major": 2,
       "version_minor": 0
      },
      "text/plain": [
       "HBox(children=(HTML(value='Epoch 2'), FloatProgress(value=0.0, max=683.0), HTML(value='')))"
      ]
     },
     "metadata": {},
     "output_type": "display_data"
    },
    {
     "data": {
      "application/vnd.jupyter.widget-view+json": {
       "model_id": "14660ed61e9b4e87835b044a900296c7",
       "version_major": 2,
       "version_minor": 0
      },
      "text/plain": [
       "HBox(children=(HTML(value=''), FloatProgress(value=0.0, max=233.0), HTML(value='')))"
      ]
     },
     "metadata": {},
     "output_type": "display_data"
    },
    {
     "name": "stdout",
     "output_type": "stream",
     "text": [
      "\n",
      "\n",
      "̲E̲p̲o̲c̲h̲ ̲2\n",
      "Training loss: 0.06149198831927722\n",
      "Validation loss: 1.1543163704504311\n",
      "validation accuracy: 0.8354838709677419\n",
      "f1 score: 0.8300636150507268\n"
     ]
    },
    {
     "data": {
      "application/vnd.jupyter.widget-view+json": {
       "model_id": "",
       "version_major": 2,
       "version_minor": 0
      },
      "text/plain": [
       "HBox(children=(HTML(value='Epoch 3'), FloatProgress(value=0.0, max=683.0), HTML(value='')))"
      ]
     },
     "metadata": {},
     "output_type": "display_data"
    },
    {
     "data": {
      "application/vnd.jupyter.widget-view+json": {
       "model_id": "6d4681847afc4cd2900752e84e91d2fc",
       "version_major": 2,
       "version_minor": 0
      },
      "text/plain": [
       "HBox(children=(HTML(value=''), FloatProgress(value=0.0, max=233.0), HTML(value='')))"
      ]
     },
     "metadata": {},
     "output_type": "display_data"
    },
    {
     "name": "stdout",
     "output_type": "stream",
     "text": [
      "\n",
      "\n",
      "̲E̲p̲o̲c̲h̲ ̲3\n",
      "Training loss: 0.022426978693292396\n",
      "Validation loss: 1.1787855487485224\n",
      "validation accuracy: 0.8360215053763441\n",
      "f1 score: 0.8348989907434257\n",
      "\n"
     ]
    }
   ],
   "source": [
    "training_loss_dict = {}\n",
    "validation_loss_dict = {}\n",
    "\n",
    "for epoch in tqdm(range(1, epochs+1)):\n",
    "    \n",
    "    #---set the model to training mode\n",
    "    model.train()         \n",
    "    \n",
    "    #counter to keep a sum of loss values across all epochs\n",
    "    total_loss = 0\n",
    "\n",
    "    # Setting up the Progress bar to Moniter the progress of training\n",
    "    pbar = tqdm(train_dloader, desc='Epoch {:1d}'.format(epoch), leave=False, disable=False)\n",
    "    for batch in pbar:\n",
    "        \n",
    "        #---set zero_grad so that gradient values are not accumulated across batches\n",
    "        model.zero_grad()\n",
    "        \n",
    "        #---get the input_ids, attention_masks and labels from each batch int a dictionary to pass as input to the model\n",
    "        temp_batch = tuple(b.to(device) for b in batch)                 #move the batch elements to GPU for faster performance\n",
    "         \n",
    "        input_dict = {'input_ids': temp_batch[0], 'attention_mask': temp_batch[1], 'labels': temp_batch[2]}       \n",
    "\n",
    "        #---Predict outputs using the model\n",
    "        model_output = model(**input_dict)\n",
    "\n",
    "        #---get loss for current batch and add to the total_loss counter\n",
    "        loss = model_output[0]\n",
    "        total_loss += loss.item()\n",
    "        \n",
    "        #---compute and clip gradients\n",
    "        loss.backward()                                           #compute gradients via backpropogation\n",
    "        torch.nn.utils.clip_grad_norm_(model.parameters(), 1.0)   #clip gradients to prevent gradient explosion issue\n",
    "\n",
    "        #---Use optimizer and scheduler to tune the model during epochs\n",
    "        optimizer.step()\n",
    "        scheduler.step()\n",
    "        \n",
    "        pbar.set_postfix({'training_loss': '{:.3f}'.format(loss.item()/len(batch))})\n",
    "         \n",
    "    #---save the model to disk        \n",
    "    #torch.save(model.state_dict(), r'C:\\Users\\Karthik\\Desktop\\Dissertation\\BERT\\Model\\BERT_trained.model')\n",
    "        \n",
    "    #---calculate metrics \n",
    "    loss_train_avg = total_loss/len(train_dloader)            \n",
    "    val_loss, predictions, true_vals, val_accuracy, f1score = model_eval(val_dloader)\n",
    "\n",
    "    training_loss_dict[epoch] = loss_train_avg\n",
    "    validation_loss_dict[epoch] = val_loss\n",
    "    \n",
    "    tqdm.write(\"\\u0332\".join(f'\\nEpoch {epoch}'))\n",
    "    tqdm.write(f'Training loss: {loss_train_avg}')\n",
    "    tqdm.write(f'Validation loss: {val_loss}')\n",
    "    tqdm.write(f'validation accuracy: {val_accuracy}')\n",
    "    tqdm.write(f'f1 score: {f1score}')\n",
    "    \n",
    "torch.save(model, f\"C:\\\\Users\\\\Karthik\\\\Desktop\\\\Dissertation\\\\BERT\\\\Models\\\\BERT_TwitterUSAirline_Uneven_Batch_{batch_size}_LR_{lr}\")"
   ]
  },
  {
   "cell_type": "markdown",
   "metadata": {},
   "source": [
    "#### 4.6 Learning Rate: 3e-5, Batch size = 16"
   ]
  },
  {
   "cell_type": "code",
   "execution_count": 33,
   "metadata": {
    "jupyter": {
     "source_hidden": true
    }
   },
   "outputs": [],
   "source": [
    "batch_size = 16\n",
    "\n",
    "# We Need two different dataloder\n",
    "train_dloader = DataLoader(train_tensor, sampler=RandomSampler(train_tensor), batch_size=batch_size)\n",
    "val_dloader = DataLoader(val_tensor, sampler=RandomSampler(val_tensor), batch_size=batch_size)\n",
    "\n",
    "epochs = 3\n",
    "lr = 3e-5\n",
    "optimizer = AdamW(model.parameters(), lr=lr, eps=1e-8)\n",
    "scheduler = get_linear_schedule_with_warmup(optimizer, num_warmup_steps=0, num_training_steps=len(train_dloader)*epochs)"
   ]
  },
  {
   "cell_type": "code",
   "execution_count": 34,
   "metadata": {
    "collapsed": true,
    "jupyter": {
     "outputs_hidden": true,
     "source_hidden": true
    }
   },
   "outputs": [
    {
     "data": {
      "application/vnd.jupyter.widget-view+json": {
       "model_id": "070b7af4b30142bf8d981bc753357f54",
       "version_major": 2,
       "version_minor": 0
      },
      "text/plain": [
       "HBox(children=(HTML(value=''), FloatProgress(value=0.0, max=3.0), HTML(value='')))"
      ]
     },
     "metadata": {},
     "output_type": "display_data"
    },
    {
     "data": {
      "application/vnd.jupyter.widget-view+json": {
       "model_id": "",
       "version_major": 2,
       "version_minor": 0
      },
      "text/plain": [
       "HBox(children=(HTML(value='Epoch 1'), FloatProgress(value=0.0, max=683.0), HTML(value='')))"
      ]
     },
     "metadata": {},
     "output_type": "display_data"
    },
    {
     "data": {
      "application/vnd.jupyter.widget-view+json": {
       "model_id": "0474b42b49bf42c39e6021177f468669",
       "version_major": 2,
       "version_minor": 0
      },
      "text/plain": [
       "HBox(children=(HTML(value=''), FloatProgress(value=0.0, max=233.0), HTML(value='')))"
      ]
     },
     "metadata": {},
     "output_type": "display_data"
    },
    {
     "name": "stdout",
     "output_type": "stream",
     "text": [
      "\n",
      "\n",
      "̲E̲p̲o̲c̲h̲ ̲1\n",
      "Training loss: 0.05674324723129739\n",
      "Validation loss: 1.216117960113807\n",
      "validation accuracy: 0.828494623655914\n",
      "f1 score: 0.8279334247486939\n"
     ]
    },
    {
     "data": {
      "application/vnd.jupyter.widget-view+json": {
       "model_id": "",
       "version_major": 2,
       "version_minor": 0
      },
      "text/plain": [
       "HBox(children=(HTML(value='Epoch 2'), FloatProgress(value=0.0, max=683.0), HTML(value='')))"
      ]
     },
     "metadata": {},
     "output_type": "display_data"
    },
    {
     "data": {
      "application/vnd.jupyter.widget-view+json": {
       "model_id": "6ed79fe20b4b4328810f708f25ed3b4f",
       "version_major": 2,
       "version_minor": 0
      },
      "text/plain": [
       "HBox(children=(HTML(value=''), FloatProgress(value=0.0, max=233.0), HTML(value='')))"
      ]
     },
     "metadata": {},
     "output_type": "display_data"
    },
    {
     "name": "stdout",
     "output_type": "stream",
     "text": [
      "\n",
      "\n",
      "̲E̲p̲o̲c̲h̲ ̲2\n",
      "Training loss: 0.030379846902986833\n",
      "Validation loss: 1.1918802885959463\n",
      "validation accuracy: 0.8397849462365592\n",
      "f1 score: 0.8348860859740733\n"
     ]
    },
    {
     "data": {
      "application/vnd.jupyter.widget-view+json": {
       "model_id": "",
       "version_major": 2,
       "version_minor": 0
      },
      "text/plain": [
       "HBox(children=(HTML(value='Epoch 3'), FloatProgress(value=0.0, max=683.0), HTML(value='')))"
      ]
     },
     "metadata": {},
     "output_type": "display_data"
    },
    {
     "data": {
      "application/vnd.jupyter.widget-view+json": {
       "model_id": "3a67ca0d7cbc4c62baa1891c51028e84",
       "version_major": 2,
       "version_minor": 0
      },
      "text/plain": [
       "HBox(children=(HTML(value=''), FloatProgress(value=0.0, max=233.0), HTML(value='')))"
      ]
     },
     "metadata": {},
     "output_type": "display_data"
    },
    {
     "name": "stdout",
     "output_type": "stream",
     "text": [
      "\n",
      "\n",
      "̲E̲p̲o̲c̲h̲ ̲3\n",
      "Training loss: 0.016524545600257314\n",
      "Validation loss: 1.2561901851937607\n",
      "validation accuracy: 0.835752688172043\n",
      "f1 score: 0.833709656659957\n",
      "\n"
     ]
    }
   ],
   "source": [
    "training_loss_dict = {}\n",
    "validation_loss_dict = {}\n",
    "\n",
    "for epoch in tqdm(range(1, epochs+1)):\n",
    "    \n",
    "    #---set the model to training mode\n",
    "    model.train()         \n",
    "    \n",
    "    #counter to keep a sum of loss values across all epochs\n",
    "    total_loss = 0\n",
    "\n",
    "    # Setting up the Progress bar to Moniter the progress of training\n",
    "    pbar = tqdm(train_dloader, desc='Epoch {:1d}'.format(epoch), leave=False, disable=False)\n",
    "    for batch in pbar:\n",
    "        \n",
    "        #---set zero_grad so that gradient values are not accumulated across batches\n",
    "        model.zero_grad()\n",
    "        \n",
    "        #---get the input_ids, attention_masks and labels from each batch int a dictionary to pass as input to the model\n",
    "        temp_batch = tuple(b.to(device) for b in batch)                 #move the batch elements to GPU for faster performance\n",
    "         \n",
    "        input_dict = {'input_ids': temp_batch[0], 'attention_mask': temp_batch[1], 'labels': temp_batch[2]}       \n",
    "\n",
    "        #---Predict outputs using the model\n",
    "        model_output = model(**input_dict)\n",
    "\n",
    "        #---get loss for current batch and add to the total_loss counter\n",
    "        loss = model_output[0]\n",
    "        total_loss += loss.item()\n",
    "        \n",
    "        #---compute and clip gradients\n",
    "        loss.backward()                                           #compute gradients via backpropogation\n",
    "        torch.nn.utils.clip_grad_norm_(model.parameters(), 1.0)   #clip gradients to prevent gradient explosion issue\n",
    "\n",
    "        #---Use optimizer and scheduler to tune the model during epochs\n",
    "        optimizer.step()\n",
    "        scheduler.step()\n",
    "        \n",
    "        pbar.set_postfix({'training_loss': '{:.3f}'.format(loss.item()/len(batch))})\n",
    "         \n",
    "    #---save the model to disk        \n",
    "    #torch.save(model.state_dict(), r'C:\\Users\\Karthik\\Desktop\\Dissertation\\BERT\\Model\\BERT_trained.model')\n",
    "        \n",
    "    #---calculate metrics \n",
    "    loss_train_avg = total_loss/len(train_dloader)            \n",
    "    val_loss, predictions, true_vals, val_accuracy, f1score = model_eval(val_dloader)\n",
    "\n",
    "    training_loss_dict[epoch] = loss_train_avg\n",
    "    validation_loss_dict[epoch] = val_loss\n",
    "    \n",
    "    tqdm.write(\"\\u0332\".join(f'\\nEpoch {epoch}'))\n",
    "    tqdm.write(f'Training loss: {loss_train_avg}')\n",
    "    tqdm.write(f'Validation loss: {val_loss}')\n",
    "    tqdm.write(f'validation accuracy: {val_accuracy}')\n",
    "    tqdm.write(f'f1 score: {f1score}')\n",
    "    \n",
    "torch.save(model, f\"C:\\\\Users\\\\Karthik\\\\Desktop\\\\Dissertation\\\\BERT\\\\Models\\\\BERT_TwitterUSAirline_Uneven_Batch_{batch_size}_LR_{lr}\")"
   ]
  },
  {
   "cell_type": "markdown",
   "metadata": {},
   "source": [
    "### 4.7 Learning Rate: 2e-5, Batch size = 16"
   ]
  },
  {
   "cell_type": "code",
   "execution_count": 35,
   "metadata": {
    "jupyter": {
     "source_hidden": true
    }
   },
   "outputs": [],
   "source": [
    "batch_size = 16\n",
    "\n",
    "# We Need two different dataloder\n",
    "train_dloader = DataLoader(train_tensor, sampler=RandomSampler(train_tensor), batch_size=batch_size)\n",
    "val_dloader = DataLoader(val_tensor, sampler=RandomSampler(val_tensor), batch_size=batch_size)\n",
    "\n",
    "epochs = 3\n",
    "lr = 2e-5\n",
    "optimizer = AdamW(model.parameters(), lr=lr, eps=1e-8)\n",
    "scheduler = get_linear_schedule_with_warmup(optimizer, num_warmup_steps=0, num_training_steps=len(train_dloader)*epochs)"
   ]
  },
  {
   "cell_type": "code",
   "execution_count": 36,
   "metadata": {
    "collapsed": true,
    "jupyter": {
     "outputs_hidden": true,
     "source_hidden": true
    }
   },
   "outputs": [
    {
     "data": {
      "application/vnd.jupyter.widget-view+json": {
       "model_id": "e17e56447c2c4064acc83f6ef1b762f9",
       "version_major": 2,
       "version_minor": 0
      },
      "text/plain": [
       "HBox(children=(HTML(value=''), FloatProgress(value=0.0, max=3.0), HTML(value='')))"
      ]
     },
     "metadata": {},
     "output_type": "display_data"
    },
    {
     "data": {
      "application/vnd.jupyter.widget-view+json": {
       "model_id": "",
       "version_major": 2,
       "version_minor": 0
      },
      "text/plain": [
       "HBox(children=(HTML(value='Epoch 1'), FloatProgress(value=0.0, max=683.0), HTML(value='')))"
      ]
     },
     "metadata": {},
     "output_type": "display_data"
    },
    {
     "data": {
      "application/vnd.jupyter.widget-view+json": {
       "model_id": "db958b9b608640a4b4c89cbe028b0d5c",
       "version_major": 2,
       "version_minor": 0
      },
      "text/plain": [
       "HBox(children=(HTML(value=''), FloatProgress(value=0.0, max=233.0), HTML(value='')))"
      ]
     },
     "metadata": {},
     "output_type": "display_data"
    },
    {
     "name": "stdout",
     "output_type": "stream",
     "text": [
      "\n",
      "\n",
      "̲E̲p̲o̲c̲h̲ ̲1\n",
      "Training loss: 0.02659671924670162\n",
      "Validation loss: 1.3028597836966325\n",
      "validation accuracy: 0.8344086021505376\n",
      "f1 score: 0.8354077246675321\n"
     ]
    },
    {
     "data": {
      "application/vnd.jupyter.widget-view+json": {
       "model_id": "",
       "version_major": 2,
       "version_minor": 0
      },
      "text/plain": [
       "HBox(children=(HTML(value='Epoch 2'), FloatProgress(value=0.0, max=683.0), HTML(value='')))"
      ]
     },
     "metadata": {},
     "output_type": "display_data"
    },
    {
     "data": {
      "application/vnd.jupyter.widget-view+json": {
       "model_id": "8dfb0664b300417eab830659e2ed2a7f",
       "version_major": 2,
       "version_minor": 0
      },
      "text/plain": [
       "HBox(children=(HTML(value=''), FloatProgress(value=0.0, max=233.0), HTML(value='')))"
      ]
     },
     "metadata": {},
     "output_type": "display_data"
    },
    {
     "name": "stdout",
     "output_type": "stream",
     "text": [
      "\n",
      "\n",
      "̲E̲p̲o̲c̲h̲ ̲2\n",
      "Training loss: 0.015641017653211818\n",
      "Validation loss: 1.3521604862429888\n",
      "validation accuracy: 0.8387096774193549\n",
      "f1 score: 0.8365732260008416\n"
     ]
    },
    {
     "data": {
      "application/vnd.jupyter.widget-view+json": {
       "model_id": "",
       "version_major": 2,
       "version_minor": 0
      },
      "text/plain": [
       "HBox(children=(HTML(value='Epoch 3'), FloatProgress(value=0.0, max=683.0), HTML(value='')))"
      ]
     },
     "metadata": {},
     "output_type": "display_data"
    },
    {
     "data": {
      "application/vnd.jupyter.widget-view+json": {
       "model_id": "5b0d48ca822440b7a7e6cd0b87727513",
       "version_major": 2,
       "version_minor": 0
      },
      "text/plain": [
       "HBox(children=(HTML(value=''), FloatProgress(value=0.0, max=233.0), HTML(value='')))"
      ]
     },
     "metadata": {},
     "output_type": "display_data"
    },
    {
     "name": "stdout",
     "output_type": "stream",
     "text": [
      "\n",
      "\n",
      "̲E̲p̲o̲c̲h̲ ̲3\n",
      "Training loss: 0.009666627362538765\n",
      "Validation loss: 1.3435795108581678\n",
      "validation accuracy: 0.8405913978494624\n",
      "f1 score: 0.8392133898282316\n",
      "\n"
     ]
    }
   ],
   "source": [
    "training_loss_dict = {}\n",
    "validation_loss_dict = {}\n",
    "\n",
    "for epoch in tqdm(range(1, epochs+1)):\n",
    "    \n",
    "    #---set the model to training mode\n",
    "    model.train()         \n",
    "    \n",
    "    #counter to keep a sum of loss values across all epochs\n",
    "    total_loss = 0\n",
    "\n",
    "    # Setting up the Progress bar to Moniter the progress of training\n",
    "    pbar = tqdm(train_dloader, desc='Epoch {:1d}'.format(epoch), leave=False, disable=False)\n",
    "    for batch in pbar:\n",
    "        \n",
    "        #---set zero_grad so that gradient values are not accumulated across batches\n",
    "        model.zero_grad()\n",
    "        \n",
    "        #---get the input_ids, attention_masks and labels from each batch int a dictionary to pass as input to the model\n",
    "        temp_batch = tuple(b.to(device) for b in batch)                 #move the batch elements to GPU for faster performance\n",
    "         \n",
    "        input_dict = {'input_ids': temp_batch[0], 'attention_mask': temp_batch[1], 'labels': temp_batch[2]}       \n",
    "\n",
    "        #---Predict outputs using the model\n",
    "        model_output = model(**input_dict)\n",
    "\n",
    "        #---get loss for current batch and add to the total_loss counter\n",
    "        loss = model_output[0]\n",
    "        total_loss += loss.item()\n",
    "        \n",
    "        #---compute and clip gradients\n",
    "        loss.backward()                                           #compute gradients via backpropogation\n",
    "        torch.nn.utils.clip_grad_norm_(model.parameters(), 1.0)   #clip gradients to prevent gradient explosion issue\n",
    "\n",
    "        #---Use optimizer and scheduler to tune the model during epochs\n",
    "        optimizer.step()\n",
    "        scheduler.step()\n",
    "        \n",
    "        pbar.set_postfix({'training_loss': '{:.3f}'.format(loss.item()/len(batch))})\n",
    "         \n",
    "    #---save the model to disk        \n",
    "    #torch.save(model.state_dict(), r'C:\\Users\\Karthik\\Desktop\\Dissertation\\BERT\\Model\\BERT_trained.model')\n",
    "        \n",
    "    #---calculate metrics \n",
    "    loss_train_avg = total_loss/len(train_dloader)            \n",
    "    val_loss, predictions, true_vals, val_accuracy, f1score = model_eval(val_dloader)\n",
    "\n",
    "    training_loss_dict[epoch] = loss_train_avg\n",
    "    validation_loss_dict[epoch] = val_loss\n",
    "    \n",
    "    tqdm.write(\"\\u0332\".join(f'\\nEpoch {epoch}'))\n",
    "    tqdm.write(f'Training loss: {loss_train_avg}')\n",
    "    tqdm.write(f'Validation loss: {val_loss}')\n",
    "    tqdm.write(f'validation accuracy: {val_accuracy}')\n",
    "    tqdm.write(f'f1 score: {f1score}')\n",
    "    \n",
    "torch.save(model, f\"C:\\\\Users\\\\Karthik\\\\Desktop\\\\Dissertation\\\\BERT\\\\Models\\\\BERT_TwitterUSAirline_Uneven_Batch_{batch_size}_LR_{lr}\")"
   ]
  },
  {
   "cell_type": "markdown",
   "metadata": {},
   "source": [
    "### 4.8 Learning Rate: 1e-5, Batch size = 16"
   ]
  },
  {
   "cell_type": "code",
   "execution_count": 37,
   "metadata": {
    "jupyter": {
     "source_hidden": true
    }
   },
   "outputs": [],
   "source": [
    "batch_size = 16\n",
    "\n",
    "# We Need two different dataloder\n",
    "train_dloader = DataLoader(train_tensor, sampler=RandomSampler(train_tensor), batch_size=batch_size)\n",
    "val_dloader = DataLoader(val_tensor, sampler=RandomSampler(val_tensor), batch_size=batch_size)\n",
    "\n",
    "epochs = 3\n",
    "lr = 1e-5\n",
    "optimizer = AdamW(model.parameters(), lr=lr, eps=1e-8)\n",
    "scheduler = get_linear_schedule_with_warmup(optimizer, num_warmup_steps=0, num_training_steps=len(train_dloader)*epochs)"
   ]
  },
  {
   "cell_type": "code",
   "execution_count": 38,
   "metadata": {
    "collapsed": true,
    "jupyter": {
     "outputs_hidden": true,
     "source_hidden": true
    }
   },
   "outputs": [
    {
     "data": {
      "application/vnd.jupyter.widget-view+json": {
       "model_id": "3cdb035c488540b3bacc8f11e6e8ae69",
       "version_major": 2,
       "version_minor": 0
      },
      "text/plain": [
       "HBox(children=(HTML(value=''), FloatProgress(value=0.0, max=3.0), HTML(value='')))"
      ]
     },
     "metadata": {},
     "output_type": "display_data"
    },
    {
     "data": {
      "application/vnd.jupyter.widget-view+json": {
       "model_id": "",
       "version_major": 2,
       "version_minor": 0
      },
      "text/plain": [
       "HBox(children=(HTML(value='Epoch 1'), FloatProgress(value=0.0, max=683.0), HTML(value='')))"
      ]
     },
     "metadata": {},
     "output_type": "display_data"
    },
    {
     "data": {
      "application/vnd.jupyter.widget-view+json": {
       "model_id": "0a391a42ff2149f292d090aaf9991008",
       "version_major": 2,
       "version_minor": 0
      },
      "text/plain": [
       "HBox(children=(HTML(value=''), FloatProgress(value=0.0, max=233.0), HTML(value='')))"
      ]
     },
     "metadata": {},
     "output_type": "display_data"
    },
    {
     "name": "stdout",
     "output_type": "stream",
     "text": [
      "\n",
      "\n",
      "̲E̲p̲o̲c̲h̲ ̲1\n",
      "Training loss: 0.011044883322467012\n",
      "Validation loss: 1.421291095974326\n",
      "validation accuracy: 0.8400537634408602\n",
      "f1 score: 0.8375344087357359\n"
     ]
    },
    {
     "data": {
      "application/vnd.jupyter.widget-view+json": {
       "model_id": "",
       "version_major": 2,
       "version_minor": 0
      },
      "text/plain": [
       "HBox(children=(HTML(value='Epoch 2'), FloatProgress(value=0.0, max=683.0), HTML(value='')))"
      ]
     },
     "metadata": {},
     "output_type": "display_data"
    },
    {
     "data": {
      "application/vnd.jupyter.widget-view+json": {
       "model_id": "65fadf6b471e4d6daafdf99a1cbacb69",
       "version_major": 2,
       "version_minor": 0
      },
      "text/plain": [
       "HBox(children=(HTML(value=''), FloatProgress(value=0.0, max=233.0), HTML(value='')))"
      ]
     },
     "metadata": {},
     "output_type": "display_data"
    },
    {
     "name": "stdout",
     "output_type": "stream",
     "text": [
      "\n",
      "\n",
      "̲E̲p̲o̲c̲h̲ ̲2\n",
      "Training loss: 0.010214573554559786\n",
      "Validation loss: 1.4268254187153275\n",
      "validation accuracy: 0.8379032258064516\n",
      "f1 score: 0.8339374495444586\n"
     ]
    },
    {
     "data": {
      "application/vnd.jupyter.widget-view+json": {
       "model_id": "",
       "version_major": 2,
       "version_minor": 0
      },
      "text/plain": [
       "HBox(children=(HTML(value='Epoch 3'), FloatProgress(value=0.0, max=683.0), HTML(value='')))"
      ]
     },
     "metadata": {},
     "output_type": "display_data"
    },
    {
     "data": {
      "application/vnd.jupyter.widget-view+json": {
       "model_id": "f47b357b7b1448db919dd96c70e77fc4",
       "version_major": 2,
       "version_minor": 0
      },
      "text/plain": [
       "HBox(children=(HTML(value=''), FloatProgress(value=0.0, max=233.0), HTML(value='')))"
      ]
     },
     "metadata": {},
     "output_type": "display_data"
    },
    {
     "name": "stdout",
     "output_type": "stream",
     "text": [
      "\n",
      "\n",
      "̲E̲p̲o̲c̲h̲ ̲3\n",
      "Training loss: 0.006982891913814741\n",
      "Validation loss: 1.4047865273845315\n",
      "validation accuracy: 0.839247311827957\n",
      "f1 score: 0.8381167321401644\n",
      "\n"
     ]
    }
   ],
   "source": [
    "training_loss_dict = {}\n",
    "validation_loss_dict = {}\n",
    "\n",
    "for epoch in tqdm(range(1, epochs+1)):\n",
    "    \n",
    "    #---set the model to training mode\n",
    "    model.train()         \n",
    "    \n",
    "    #counter to keep a sum of loss values across all epochs\n",
    "    total_loss = 0\n",
    "\n",
    "    # Setting up the Progress bar to Moniter the progress of training\n",
    "    pbar = tqdm(train_dloader, desc='Epoch {:1d}'.format(epoch), leave=False, disable=False)\n",
    "    for batch in pbar:\n",
    "        \n",
    "        #---set zero_grad so that gradient values are not accumulated across batches\n",
    "        model.zero_grad()\n",
    "        \n",
    "        #---get the input_ids, attention_masks and labels from each batch int a dictionary to pass as input to the model\n",
    "        temp_batch = tuple(b.to(device) for b in batch)                 #move the batch elements to GPU for faster performance\n",
    "         \n",
    "        input_dict = {'input_ids': temp_batch[0], 'attention_mask': temp_batch[1], 'labels': temp_batch[2]}       \n",
    "\n",
    "        #---Predict outputs using the model\n",
    "        model_output = model(**input_dict)\n",
    "\n",
    "        #---get loss for current batch and add to the total_loss counter\n",
    "        loss = model_output[0]\n",
    "        total_loss += loss.item()\n",
    "        \n",
    "        #---compute and clip gradients\n",
    "        loss.backward()                                           #compute gradients via backpropogation\n",
    "        torch.nn.utils.clip_grad_norm_(model.parameters(), 1.0)   #clip gradients to prevent gradient explosion issue\n",
    "\n",
    "        #---Use optimizer and scheduler to tune the model during epochs\n",
    "        optimizer.step()\n",
    "        scheduler.step()\n",
    "        \n",
    "        pbar.set_postfix({'training_loss': '{:.3f}'.format(loss.item()/len(batch))})\n",
    "         \n",
    "    #---save the model to disk        \n",
    "    #torch.save(model.state_dict(), r'C:\\Users\\Karthik\\Desktop\\Dissertation\\BERT\\Model\\BERT_trained.model')\n",
    "        \n",
    "    #---calculate metrics \n",
    "    loss_train_avg = total_loss/len(train_dloader)            \n",
    "    val_loss, predictions, true_vals, val_accuracy, f1score = model_eval(val_dloader)\n",
    "\n",
    "    training_loss_dict[epoch] = loss_train_avg\n",
    "    validation_loss_dict[epoch] = val_loss\n",
    "    \n",
    "    tqdm.write(\"\\u0332\".join(f'\\nEpoch {epoch}'))\n",
    "    tqdm.write(f'Training loss: {loss_train_avg}')\n",
    "    tqdm.write(f'Validation loss: {val_loss}')\n",
    "    tqdm.write(f'validation accuracy: {val_accuracy}')\n",
    "    tqdm.write(f'f1 score: {f1score}')\n",
    "    \n",
    "torch.save(model, f\"C:\\\\Users\\\\Karthik\\\\Desktop\\\\Dissertation\\\\BERT\\\\Models\\\\BERT_TwitterUSAirline_Uneven_Batch_{batch_size}_LR_{lr}\")"
   ]
  },
  {
   "cell_type": "markdown",
   "metadata": {},
   "source": [
    "## 4. Predict with the best model\n",
    "- *Batch size of 32 and learning rate of 4e-4 gave the best results*"
   ]
  },
  {
   "cell_type": "markdown",
   "metadata": {},
   "source": [
    "### 5.1 Load the selected model"
   ]
  },
  {
   "cell_type": "code",
   "execution_count": 10,
   "metadata": {},
   "outputs": [],
   "source": [
    "reqd_model = torch.load(r\"C:\\Users\\Karthik\\Desktop\\Dissertation\\BERT\\Models\\BERT_TwitterUSAirline_Uneven_Batch_32_LR_4e-05\")"
   ]
  },
  {
   "cell_type": "code",
   "execution_count": 11,
   "metadata": {},
   "outputs": [
    {
     "name": "stdout",
     "output_type": "stream",
     "text": [
      "cuda\n"
     ]
    }
   ],
   "source": [
    "device = torch.device('cuda' if torch.cuda.is_available() else 'cpu')\n",
    "reqd_model.to(device) \n",
    "print(device)"
   ]
  },
  {
   "cell_type": "markdown",
   "metadata": {},
   "source": [
    "### 5.2 Prepare the datasets to be used in the BERT model for prediction"
   ]
  },
  {
   "cell_type": "markdown",
   "metadata": {},
   "source": [
    "#### 5.2.1 Clean the text data"
   ]
  },
  {
   "cell_type": "code",
   "execution_count": 12,
   "metadata": {},
   "outputs": [],
   "source": [
    "for tick, tick_df in reddit_df_dict.items():\n",
    "#     print(tick, tick_df)\n",
    "    tick_df['cleaned_body'] = tick_df['body'].apply(lambda x: text_preprocessing(x))\n",
    "    tick_df['LEN'] = tick_df.cleaned_body.str.len()    "
   ]
  },
  {
   "cell_type": "code",
   "execution_count": 13,
   "metadata": {},
   "outputs": [],
   "source": [
    "for tick, tick_df in twitter_df_dict.items():\n",
    "    tick_df['cleaned_body'] = tick_df['cleaned_content'].apply(lambda x: text_preprocessing(x))\n",
    "    tick_df['LEN'] = tick_df.cleaned_body.str.len()    "
   ]
  },
  {
   "cell_type": "markdown",
   "metadata": {},
   "source": [
    "#### 5.2.2 Handle records where text is greater than a length of 512\n",
    "- *BERT can only handle a max length of 512*\n",
    "- *For each comment > length of 512, break the comment into multiple sets of 512*\n",
    "- *After breaking, create a new record for each of the broken parts and append to the original dataframe. Since we take the average sentiment scores, appending new rows with the same dates will not affect the data*"
   ]
  },
  {
   "cell_type": "code",
   "execution_count": 14,
   "metadata": {},
   "outputs": [],
   "source": [
    "n=512\n",
    "def ffn(xseries):\n",
    "    list_of_lists = []\n",
    "        \n",
    "    if xseries['LEN']>512:\n",
    "        parts = [xseries['cleaned_body'][i:i+n] for i in range(0, xseries['LEN'], n)]\n",
    "    \n",
    "        counter=0\n",
    "        for i in parts:\n",
    "            list_series = []\n",
    "            list_series.append(xseries['body'])\n",
    "            list_series.append(xseries['created_utc'])\n",
    "            list_series.append(xseries['id'])\n",
    "            list_series.append(xseries['top'])\n",
    "            list_series.append(xseries['year'])\n",
    "            list_series.append(xseries['month'])\n",
    "            list_series.append(xseries['day'])\n",
    "            list_series.append(xseries['ticker'])\n",
    "            list_series.append(xseries['YearMonDay'])\n",
    "            list_series.append(i)\n",
    "            counter+=1\n",
    "            list_series.append(counter)\n",
    "            \n",
    "            list_of_lists.append(list_series)\n",
    "    \n",
    "        return list_of_lists\n",
    "    else:\n",
    "        return 0"
   ]
  },
  {
   "cell_type": "code",
   "execution_count": 15,
   "metadata": {},
   "outputs": [],
   "source": [
    "for tick, tick_df in reddit_df_dict.items():\n",
    "    tick_df['mltp'] = tick_df.apply(ffn, axis=1)"
   ]
  },
  {
   "cell_type": "code",
   "execution_count": 16,
   "metadata": {},
   "outputs": [],
   "source": [
    "for tick, tick_df in twitter_df_dict.items():\n",
    "    tick_df['mltp'] = tick_df.apply(ffn, axis=1)"
   ]
  },
  {
   "cell_type": "code",
   "execution_count": 17,
   "metadata": {},
   "outputs": [],
   "source": [
    "for tick, tick_df in reddit_df_dict.items():\n",
    "    addition_list = tick_df.query('mltp != 0')['mltp']\n",
    "    \n",
    "    if len(addition_list)==0:\n",
    "        continue\n",
    "    \n",
    "    ind_additions = []\n",
    "\n",
    "    for list_of_sentences in addition_list:\n",
    "        for sentence_part in list_of_sentences:\n",
    "            ind_additions.append(sentence_part)\n",
    "    \n",
    "    \n",
    "    df_additions = pd.DataFrame(ind_additions, columns=['body','created_utc','id','top','year','month','day','ticker','YearMonDay','cleaned_body','LEN'])\n",
    "    \n",
    "    tick_df.drop('mltp', axis=1, inplace=True)\n",
    "    tick_df.drop(tick_df[tick_df.LEN > 512].index, inplace = True)\n",
    "    tick_df = tick_df.append(df_additions, ignore_index=True)"
   ]
  },
  {
   "cell_type": "code",
   "execution_count": 18,
   "metadata": {},
   "outputs": [],
   "source": [
    "for tick, tick_df in twitter_df_dict.items():\n",
    "    addition_list = tick_df.query('mltp != 0')['mltp']\n",
    "    \n",
    "    if len(addition_list)==0:\n",
    "        continue\n",
    "    \n",
    "    ind_additions = []\n",
    "\n",
    "    for list_of_sentences in addition_list:\n",
    "        for sentence_part in list_of_sentences:\n",
    "            ind_additions.append(sentence_part)\n",
    "    \n",
    "    \n",
    "    df_additions = pd.DataFrame(ind_additions, columns=['body','created_utc','id','top','year','month','day','ticker','YearMonDay','cleaned_body','LEN'])\n",
    "    \n",
    "    tick_df.drop('mltp', axis=1, inplace=True)\n",
    "    tick_df.drop(tick_df[tick_df.LEN > 512].index, inplace = True)\n",
    "    tick_df = tick_df.append(df_additions, ignore_index=True)"
   ]
  },
  {
   "cell_type": "markdown",
   "metadata": {},
   "source": [
    "- *Make sure there is no data where comment length is greater than 512*"
   ]
  },
  {
   "cell_type": "code",
   "execution_count": 19,
   "metadata": {},
   "outputs": [
    {
     "name": "stdout",
     "output_type": "stream",
     "text": [
      "Empty DataFrame\n",
      "Columns: [body, created_utc, id, top, year, month, day, ticker, YearMonDay, cleaned_body, LEN]\n",
      "Index: []\n",
      "Empty DataFrame\n",
      "Columns: [body, created_utc, id, top, year, month, day, ticker, YearMonDay, cleaned_body, LEN]\n",
      "Index: []\n",
      "Empty DataFrame\n",
      "Columns: [body, created_utc, id, top, year, month, day, ticker, YearMonDay, cleaned_body, LEN]\n",
      "Index: []\n",
      "Empty DataFrame\n",
      "Columns: [body, created_utc, id, top, year, month, day, ticker, YearMonDay, cleaned_body, LEN]\n",
      "Index: []\n",
      "Empty DataFrame\n",
      "Columns: [body, created_utc, id, top, year, month, day, ticker, YearMonDay, cleaned_body, LEN]\n",
      "Index: []\n",
      "Empty DataFrame\n",
      "Columns: [body, created_utc, id, top, year, month, day, ticker, YearMonDay, cleaned_body, LEN]\n",
      "Index: []\n"
     ]
    }
   ],
   "source": [
    "for tick, tick_df in reddit_df_dict.items():\n",
    "    print(tick_df.query('LEN > 512'))"
   ]
  },
  {
   "cell_type": "code",
   "execution_count": 20,
   "metadata": {},
   "outputs": [
    {
     "name": "stdout",
     "output_type": "stream",
     "text": [
      "Empty DataFrame\n",
      "Columns: [date, content, likeCount, lang, cleaned_content, year, month, day, ticker, YearMonDay, cleaned_body, LEN, mltp]\n",
      "Index: []\n",
      "Empty DataFrame\n",
      "Columns: [date, content, likeCount, lang, cleaned_content, year, month, day, ticker, YearMonDay, cleaned_body, LEN, mltp]\n",
      "Index: []\n",
      "Empty DataFrame\n",
      "Columns: [date, content, likeCount, lang, cleaned_content, year, month, day, ticker, YearMonDay, cleaned_body, LEN, mltp]\n",
      "Index: []\n",
      "Empty DataFrame\n",
      "Columns: [date, content, likeCount, lang, cleaned_content, year, month, day, ticker, YearMonDay, cleaned_body, LEN, mltp]\n",
      "Index: []\n",
      "Empty DataFrame\n",
      "Columns: [date, content, likeCount, lang, cleaned_content, year, month, day, ticker, YearMonDay, cleaned_body, LEN, mltp]\n",
      "Index: []\n",
      "Empty DataFrame\n",
      "Columns: [date, content, likeCount, lang, cleaned_content, year, month, day, ticker, YearMonDay, cleaned_body, LEN, mltp]\n",
      "Index: []\n"
     ]
    }
   ],
   "source": [
    "for tick, tick_df in twitter_df_dict.items():\n",
    "    print(tick_df.query('LEN > 512'))"
   ]
  },
  {
   "cell_type": "markdown",
   "metadata": {},
   "source": [
    "#### 5.2.3 Define a funtion to prepare reddit and twitter data for model prediction\n",
    "- *The data should be tokenized and encoded and then tensor datasets must be created from them to be passed to the BERT model*\n",
    "- *We will create a dictionary for reddit and twitter to hold the tensor datasets respectively*"
   ]
  },
  {
   "cell_type": "code",
   "execution_count": 21,
   "metadata": {},
   "outputs": [],
   "source": [
    "#---Initialize bert-base-uncased tokenizer and select the option to convert all text to lowercase\n",
    "tokenizer = BertTokenizer.from_pretrained('bert-base-uncased', do_lower_case=True)\n",
    "\n",
    "def dataloader_fnc(text, MAX_LEN):\n",
    "    input_id_list = []\n",
    "    attn_mask_list = []\n",
    "    \n",
    "    for line in text:\n",
    "        #--Tokenize and encode the cleaned text (we do not return_tensors here since our tensor should have all the lines)\n",
    "        data_enc = tokenizer.encode_plus(line, \n",
    "                                         add_special_tokens=True, \n",
    "                                         return_attention_mask=True, \n",
    "                                         pad_to_max_length=True, \n",
    "                                         max_length=MAX_LEN\n",
    "                                         )\n",
    "        \n",
    "        #--get the input_ids and attention_mask values\n",
    "        input_id_list.append(data_enc.get(\"input_ids\"))\n",
    "        attn_mask_list.append(data_enc.get(\"attention_mask\"))\n",
    "    \n",
    "    tensor_dataset = TensorDataset(torch.tensor(input_id_list), torch.tensor(attn_mask_list) )\n",
    "    dataloader = DataLoader(tensor_dataset, sampler=SequentialSampler(tensor_dataset), batch_size=32)\n",
    "    \n",
    "    return dataloader"
   ]
  },
  {
   "cell_type": "code",
   "execution_count": 22,
   "metadata": {},
   "outputs": [
    {
     "name": "stderr",
     "output_type": "stream",
     "text": [
      "Truncation was not explicitly activated but `max_length` is provided a specific value, please use `truncation=True` to explicitly truncate examples to max length. Defaulting to 'longest_first' truncation strategy. If you encode pairs of sequences (GLUE-style) with the tokenizer you can select this strategy more precisely by providing a specific strategy to `truncation`.\n",
      "C:\\ProgramData\\Anaconda3\\lib\\site-packages\\transformers\\tokenization_utils_base.py:2184: FutureWarning: The `pad_to_max_length` argument is deprecated and will be removed in a future version, use `padding=True` or `padding='longest'` to pad to the longest sequence in the batch, or use `padding='max_length'` to pad to a max length. In this case, you can give a specific length with `max_length` (e.g. `max_length=45`) or leave max_length to None to pad to the maximal input size of the model (e.g. 512 for Bert).\n",
      "  warnings.warn(\n"
     ]
    }
   ],
   "source": [
    "reddit_dataloader_dict = {tick: dataloader_fnc(tick_df.cleaned_body, tick_df.cleaned_body.str.len().max())  for tick, tick_df in reddit_df_dict.items()}"
   ]
  },
  {
   "cell_type": "code",
   "execution_count": 23,
   "metadata": {},
   "outputs": [
    {
     "data": {
      "text/plain": [
       "{'AAPL': <torch.utils.data.dataloader.DataLoader at 0x248ce4bbbb0>,\n",
       " 'AMC': <torch.utils.data.dataloader.DataLoader at 0x248c6f48b50>,\n",
       " 'DKNG': <torch.utils.data.dataloader.DataLoader at 0x248c6f489d0>,\n",
       " 'TSLA': <torch.utils.data.dataloader.DataLoader at 0x248c6f48790>,\n",
       " 'AMD': <torch.utils.data.dataloader.DataLoader at 0x248c6f48760>,\n",
       " 'BABA': <torch.utils.data.dataloader.DataLoader at 0x248c6f48490>}"
      ]
     },
     "execution_count": 23,
     "metadata": {},
     "output_type": "execute_result"
    }
   ],
   "source": [
    "reddit_dataloader_dict"
   ]
  },
  {
   "cell_type": "code",
   "execution_count": 24,
   "metadata": {},
   "outputs": [],
   "source": [
    "twitter_dataloader_dict = {tick: dataloader_fnc(tick_df.cleaned_body, tick_df.cleaned_body.str.len().max())  for tick, tick_df in twitter_df_dict.items()}"
   ]
  },
  {
   "cell_type": "code",
   "execution_count": 25,
   "metadata": {},
   "outputs": [
    {
     "data": {
      "text/plain": [
       "{'AAPL': <torch.utils.data.dataloader.DataLoader at 0x249a610e880>,\n",
       " 'AMC': <torch.utils.data.dataloader.DataLoader at 0x249a610e430>,\n",
       " 'DKNG': <torch.utils.data.dataloader.DataLoader at 0x249a610eac0>,\n",
       " 'TSLA': <torch.utils.data.dataloader.DataLoader at 0x249a610ee80>,\n",
       " 'AMD': <torch.utils.data.dataloader.DataLoader at 0x249a610ef10>,\n",
       " 'BABA': <torch.utils.data.dataloader.DataLoader at 0x249a610ebe0>}"
      ]
     },
     "execution_count": 25,
     "metadata": {},
     "output_type": "execute_result"
    }
   ],
   "source": [
    "twitter_dataloader_dict"
   ]
  },
  {
   "cell_type": "markdown",
   "metadata": {},
   "source": [
    "## 6. Prediction"
   ]
  },
  {
   "cell_type": "markdown",
   "metadata": {},
   "source": [
    "### 6.1 Define a prediction function"
   ]
  },
  {
   "cell_type": "code",
   "execution_count": 26,
   "metadata": {},
   "outputs": [],
   "source": [
    "def prediction(bert_model, data):\n",
    "    #--put the model in eval mode\n",
    "    bert_model.eval()\n",
    "    \n",
    "    #--predict and collect output logits in a list\n",
    "    output_logit_list = []\n",
    "    \n",
    "    for batch in data:\n",
    "        temp_batch = tuple(b.to(device) for b in batch)                 #move the batch elements to GPU for faster performance\n",
    "        input_id_tensor = temp_batch[0]\n",
    "        attn_mask_tensor = temp_batch[1]\n",
    "#         print(input_id_tensor)\n",
    "#         print(attn_mask_tensor)\n",
    "        \n",
    "        with torch.no_grad():\n",
    "            output_logits = bert_model(input_id_tensor, attn_mask_tensor)\n",
    "            output_logit_list.append(output_logits[0])\n",
    "    \n",
    "    #--concatenate logits across batches and apply softmax\n",
    "    complete_logits = torch.cat(output_logit_list, dim=0)\n",
    "    softmax_probs = Func.softmax(complete_logits, dim=1).cpu().numpy() #convert to numpy\n",
    "    \n",
    "    return softmax_probs"
   ]
  },
  {
   "cell_type": "markdown",
   "metadata": {},
   "source": [
    "### 6.2 Predict sentiments for reddit data"
   ]
  },
  {
   "cell_type": "markdown",
   "metadata": {},
   "source": [
    "#### 6.2.1 Prediction for reddit comments\n",
    "- *Use the model to get positive and negative probabilities for each reddit comment*\n",
    "- *Group by date and compute average positive, negative and neutral scores for each day*"
   ]
  },
  {
   "cell_type": "code",
   "execution_count": 27,
   "metadata": {},
   "outputs": [],
   "source": [
    "for tick, tick_df in reddit_df_dict.items():\n",
    "    pred_df = pd.DataFrame(prediction(reqd_model, reddit_dataloader_dict[tick]), columns=['neutral', 'positive', 'negative'])\n",
    "    reddit_df_dict[tick] = pd.concat([tick_df, pred_df], axis=1)"
   ]
  },
  {
   "cell_type": "code",
   "execution_count": 28,
   "metadata": {},
   "outputs": [
    {
     "name": "stdout",
     "output_type": "stream",
     "text": [
      "    ticker YearMonDay   neutral  positive  negative\n",
      "0     AAPL    20Aug03  0.526287  0.027239  0.446474\n",
      "1     AAPL    20Aug05  0.550275  0.097208  0.352517\n",
      "2     AAPL    20Aug06  0.502716  0.030566  0.466717\n",
      "3     AAPL    20Aug10  0.491159  0.174718  0.334123\n",
      "4     AAPL    20Aug11  0.430312  0.008052  0.561636\n",
      "..     ...        ...       ...       ...       ...\n",
      "253   AAPL    21May24  0.308020  0.022472  0.669508\n",
      "254   AAPL    21May25  0.559654  0.077792  0.362554\n",
      "255   AAPL    21May26  0.402627  0.030910  0.566463\n",
      "256   AAPL    21May27  0.382373  0.035044  0.582582\n",
      "257   AAPL    21May28  0.451543  0.032395  0.516062\n",
      "\n",
      "[258 rows x 5 columns]\n",
      "    ticker YearMonDay   neutral  positive  negative\n",
      "0      AMC    20Aug05  0.010696  0.360304  0.629000\n",
      "1      AMC    20Aug13  0.729069  0.003219  0.267712\n",
      "2      AMC    20Aug17  0.066926  0.001672  0.931402\n",
      "3      AMC    20Aug19  0.926393  0.014905  0.058702\n",
      "4      AMC    20Aug25  0.904103  0.087432  0.008466\n",
      "..     ...        ...       ...       ...       ...\n",
      "175    AMC    21May26  0.583196  0.073859  0.342945\n",
      "176    AMC    21May27  0.522150  0.089547  0.388303\n",
      "177    AMC    21May28  0.522662  0.081438  0.395900\n",
      "178    AMC    21May29  0.354082  0.291396  0.354522\n",
      "179    AMC    21May30  0.936871  0.004628  0.058501\n",
      "\n",
      "[180 rows x 5 columns]\n",
      "    ticker YearMonDay   neutral  positive  negative\n",
      "0     DKNG    20Aug03  0.686859  0.021880  0.291261\n",
      "1     DKNG    20Aug05  0.028168  0.002398  0.969434\n",
      "2     DKNG    20Aug06  0.416205  0.004895  0.578900\n",
      "3     DKNG    20Aug10  0.170654  0.006425  0.822921\n",
      "4     DKNG    20Aug11  0.223758  0.002283  0.773959\n",
      "..     ...        ...       ...       ...       ...\n",
      "231   DKNG    21May24  0.521417  0.158374  0.320209\n",
      "232   DKNG    21May25  0.346890  0.053017  0.600093\n",
      "233   DKNG    21May26  0.392997  0.103778  0.503225\n",
      "234   DKNG    21May27  0.580635  0.051751  0.367614\n",
      "235   DKNG    21May28  0.766419  0.007568  0.226013\n",
      "\n",
      "[236 rows x 5 columns]\n",
      "    ticker YearMonDay   neutral  positive  negative\n",
      "0     TSLA    20Aug03  0.502539  0.060401  0.437060\n",
      "1     TSLA    20Aug05  0.771538  0.012305  0.216157\n",
      "2     TSLA    20Aug06  0.541504  0.024168  0.434329\n",
      "3     TSLA    20Aug10  0.314121  0.020152  0.665727\n",
      "4     TSLA    20Aug11  0.499133  0.079690  0.421177\n",
      "..     ...        ...       ...       ...       ...\n",
      "256   TSLA    21May24  0.566369  0.067426  0.366206\n",
      "257   TSLA    21May25  0.590059  0.051564  0.358377\n",
      "258   TSLA    21May26  0.549444  0.088506  0.362050\n",
      "259   TSLA    21May27  0.501604  0.090892  0.407504\n",
      "260   TSLA    21May28  0.635876  0.070789  0.293335\n",
      "\n",
      "[261 rows x 5 columns]\n",
      "    ticker YearMonDay   neutral  positive  negative\n",
      "0      AMD    20Aug03  0.487611  0.004511  0.507878\n",
      "1      AMD    20Aug05  0.451019  0.057458  0.491523\n",
      "2      AMD    20Aug06  0.479641  0.158564  0.361795\n",
      "3      AMD    20Aug10  0.380724  0.111279  0.507997\n",
      "4      AMD    20Aug11  0.371612  0.009054  0.619334\n",
      "..     ...        ...       ...       ...       ...\n",
      "251    AMD    21May25  0.499533  0.041595  0.458872\n",
      "252    AMD    21May26  0.435069  0.090992  0.473939\n",
      "253    AMD    21May27  0.489146  0.072740  0.438114\n",
      "254    AMD    21May28  0.462524  0.233362  0.304114\n",
      "255    AMD    21May29  0.010791  0.001184  0.988025\n",
      "\n",
      "[256 rows x 5 columns]\n",
      "    ticker YearMonDay   neutral  positive  negative\n",
      "0     BABA    20Aug03  0.623850  0.015237  0.360913\n",
      "1     BABA    20Aug05  0.923417  0.022855  0.053728\n",
      "2     BABA    20Aug06  0.941707  0.017208  0.041085\n",
      "3     BABA    20Aug10  0.501249  0.023247  0.475503\n",
      "4     BABA    20Aug11  0.520831  0.006811  0.472359\n",
      "..     ...        ...       ...       ...       ...\n",
      "230   BABA    21May24  0.369043  0.092175  0.538783\n",
      "231   BABA    21May25  0.525677  0.020716  0.453607\n",
      "232   BABA    21May26  0.201824  0.008262  0.789914\n",
      "233   BABA    21May27  0.591563  0.120951  0.287486\n",
      "234   BABA    21May28  0.513372  0.165534  0.321094\n",
      "\n",
      "[235 rows x 5 columns]\n"
     ]
    }
   ],
   "source": [
    "for tick, tick_df in reddit_df_dict.items():\n",
    "    tick_grouped = tick_df.groupby(['ticker', 'YearMonDay'])[['neutral', 'positive', 'negative']].mean().reset_index()\n",
    "    tick_grouped.to_pickle(f\"C:\\\\Users\\\\Karthik\\\\Desktop\\\\Dissertation\\\\Final_dfs\\\\reddit_{tick}_BERT_TwitterAirline_Uneven.pkl\")\n",
    "    print(tick_grouped)"
   ]
  },
  {
   "cell_type": "markdown",
   "metadata": {},
   "source": [
    "#### 6.2.2 Prediction for twitter comments\n",
    "- *Use the model to get positive and negative probabilities for each twitter comment*\n",
    "- *Group by date and compute average positive, negative and neutral scores for each day*"
   ]
  },
  {
   "cell_type": "code",
   "execution_count": 29,
   "metadata": {},
   "outputs": [],
   "source": [
    "for tick, tick_df in twitter_df_dict.items():\n",
    "    pred_df = pd.DataFrame(prediction(reqd_model, twitter_dataloader_dict[tick]), columns=['neutral', 'positive', 'negative'])\n",
    "    twitter_df_dict[tick] = pd.concat([tick_df, pred_df], axis=1)"
   ]
  },
  {
   "cell_type": "code",
   "execution_count": 30,
   "metadata": {},
   "outputs": [
    {
     "name": "stdout",
     "output_type": "stream",
     "text": [
      "    ticker YearMonDay   neutral  positive  negative\n",
      "0     AAPL    20Aug01  0.479722  0.095784  0.424494\n",
      "1     AAPL    20Aug02  0.584998  0.067164  0.347838\n",
      "2     AAPL    20Aug03  0.478685  0.052511  0.468804\n",
      "3     AAPL    20Aug04  0.531005  0.051978  0.417017\n",
      "4     AAPL    20Aug05  0.519848  0.070183  0.409970\n",
      "..     ...        ...       ...       ...       ...\n",
      "482   AAPL    21Sep26  0.373830  0.070840  0.555331\n",
      "483   AAPL    21Sep27  0.508977  0.039590  0.451433\n",
      "484   AAPL    21Sep28  0.485269  0.048223  0.466508\n",
      "485   AAPL    21Sep29  0.555761  0.057389  0.386850\n",
      "486   AAPL    21Sep30  0.515702  0.034823  0.449475\n",
      "\n",
      "[487 rows x 5 columns]\n",
      "    ticker YearMonDay   neutral  positive  negative\n",
      "0      AMC    20Aug01  0.452338  0.186543  0.361119\n",
      "1      AMC    20Aug02  0.428220  0.061719  0.510061\n",
      "2      AMC    20Aug03  0.712510  0.028898  0.258592\n",
      "3      AMC    20Aug04  0.665846  0.036564  0.297590\n",
      "4      AMC    20Aug05  0.537198  0.106366  0.356436\n",
      "..     ...        ...       ...       ...       ...\n",
      "482    AMC    21Sep26  0.393789  0.131082  0.475129\n",
      "483    AMC    21Sep27  0.426010  0.079150  0.494840\n",
      "484    AMC    21Sep28  0.346542  0.049836  0.603621\n",
      "485    AMC    21Sep29  0.386246  0.112370  0.501383\n",
      "486    AMC    21Sep30  0.418772  0.133236  0.447992\n",
      "\n",
      "[487 rows x 5 columns]\n",
      "    ticker YearMonDay   neutral  positive  negative\n",
      "0     DKNG    20Aug01  0.446188  0.072458  0.481354\n",
      "1     DKNG    20Aug02  0.395427  0.133867  0.470706\n",
      "2     DKNG    20Aug03  0.417701  0.078578  0.503721\n",
      "3     DKNG    20Aug04  0.477263  0.089062  0.433674\n",
      "4     DKNG    20Aug05  0.636878  0.056507  0.306615\n",
      "..     ...        ...       ...       ...       ...\n",
      "482   DKNG    21Sep26  0.641032  0.032746  0.326222\n",
      "483   DKNG    21Sep27  0.531368  0.079661  0.388971\n",
      "484   DKNG    21Sep28  0.442612  0.100342  0.457045\n",
      "485   DKNG    21Sep29  0.584539  0.062055  0.353405\n",
      "486   DKNG    21Sep30  0.455106  0.070743  0.474151\n",
      "\n",
      "[487 rows x 5 columns]\n",
      "    ticker YearMonDay   neutral  positive  negative\n",
      "0     TSLA    20Aug01  0.451838  0.072101  0.476062\n",
      "1     TSLA    20Aug02  0.495559  0.112536  0.391906\n",
      "2     TSLA    20Aug03  0.455846  0.071488  0.472667\n",
      "3     TSLA    20Aug04  0.443026  0.063133  0.493841\n",
      "4     TSLA    20Aug05  0.427249  0.083380  0.489371\n",
      "..     ...        ...       ...       ...       ...\n",
      "482   TSLA    21Sep26  0.446993  0.110456  0.442552\n",
      "483   TSLA    21Sep27  0.442036  0.114822  0.443142\n",
      "484   TSLA    21Sep28  0.434766  0.075358  0.489876\n",
      "485   TSLA    21Sep29  0.380790  0.084417  0.534793\n",
      "486   TSLA    21Sep30  0.403000  0.081819  0.515181\n",
      "\n",
      "[487 rows x 5 columns]\n",
      "    ticker YearMonDay   neutral  positive  negative\n",
      "0      AMD    20Aug05  0.790304  0.014621  0.195075\n",
      "1      AMD    20Aug08  0.925516  0.062872  0.011612\n",
      "2      AMD    20Dec03  0.644150  0.009559  0.346291\n",
      "3      AMD    20Dec04  0.975558  0.013970  0.010472\n",
      "4      AMD    20Dec09  0.030627  0.004363  0.965010\n",
      "..     ...        ...       ...       ...       ...\n",
      "237    AMD    21Sep26  0.617124  0.077489  0.305388\n",
      "238    AMD    21Sep27  0.488812  0.152624  0.358564\n",
      "239    AMD    21Sep28  0.542085  0.055108  0.402807\n",
      "240    AMD    21Sep29  0.588980  0.051132  0.359888\n",
      "241    AMD    21Sep30  0.540457  0.108792  0.350751\n",
      "\n",
      "[242 rows x 5 columns]\n",
      "    ticker YearMonDay   neutral  positive  negative\n",
      "0     BABA    20Aug01  0.576960  0.039280  0.383760\n",
      "1     BABA    20Aug02  0.614484  0.101507  0.284009\n",
      "2     BABA    20Aug03  0.526985  0.140021  0.332994\n",
      "3     BABA    20Aug04  0.546268  0.094046  0.359687\n",
      "4     BABA    20Aug05  0.572086  0.091683  0.336232\n",
      "..     ...        ...       ...       ...       ...\n",
      "482   BABA    21Sep26  0.451980  0.085610  0.462410\n",
      "483   BABA    21Sep27  0.528625  0.059839  0.411537\n",
      "484   BABA    21Sep28  0.493015  0.076233  0.430751\n",
      "485   BABA    21Sep29  0.455527  0.046095  0.498378\n",
      "486   BABA    21Sep30  0.455880  0.039406  0.504713\n",
      "\n",
      "[487 rows x 5 columns]\n"
     ]
    }
   ],
   "source": [
    "for tick, tick_df in twitter_df_dict.items():\n",
    "    tick_grouped = tick_df.groupby(['ticker', 'YearMonDay'])[['neutral', 'positive', 'negative']].mean().reset_index()\n",
    "    tick_grouped.to_pickle(f\"C:\\\\Users\\\\Karthik\\\\Desktop\\\\Dissertation\\\\Final_dfs\\\\twitter_{tick}_BERT_TwitterAirline_Uneven.pkl\")\n",
    "    print(tick_grouped)"
   ]
  },
  {
   "cell_type": "markdown",
   "metadata": {},
   "source": [
    "#### 6.2.3 Calculate combined predictions by combining both reddit and twitter sentiments"
   ]
  },
  {
   "cell_type": "code",
   "execution_count": 31,
   "metadata": {},
   "outputs": [
    {
     "name": "stdout",
     "output_type": "stream",
     "text": [
      "AAPL\n",
      "    ticker YearMonDay   neutral  positive  negative\n",
      "0     AAPL    20Aug01  0.479722  0.095784  0.424494\n",
      "1     AAPL    20Aug02  0.584998  0.067164  0.347838\n",
      "2     AAPL    20Aug03  0.484684  0.049326  0.465990\n",
      "3     AAPL    20Aug04  0.531005  0.051978  0.417017\n",
      "4     AAPL    20Aug05  0.521134  0.071325  0.407542\n",
      "..     ...        ...       ...       ...       ...\n",
      "499   AAPL    21Sep26  0.373830  0.070840  0.555331\n",
      "500   AAPL    21Sep27  0.508977  0.039590  0.451433\n",
      "501   AAPL    21Sep28  0.485269  0.048223  0.466508\n",
      "502   AAPL    21Sep29  0.555761  0.057389  0.386850\n",
      "503   AAPL    21Sep30  0.515702  0.034823  0.449475\n",
      "\n",
      "[504 rows x 5 columns]\n",
      "AMC\n",
      "    ticker YearMonDay   neutral  positive  negative\n",
      "0      AMC    20Aug01  0.452338  0.186543  0.361119\n",
      "1      AMC    20Aug02  0.428220  0.061719  0.510061\n",
      "2      AMC    20Aug03  0.712510  0.028898  0.258592\n",
      "3      AMC    20Aug04  0.665846  0.036564  0.297590\n",
      "4      AMC    20Aug05  0.489334  0.129452  0.381214\n",
      "..     ...        ...       ...       ...       ...\n",
      "488    AMC    21Sep26  0.393789  0.131082  0.475129\n",
      "489    AMC    21Sep27  0.426010  0.079150  0.494840\n",
      "490    AMC    21Sep28  0.346542  0.049836  0.603621\n",
      "491    AMC    21Sep29  0.386246  0.112370  0.501383\n",
      "492    AMC    21Sep30  0.418772  0.133236  0.447992\n",
      "\n",
      "[493 rows x 5 columns]\n",
      "DKNG\n",
      "    ticker YearMonDay   neutral  positive  negative\n",
      "0     DKNG    20Aug01  0.446188  0.072458  0.481354\n",
      "1     DKNG    20Aug02  0.395427  0.133867  0.470706\n",
      "2     DKNG    20Aug03  0.424603  0.077124  0.498273\n",
      "3     DKNG    20Aug04  0.477263  0.089062  0.433674\n",
      "4     DKNG    20Aug05  0.626199  0.055558  0.318243\n",
      "..     ...        ...       ...       ...       ...\n",
      "500   DKNG    21Sep26  0.641032  0.032746  0.326222\n",
      "501   DKNG    21Sep27  0.531368  0.079661  0.388971\n",
      "502   DKNG    21Sep28  0.442612  0.100342  0.457045\n",
      "503   DKNG    21Sep29  0.584539  0.062055  0.353405\n",
      "504   DKNG    21Sep30  0.455106  0.070743  0.474151\n",
      "\n",
      "[505 rows x 5 columns]\n",
      "TSLA\n",
      "    ticker YearMonDay   neutral  positive  negative\n",
      "0     TSLA    20Aug01  0.451838  0.072101  0.476062\n",
      "1     TSLA    20Aug02  0.495559  0.112536  0.391906\n",
      "2     TSLA    20Aug03  0.458623  0.070828  0.470549\n",
      "3     TSLA    20Aug04  0.443026  0.063133  0.493841\n",
      "4     TSLA    20Aug05  0.432595  0.082276  0.485129\n",
      "..     ...        ...       ...       ...       ...\n",
      "500   TSLA    21Sep26  0.446993  0.110456  0.442552\n",
      "501   TSLA    21Sep27  0.442036  0.114822  0.443142\n",
      "502   TSLA    21Sep28  0.434766  0.075358  0.489876\n",
      "503   TSLA    21Sep29  0.380790  0.084417  0.534793\n",
      "504   TSLA    21Sep30  0.403000  0.081819  0.515181\n",
      "\n",
      "[505 rows x 5 columns]\n",
      "AMD\n",
      "    ticker YearMonDay   neutral  positive  negative\n",
      "0      AMD    20Aug03  0.487611  0.004511  0.507878\n",
      "1      AMD    20Aug05  0.483332  0.053379  0.463290\n",
      "2      AMD    20Aug06  0.479641  0.158564  0.361795\n",
      "3      AMD    20Aug08  0.925516  0.062872  0.011612\n",
      "4      AMD    20Aug10  0.380724  0.111279  0.507997\n",
      "..     ...        ...       ...       ...       ...\n",
      "384    AMD    21Sep26  0.617124  0.077489  0.305388\n",
      "385    AMD    21Sep27  0.488812  0.152624  0.358564\n",
      "386    AMD    21Sep28  0.542085  0.055108  0.402807\n",
      "387    AMD    21Sep29  0.588980  0.051132  0.359888\n",
      "388    AMD    21Sep30  0.540457  0.108792  0.350751\n",
      "\n",
      "[389 rows x 5 columns]\n",
      "BABA\n",
      "    ticker YearMonDay   neutral  positive  negative\n",
      "0     BABA    20Aug01  0.576960  0.039280  0.383760\n",
      "1     BABA    20Aug02  0.614484  0.101507  0.284009\n",
      "2     BABA    20Aug03  0.532249  0.133239  0.334512\n",
      "3     BABA    20Aug04  0.546268  0.094046  0.359687\n",
      "4     BABA    20Aug05  0.591337  0.087911  0.320752\n",
      "..     ...        ...       ...       ...       ...\n",
      "501   BABA    21Sep26  0.451980  0.085610  0.462410\n",
      "502   BABA    21Sep27  0.528625  0.059839  0.411537\n",
      "503   BABA    21Sep28  0.493015  0.076233  0.430751\n",
      "504   BABA    21Sep29  0.455527  0.046095  0.498378\n",
      "505   BABA    21Sep30  0.455880  0.039406  0.504713\n",
      "\n",
      "[506 rows x 5 columns]\n"
     ]
    }
   ],
   "source": [
    "for ticker in tick_list:\n",
    "    print(ticker)\n",
    "    reddit_sentis = reddit_df_dict[ticker][['ticker', 'YearMonDay', 'neutral', 'positive', 'negative']]\n",
    "    twitter_sentis = twitter_df_dict[ticker][['ticker', 'YearMonDay', 'neutral', 'positive', 'negative']]\n",
    "    \n",
    "#     print(reddit_sentis,twitter_sentis,pd.concat([reddit_sentis,twitter_sentis], axis=0,ignore_index=True))\n",
    "    combined_sentis = pd.concat([reddit_sentis,twitter_sentis], axis=0,ignore_index=True)\n",
    "    combined_sentis_grouped = combined_sentis.groupby(['ticker', 'YearMonDay'])[['neutral', 'positive', 'negative']].mean().reset_index()\n",
    "    combined_sentis_grouped.to_pickle(f\"C:\\\\Users\\\\Karthik\\\\Desktop\\\\Dissertation\\\\Final_dfs\\\\combined_{ticker}_BERT_TwitterAirline_Uneven.pkl\")\n",
    "    print(combined_sentis_grouped)"
   ]
  },
  {
   "cell_type": "markdown",
   "metadata": {},
   "source": [
    "## References\n",
    "- https://machinelearningmastery.com/exploding-gradients-in-neural-networks/\n",
    "- https://neptune.ai/blog/understanding-gradient-clipping-and-how-it-can-fix-exploding-gradients-problem"
   ]
  },
  {
   "cell_type": "code",
   "execution_count": null,
   "metadata": {},
   "outputs": [],
   "source": []
  }
 ],
 "metadata": {
  "kernelspec": {
   "display_name": "Python 3",
   "language": "python",
   "name": "python3"
  },
  "language_info": {
   "codemirror_mode": {
    "name": "ipython",
    "version": 3
   },
   "file_extension": ".py",
   "mimetype": "text/x-python",
   "name": "python",
   "nbconvert_exporter": "python",
   "pygments_lexer": "ipython3",
   "version": "3.8.5"
  }
 },
 "nbformat": 4,
 "nbformat_minor": 4
}
